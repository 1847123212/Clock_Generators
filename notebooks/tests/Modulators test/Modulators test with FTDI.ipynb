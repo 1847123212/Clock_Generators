{
 "cells": [
  {
   "cell_type": "markdown",
   "metadata": {},
   "source": [
    "# AD9833 Modulators test with FTDI\n",
    "https://www.analog.com/media/en/technical-documentation/data-sheets/ad9833.pdf"
   ]
  },
  {
   "cell_type": "code",
   "execution_count": 1,
   "metadata": {},
   "outputs": [],
   "source": [
    "import os, sys\n",
    "\n",
    "def gen_relative_path(target_path): \n",
    "    \n",
    "    def del_same_parents(target_path, current_path):\n",
    "        if len(target_path) * len(current_path) > 0:\n",
    "            if target_path[0] == current_path[0]:\n",
    "                target_path.pop(0)\n",
    "                current_path.pop(0)\n",
    "                del_same_parents(target_path, current_path)\n",
    "            \n",
    "    current_path = os.getcwd().replace('\\\\', '/').split('/')\n",
    "    target_path = target_path.replace('\\\\', '/').split('/')\n",
    "    del_same_parents(target_path, current_path)\n",
    "    \n",
    "    return ['..'] * len(current_path) + target_path\n",
    "\n",
    "\n",
    "def append_source_relative_path(source_relative_path):\n",
    "    sys.path.append(os.sep.join(source_relative_path))"
   ]
  },
  {
   "cell_type": "code",
   "execution_count": 2,
   "metadata": {},
   "outputs": [],
   "source": [
    "# paths = ['']\n",
    "# paths = [gen_relative_path(p) for p in paths]\n",
    "# print(paths)"
   ]
  },
  {
   "cell_type": "code",
   "execution_count": 3,
   "metadata": {},
   "outputs": [],
   "source": [
    "paths = [['..', '..', '..', '..', '..', '..', 'Signal Generators', 'bitbucket', 'github', 'codes'],\n",
    "         ['..', '..', '..', '..', '..', '..', '..', '已完成', 'Bridges', 'bitbucket', 'github', 'codes'], \n",
    "         ['..', '..', '..', '..', '..', '..', 'Utilities', 'bitbucket', 'github', 'codes'],\n",
    "         ['..', '..', '..', 'codes']]\n",
    "\n",
    "for path in paths:\n",
    "    append_source_relative_path(path)"
   ]
  },
  {
   "cell_type": "code",
   "execution_count": 4,
   "metadata": {},
   "outputs": [
    {
     "name": "stdout",
     "output_type": "stream",
     "text": [
      "Populating the interactive namespace from numpy and matplotlib\n"
     ]
    }
   ],
   "source": [
    "%pylab inline \n",
    "\n",
    "from signal_generators import modulators  \n",
    "from clock_generators.si535x.si5351 import Si5351 \n",
    "from utilities.adapters import peripherals"
   ]
  },
  {
   "cell_type": "markdown",
   "metadata": {},
   "source": [
    "## Debug mode?"
   ]
  },
  {
   "cell_type": "code",
   "execution_count": 5,
   "metadata": {
    "scrolled": false
   },
   "outputs": [],
   "source": [
    "cls = Si5351\n",
    "\n",
    "cls.DEBUG_MODE_SHOW_BUS_DATA = False         # whether to show bus data. \n",
    "cls.DEBUG_MODE_PRINT_REGISTER = False        # whether to print registers. "
   ]
  },
  {
   "cell_type": "markdown",
   "metadata": {},
   "source": [
    "## Generators and Modulators"
   ]
  },
  {
   "cell_type": "code",
   "execution_count": 6,
   "metadata": {},
   "outputs": [],
   "source": [
    "with_hardware_device = True\n",
    "\n",
    "if with_hardware_device:\n",
    "    _i2c = peripherals.I2C.get_Ftdi_i2c() \n",
    "    \n",
    "else:\n",
    "    _i2c =  None  # using None for testing without actual hardware device.\n",
    "\n",
    "si = cls(_i2c)\n",
    "si2 = cls(_i2c)"
   ]
  },
  {
   "cell_type": "code",
   "execution_count": 7,
   "metadata": {},
   "outputs": [
    {
     "name": "stdout",
     "output_type": "stream",
     "text": [
      "Failed in setting multisynth 0 to freq 100000 x 1 = 100000.\n",
      "Failed in setting multisynth 0 to freq 100000 x 2 = 200000.\n",
      "Failed in setting multisynth 0 to freq 100000 x 4 = 400000.\n",
      "Failed in setting multisynth 1 to freq 101000 x 1 = 101000.\n",
      "Failed in setting multisynth 1 to freq 101000 x 2 = 202000.\n",
      "Failed in setting multisynth 1 to freq 101000 x 4 = 404000.\n",
      "Failed in setting multisynth 0 to freq 99000 x 1 = 99000.\n",
      "Failed in setting multisynth 0 to freq 99000 x 2 = 198000.\n",
      "Failed in setting multisynth 0 to freq 99000 x 4 = 396000.\n",
      "Failed in setting multisynth 0 to freq 100000 x 1 = 100000.\n",
      "Failed in setting multisynth 0 to freq 100000 x 2 = 200000.\n",
      "Failed in setting multisynth 0 to freq 100000 x 4 = 400000.\n",
      "Failed in setting multisynth 0 to freq 100000 x 1 = 100000.\n",
      "Failed in setting multisynth 0 to freq 100000 x 2 = 200000.\n",
      "Failed in setting multisynth 0 to freq 100000 x 4 = 400000.\n",
      "Failed in setting multisynth 0 to freq 100000 x 1 = 100000.\n",
      "Failed in setting multisynth 0 to freq 100000 x 2 = 200000.\n",
      "Failed in setting multisynth 0 to freq 100000 x 4 = 400000.\n",
      "Failed in setting multisynth 0 to freq 100000 x 1 = 100000.\n",
      "Failed in setting multisynth 0 to freq 100000 x 2 = 200000.\n",
      "Failed in setting multisynth 0 to freq 100000 x 4 = 400000.\n",
      "Failed in setting multisynth 0 to freq 100000 x 1 = 100000.\n",
      "Failed in setting multisynth 0 to freq 100000 x 2 = 200000.\n",
      "Failed in setting multisynth 0 to freq 100000 x 4 = 400000.\n",
      "Failed in setting multisynth 0 to freq 100000 x 1 = 100000.\n",
      "Failed in setting multisynth 0 to freq 100000 x 2 = 200000.\n",
      "Failed in setting multisynth 0 to freq 100000 x 4 = 400000.\n",
      "Failed in setting multisynth 0 to freq 100000 x 1 = 100000.\n",
      "Failed in setting multisynth 0 to freq 100000 x 2 = 200000.\n",
      "Failed in setting multisynth 0 to freq 100000 x 4 = 400000.\n",
      "Failed in setting multisynth 0 to freq 100000 x 1 = 100000.\n",
      "Failed in setting multisynth 0 to freq 100000 x 2 = 200000.\n",
      "Failed in setting multisynth 0 to freq 100000 x 4 = 400000.\n",
      "Failed in setting multisynth 0 to freq 100000 x 1 = 100000.\n",
      "Failed in setting multisynth 0 to freq 100000 x 2 = 200000.\n",
      "Failed in setting multisynth 0 to freq 100000 x 4 = 400000.\n",
      "Failed in setting multisynth 0 to freq 40000 x 1 = 40000.\n",
      "Failed in setting multisynth 0 to freq 40000 x 2 = 80000.\n",
      "Failed in setting multisynth 0 to freq 40000 x 4 = 160000.\n",
      "Failed in setting multisynth 0 to freq 40000 x 8 = 320000.\n",
      "Failed in setting multisynth 0 to freq 100000 x 1 = 100000.\n",
      "Failed in setting multisynth 0 to freq 100000 x 2 = 200000.\n",
      "Failed in setting multisynth 0 to freq 100000 x 4 = 400000.\n",
      "Failed in setting multisynth 0 to freq 100000 x 1 = 100000.\n",
      "Failed in setting multisynth 0 to freq 100000 x 2 = 200000.\n",
      "Failed in setting multisynth 0 to freq 100000 x 4 = 400000.\n",
      "Failed in setting multisynth 0 to freq 100000 x 1 = 100000.\n",
      "Failed in setting multisynth 0 to freq 100000 x 2 = 200000.\n",
      "Failed in setting multisynth 0 to freq 100000 x 4 = 400000.\n"
     ]
    }
   ],
   "source": [
    "bfsk = modulators.BFSK(si)\n",
    "bpsk = modulators.BPSK(si)\n",
    "dtmf = modulators.DTMF((si, si2))\n",
    "fm = modulators.FM(si)\n",
    "iq = modulators.IQ((si, si2))\n",
    "ook = modulators.OOK(si)\n",
    "pm = modulators.PM(si)\n",
    "pwm = modulators.PWM(si)\n",
    "qpsk = modulators.QPSK(si)"
   ]
  },
  {
   "cell_type": "markdown",
   "metadata": {},
   "source": [
    "## Testing data sequence"
   ]
  },
  {
   "cell_type": "code",
   "execution_count": 8,
   "metadata": {},
   "outputs": [],
   "source": [
    "samples_size = 10\n",
    "duration = 0.1\n",
    "\n",
    "symbols = np.random.randint(2, size = samples_size)\n",
    "digital_sequence = [(symbol, duration) for symbol in symbols] \n",
    "\n",
    "\n",
    "symbols = np.random.uniform(-1, 1, size = samples_size).round(5)\n",
    "analog_sequence = [(symbol, duration) for symbol in symbols] \n",
    "\n",
    "\n",
    "symbols = np.random.choice(['1', '2', '3', 'A', '4', '5', '6', 'B', '7', '8', '9', 'C', '*', '0', '#', 'D'], \n",
    "                           size = samples_size)\n",
    "dtmf_sequence = [(symbol, duration) for symbol in symbols] \n",
    "\n",
    "\n",
    "symbols = np.random.choice([0, 1, 2, 3], size = samples_size)\n",
    "quadrature_sequence = [(symbol, duration) for symbol in symbols] "
   ]
  },
  {
   "cell_type": "markdown",
   "metadata": {},
   "source": [
    "## Modulators test"
   ]
  },
  {
   "cell_type": "code",
   "execution_count": 9,
   "metadata": {},
   "outputs": [],
   "source": [
    "def dump(m):\n",
    "    m._device.dump()"
   ]
  },
  {
   "cell_type": "code",
   "execution_count": 10,
   "metadata": {},
   "outputs": [
    {
     "name": "stdout",
     "output_type": "stream",
     "text": [
      "Failed in setting multisynth 0 to freq 100000 x 1 = 100000.\n",
      "Failed in setting multisynth 0 to freq 100000 x 2 = 200000.\n",
      "Failed in setting multisynth 0 to freq 100000 x 4 = 400000.\n",
      "Failed in setting multisynth 1 to freq 101000 x 1 = 101000.\n",
      "Failed in setting multisynth 1 to freq 101000 x 2 = 202000.\n",
      "Failed in setting multisynth 1 to freq 101000 x 4 = 404000.\n",
      "Failed in setting multisynth 0 to freq 99000 x 1 = 99000.\n",
      "Failed in setting multisynth 0 to freq 99000 x 2 = 198000.\n",
      "Failed in setting multisynth 0 to freq 99000 x 4 = 396000.\n"
     ]
    },
    {
     "ename": "AttributeError",
     "evalue": "'Si5351' object has no attribute 'select_freq_source'",
     "output_type": "error",
     "traceback": [
      "\u001b[1;31m---------------------------------------------------------------------------\u001b[0m",
      "\u001b[1;31mAttributeError\u001b[0m                            Traceback (most recent call last)",
      "\u001b[1;32m<ipython-input-10-665d82c05450>\u001b[0m in \u001b[0;36m<module>\u001b[1;34m\u001b[0m\n\u001b[1;32m----> 1\u001b[1;33m \u001b[0mbfsk\u001b[0m\u001b[1;33m.\u001b[0m\u001b[0msend_sequence\u001b[0m\u001b[1;33m(\u001b[0m\u001b[0mdigital_sequence\u001b[0m\u001b[1;33m)\u001b[0m\u001b[1;33m\u001b[0m\u001b[1;33m\u001b[0m\u001b[0m\n\u001b[0m",
      "\u001b[1;32m~\\Dropbox\\Coding\\notebooks\\專案\\待處理\\Signal Generators\\bitbucket\\github\\codes\\signal_generators\\modulators.py\u001b[0m in \u001b[0;36msend_sequence\u001b[1;34m(self, sequence)\u001b[0m\n\u001b[0;32m     70\u001b[0m         \u001b[1;32mtry\u001b[0m\u001b[1;33m:\u001b[0m\u001b[1;33m\u001b[0m\u001b[1;33m\u001b[0m\u001b[0m\n\u001b[0;32m     71\u001b[0m             \u001b[1;32mfor\u001b[0m \u001b[1;33m(\u001b[0m\u001b[0msymbol\u001b[0m\u001b[1;33m,\u001b[0m \u001b[0mduration\u001b[0m\u001b[1;33m)\u001b[0m \u001b[1;32min\u001b[0m \u001b[0msequence\u001b[0m\u001b[1;33m:\u001b[0m\u001b[1;33m\u001b[0m\u001b[1;33m\u001b[0m\u001b[0m\n\u001b[1;32m---> 72\u001b[1;33m                 \u001b[0mself\u001b[0m\u001b[1;33m.\u001b[0m\u001b[0msymbol\u001b[0m \u001b[1;33m=\u001b[0m \u001b[0msymbol\u001b[0m\u001b[1;33m\u001b[0m\u001b[1;33m\u001b[0m\u001b[0m\n\u001b[0m\u001b[0;32m     73\u001b[0m                 \u001b[0mtime\u001b[0m\u001b[1;33m.\u001b[0m\u001b[0msleep\u001b[0m\u001b[1;33m(\u001b[0m\u001b[0mduration\u001b[0m \u001b[1;33m*\u001b[0m \u001b[0mself\u001b[0m\u001b[1;33m.\u001b[0m\u001b[0mtime_ratio\u001b[0m\u001b[1;33m)\u001b[0m\u001b[1;33m\u001b[0m\u001b[1;33m\u001b[0m\u001b[0m\n\u001b[0;32m     74\u001b[0m         \u001b[1;32mexcept\u001b[0m \u001b[0mKeyboardInterrupt\u001b[0m\u001b[1;33m:\u001b[0m\u001b[1;33m\u001b[0m\u001b[1;33m\u001b[0m\u001b[0m\n",
      "\u001b[1;32m~\\Dropbox\\Coding\\notebooks\\專案\\待處理\\Signal Generators\\bitbucket\\github\\codes\\signal_generators\\modulators.py\u001b[0m in \u001b[0;36msymbol\u001b[1;34m(self, symbol)\u001b[0m\n\u001b[0;32m     49\u001b[0m         \u001b[1;32massert\u001b[0m \u001b[0msymbol\u001b[0m \u001b[1;32min\u001b[0m \u001b[0mself\u001b[0m\u001b[1;33m.\u001b[0m\u001b[0mSYMBOLS\u001b[0m\u001b[1;33m,\u001b[0m \u001b[1;34m'Symbol must be in {}'\u001b[0m\u001b[1;33m.\u001b[0m\u001b[0mformat\u001b[0m\u001b[1;33m(\u001b[0m\u001b[0mself\u001b[0m\u001b[1;33m.\u001b[0m\u001b[0mSYMBOLS\u001b[0m\u001b[1;33m)\u001b[0m\u001b[1;33m\u001b[0m\u001b[1;33m\u001b[0m\u001b[0m\n\u001b[0;32m     50\u001b[0m         \u001b[0mself\u001b[0m\u001b[1;33m.\u001b[0m\u001b[0m_symbol\u001b[0m \u001b[1;33m=\u001b[0m \u001b[0msymbol\u001b[0m\u001b[1;33m\u001b[0m\u001b[1;33m\u001b[0m\u001b[0m\n\u001b[1;32m---> 51\u001b[1;33m         \u001b[0mself\u001b[0m\u001b[1;33m.\u001b[0m\u001b[0m_process_symbol\u001b[0m\u001b[1;33m(\u001b[0m\u001b[0msymbol\u001b[0m\u001b[1;33m)\u001b[0m\u001b[1;33m\u001b[0m\u001b[1;33m\u001b[0m\u001b[0m\n\u001b[0m\u001b[0;32m     52\u001b[0m \u001b[1;33m\u001b[0m\u001b[0m\n\u001b[0;32m     53\u001b[0m \u001b[1;33m\u001b[0m\u001b[0m\n",
      "\u001b[1;32m~\\Dropbox\\Coding\\notebooks\\專案\\待處理\\Signal Generators\\bitbucket\\github\\codes\\signal_generators\\modulators.py\u001b[0m in \u001b[0;36m_process_symbol\u001b[1;34m(self, symbol)\u001b[0m\n\u001b[0;32m    152\u001b[0m \u001b[1;33m\u001b[0m\u001b[0m\n\u001b[0;32m    153\u001b[0m     \u001b[1;32mdef\u001b[0m \u001b[0m_process_symbol\u001b[0m\u001b[1;33m(\u001b[0m\u001b[0mself\u001b[0m\u001b[1;33m,\u001b[0m \u001b[0msymbol\u001b[0m\u001b[1;33m)\u001b[0m\u001b[1;33m:\u001b[0m\u001b[1;33m\u001b[0m\u001b[1;33m\u001b[0m\u001b[0m\n\u001b[1;32m--> 154\u001b[1;33m         \u001b[0mself\u001b[0m\u001b[1;33m.\u001b[0m\u001b[0m_device\u001b[0m\u001b[1;33m.\u001b[0m\u001b[0mselect_freq_source\u001b[0m\u001b[1;33m(\u001b[0m\u001b[0midx\u001b[0m \u001b[1;33m=\u001b[0m \u001b[0msymbol\u001b[0m\u001b[1;33m)\u001b[0m\u001b[1;33m\u001b[0m\u001b[1;33m\u001b[0m\u001b[0m\n\u001b[0m\u001b[0;32m    155\u001b[0m \u001b[1;33m\u001b[0m\u001b[0m\n\u001b[0;32m    156\u001b[0m \u001b[1;33m\u001b[0m\u001b[0m\n",
      "\u001b[1;31mAttributeError\u001b[0m: 'Si5351' object has no attribute 'select_freq_source'"
     ]
    }
   ],
   "source": [
    "bfsk.send_sequence(digital_sequence)"
   ]
  },
  {
   "cell_type": "code",
   "execution_count": 11,
   "metadata": {},
   "outputs": [
    {
     "name": "stdout",
     "output_type": "stream",
     "text": [
      "Failed in setting multisynth 0 to freq 100000 x 1 = 100000.\n",
      "Failed in setting multisynth 0 to freq 100000 x 2 = 200000.\n",
      "Failed in setting multisynth 0 to freq 100000 x 4 = 400000.\n"
     ]
    },
    {
     "ename": "AttributeError",
     "evalue": "'Si5351' object has no attribute 'select_phase_source'",
     "output_type": "error",
     "traceback": [
      "\u001b[1;31m---------------------------------------------------------------------------\u001b[0m",
      "\u001b[1;31mAttributeError\u001b[0m                            Traceback (most recent call last)",
      "\u001b[1;32m<ipython-input-11-d00ee361973f>\u001b[0m in \u001b[0;36m<module>\u001b[1;34m\u001b[0m\n\u001b[1;32m----> 1\u001b[1;33m \u001b[0mbpsk\u001b[0m\u001b[1;33m.\u001b[0m\u001b[0msend_sequence\u001b[0m\u001b[1;33m(\u001b[0m\u001b[0mdigital_sequence\u001b[0m\u001b[1;33m)\u001b[0m\u001b[1;33m\u001b[0m\u001b[1;33m\u001b[0m\u001b[0m\n\u001b[0m",
      "\u001b[1;32m~\\Dropbox\\Coding\\notebooks\\專案\\待處理\\Signal Generators\\bitbucket\\github\\codes\\signal_generators\\modulators.py\u001b[0m in \u001b[0;36msend_sequence\u001b[1;34m(self, sequence)\u001b[0m\n\u001b[0;32m     70\u001b[0m         \u001b[1;32mtry\u001b[0m\u001b[1;33m:\u001b[0m\u001b[1;33m\u001b[0m\u001b[1;33m\u001b[0m\u001b[0m\n\u001b[0;32m     71\u001b[0m             \u001b[1;32mfor\u001b[0m \u001b[1;33m(\u001b[0m\u001b[0msymbol\u001b[0m\u001b[1;33m,\u001b[0m \u001b[0mduration\u001b[0m\u001b[1;33m)\u001b[0m \u001b[1;32min\u001b[0m \u001b[0msequence\u001b[0m\u001b[1;33m:\u001b[0m\u001b[1;33m\u001b[0m\u001b[1;33m\u001b[0m\u001b[0m\n\u001b[1;32m---> 72\u001b[1;33m                 \u001b[0mself\u001b[0m\u001b[1;33m.\u001b[0m\u001b[0msymbol\u001b[0m \u001b[1;33m=\u001b[0m \u001b[0msymbol\u001b[0m\u001b[1;33m\u001b[0m\u001b[1;33m\u001b[0m\u001b[0m\n\u001b[0m\u001b[0;32m     73\u001b[0m                 \u001b[0mtime\u001b[0m\u001b[1;33m.\u001b[0m\u001b[0msleep\u001b[0m\u001b[1;33m(\u001b[0m\u001b[0mduration\u001b[0m \u001b[1;33m*\u001b[0m \u001b[0mself\u001b[0m\u001b[1;33m.\u001b[0m\u001b[0mtime_ratio\u001b[0m\u001b[1;33m)\u001b[0m\u001b[1;33m\u001b[0m\u001b[1;33m\u001b[0m\u001b[0m\n\u001b[0;32m     74\u001b[0m         \u001b[1;32mexcept\u001b[0m \u001b[0mKeyboardInterrupt\u001b[0m\u001b[1;33m:\u001b[0m\u001b[1;33m\u001b[0m\u001b[1;33m\u001b[0m\u001b[0m\n",
      "\u001b[1;32m~\\Dropbox\\Coding\\notebooks\\專案\\待處理\\Signal Generators\\bitbucket\\github\\codes\\signal_generators\\modulators.py\u001b[0m in \u001b[0;36msymbol\u001b[1;34m(self, symbol)\u001b[0m\n\u001b[0;32m     49\u001b[0m         \u001b[1;32massert\u001b[0m \u001b[0msymbol\u001b[0m \u001b[1;32min\u001b[0m \u001b[0mself\u001b[0m\u001b[1;33m.\u001b[0m\u001b[0mSYMBOLS\u001b[0m\u001b[1;33m,\u001b[0m \u001b[1;34m'Symbol must be in {}'\u001b[0m\u001b[1;33m.\u001b[0m\u001b[0mformat\u001b[0m\u001b[1;33m(\u001b[0m\u001b[0mself\u001b[0m\u001b[1;33m.\u001b[0m\u001b[0mSYMBOLS\u001b[0m\u001b[1;33m)\u001b[0m\u001b[1;33m\u001b[0m\u001b[1;33m\u001b[0m\u001b[0m\n\u001b[0;32m     50\u001b[0m         \u001b[0mself\u001b[0m\u001b[1;33m.\u001b[0m\u001b[0m_symbol\u001b[0m \u001b[1;33m=\u001b[0m \u001b[0msymbol\u001b[0m\u001b[1;33m\u001b[0m\u001b[1;33m\u001b[0m\u001b[0m\n\u001b[1;32m---> 51\u001b[1;33m         \u001b[0mself\u001b[0m\u001b[1;33m.\u001b[0m\u001b[0m_process_symbol\u001b[0m\u001b[1;33m(\u001b[0m\u001b[0msymbol\u001b[0m\u001b[1;33m)\u001b[0m\u001b[1;33m\u001b[0m\u001b[1;33m\u001b[0m\u001b[0m\n\u001b[0m\u001b[0;32m     52\u001b[0m \u001b[1;33m\u001b[0m\u001b[0m\n\u001b[0;32m     53\u001b[0m \u001b[1;33m\u001b[0m\u001b[0m\n",
      "\u001b[1;32m~\\Dropbox\\Coding\\notebooks\\專案\\待處理\\Signal Generators\\bitbucket\\github\\codes\\signal_generators\\modulators.py\u001b[0m in \u001b[0;36m_process_symbol\u001b[1;34m(self, symbol)\u001b[0m\n\u001b[0;32m    178\u001b[0m \u001b[1;33m\u001b[0m\u001b[0m\n\u001b[0;32m    179\u001b[0m     \u001b[1;32mdef\u001b[0m \u001b[0m_process_symbol\u001b[0m\u001b[1;33m(\u001b[0m\u001b[0mself\u001b[0m\u001b[1;33m,\u001b[0m \u001b[0msymbol\u001b[0m\u001b[1;33m)\u001b[0m\u001b[1;33m:\u001b[0m\u001b[1;33m\u001b[0m\u001b[1;33m\u001b[0m\u001b[0m\n\u001b[1;32m--> 180\u001b[1;33m         \u001b[0mself\u001b[0m\u001b[1;33m.\u001b[0m\u001b[0m_device\u001b[0m\u001b[1;33m.\u001b[0m\u001b[0mselect_phase_source\u001b[0m\u001b[1;33m(\u001b[0m\u001b[0midx\u001b[0m \u001b[1;33m=\u001b[0m \u001b[0msymbol\u001b[0m\u001b[1;33m)\u001b[0m\u001b[1;33m\u001b[0m\u001b[1;33m\u001b[0m\u001b[0m\n\u001b[0m\u001b[0;32m    181\u001b[0m \u001b[1;33m\u001b[0m\u001b[0m\n\u001b[0;32m    182\u001b[0m \u001b[1;33m\u001b[0m\u001b[0m\n",
      "\u001b[1;31mAttributeError\u001b[0m: 'Si5351' object has no attribute 'select_phase_source'"
     ]
    }
   ],
   "source": [
    "bpsk.send_sequence(digital_sequence)"
   ]
  },
  {
   "cell_type": "code",
   "execution_count": 12,
   "metadata": {},
   "outputs": [
    {
     "name": "stdout",
     "output_type": "stream",
     "text": [
      "Failed in setting multisynth 0 to freq 40000 x 1 = 40000.\n",
      "Failed in setting multisynth 0 to freq 40000 x 2 = 80000.\n",
      "Failed in setting multisynth 0 to freq 40000 x 4 = 160000.\n",
      "Failed in setting multisynth 0 to freq 40000 x 8 = 320000.\n"
     ]
    }
   ],
   "source": [
    "ook.send_sequence(digital_sequence)"
   ]
  },
  {
   "cell_type": "code",
   "execution_count": 13,
   "metadata": {},
   "outputs": [
    {
     "name": "stdout",
     "output_type": "stream",
     "text": [
      "Failed in setting multisynth 0 to freq 100000 x 1 = 100000.\n",
      "Failed in setting multisynth 0 to freq 100000 x 2 = 200000.\n",
      "Failed in setting multisynth 0 to freq 100000 x 4 = 400000.\n",
      "Failed in setting multisynth 0 to freq 90080.4 x 1 = 90080.4.\n",
      "Failed in setting multisynth 0 to freq 90080.4 x 2 = 180160.8.\n",
      "Failed in setting multisynth 0 to freq 90080.4 x 4 = 360321.6.\n",
      "Failed in setting multisynth 0 to freq 97632.9 x 1 = 97632.9.\n",
      "Failed in setting multisynth 0 to freq 97632.9 x 2 = 195265.8.\n",
      "Failed in setting multisynth 0 to freq 97632.9 x 4 = 390531.6.\n",
      "Failed in setting multisynth 0 to freq 92342.7 x 1 = 92342.7.\n",
      "Failed in setting multisynth 0 to freq 92342.7 x 2 = 184685.4.\n",
      "Failed in setting multisynth 0 to freq 92342.7 x 4 = 369370.8.\n",
      "Failed in setting multisynth 0 to freq 102093.6 x 1 = 102093.6.\n",
      "Failed in setting multisynth 0 to freq 102093.6 x 2 = 204187.2.\n",
      "Failed in setting multisynth 0 to freq 102093.6 x 4 = 408374.4.\n",
      "Failed in setting multisynth 0 to freq 100607.9 x 1 = 100607.9.\n",
      "Failed in setting multisynth 0 to freq 100607.9 x 2 = 201215.8.\n",
      "Failed in setting multisynth 0 to freq 100607.9 x 4 = 402431.6.\n",
      "Failed in setting multisynth 0 to freq 107867.1 x 1 = 107867.1.\n",
      "Failed in setting multisynth 0 to freq 107867.1 x 2 = 215734.2.\n",
      "Failed in setting multisynth 0 to freq 107867.1 x 4 = 431468.4.\n",
      "Failed in setting multisynth 0 to freq 98484.6 x 1 = 98484.6.\n",
      "Failed in setting multisynth 0 to freq 98484.6 x 2 = 196969.2.\n",
      "Failed in setting multisynth 0 to freq 98484.6 x 4 = 393938.4.\n",
      "Failed in setting multisynth 0 to freq 93804.9 x 1 = 93804.9.\n",
      "Failed in setting multisynth 0 to freq 93804.9 x 2 = 187609.8.\n",
      "Failed in setting multisynth 0 to freq 93804.9 x 4 = 375219.6.\n",
      "Failed in setting multisynth 0 to freq 98848.2 x 1 = 98848.2.\n",
      "Failed in setting multisynth 0 to freq 98848.2 x 2 = 197696.4.\n",
      "Failed in setting multisynth 0 to freq 98848.2 x 4 = 395392.8.\n",
      "Failed in setting multisynth 0 to freq 96583.6 x 1 = 96583.6.\n",
      "Failed in setting multisynth 0 to freq 96583.6 x 2 = 193167.2.\n",
      "Failed in setting multisynth 0 to freq 96583.6 x 4 = 386334.4.\n"
     ]
    }
   ],
   "source": [
    "fm.send_sequence(analog_sequence)"
   ]
  },
  {
   "cell_type": "code",
   "execution_count": 14,
   "metadata": {},
   "outputs": [
    {
     "data": {
      "text/plain": [
       "339.8553"
      ]
     },
     "execution_count": 14,
     "metadata": {},
     "output_type": "execute_result"
    }
   ],
   "source": [
    "-20.1447 % 360"
   ]
  },
  {
   "cell_type": "code",
   "execution_count": 15,
   "metadata": {},
   "outputs": [
    {
     "name": "stdout",
     "output_type": "stream",
     "text": [
      "Failed in setting multisynth 0 to freq 100000 x 1 = 100000.\n",
      "Failed in setting multisynth 0 to freq 100000 x 2 = 200000.\n",
      "Failed in setting multisynth 0 to freq 100000 x 4 = 400000.\n"
     ]
    }
   ],
   "source": [
    "pm.send_sequence(analog_sequence)"
   ]
  },
  {
   "cell_type": "code",
   "execution_count": 16,
   "metadata": {},
   "outputs": [
    {
     "name": "stdout",
     "output_type": "stream",
     "text": [
      "Failed in setting multisynth 0 to freq 100000 x 1 = 100000.\n",
      "Failed in setting multisynth 0 to freq 100000 x 2 = 200000.\n",
      "Failed in setting multisynth 0 to freq 100000 x 4 = 400000.\n"
     ]
    }
   ],
   "source": [
    "qpsk.send_sequence(quadrature_sequence)"
   ]
  },
  {
   "cell_type": "code",
   "execution_count": 17,
   "metadata": {},
   "outputs": [
    {
     "name": "stdout",
     "output_type": "stream",
     "text": [
      "Failed in setting multisynth 0 to freq 100000 x 1 = 100000.\n",
      "Failed in setting multisynth 0 to freq 100000 x 2 = 200000.\n",
      "Failed in setting multisynth 0 to freq 100000 x 4 = 400000.\n",
      "Failed in setting multisynth 0 to freq 100000 x 1 = 100000.\n",
      "Failed in setting multisynth 0 to freq 100000 x 2 = 200000.\n",
      "Failed in setting multisynth 0 to freq 100000 x 4 = 400000.\n",
      "Failed in setting multisynth 0 to freq 100000 x 1 = 100000.\n",
      "Failed in setting multisynth 0 to freq 100000 x 2 = 200000.\n",
      "Failed in setting multisynth 0 to freq 100000 x 4 = 400000.\n",
      "Failed in setting multisynth 0 to freq 100000 x 1 = 100000.\n",
      "Failed in setting multisynth 0 to freq 100000 x 2 = 200000.\n",
      "Failed in setting multisynth 0 to freq 100000 x 4 = 400000.\n"
     ]
    },
    {
     "ename": "AttributeError",
     "evalue": "'Si5351' object has no attribute 'select_phase_source'",
     "output_type": "error",
     "traceback": [
      "\u001b[1;31m---------------------------------------------------------------------------\u001b[0m",
      "\u001b[1;31mAttributeError\u001b[0m                            Traceback (most recent call last)",
      "\u001b[1;32m<ipython-input-17-458ae4b72806>\u001b[0m in \u001b[0;36m<module>\u001b[1;34m\u001b[0m\n\u001b[1;32m----> 1\u001b[1;33m \u001b[0miq\u001b[0m\u001b[1;33m.\u001b[0m\u001b[0msend_sequence\u001b[0m\u001b[1;33m(\u001b[0m\u001b[0mquadrature_sequence\u001b[0m\u001b[1;33m)\u001b[0m\u001b[1;33m\u001b[0m\u001b[1;33m\u001b[0m\u001b[0m\n\u001b[0m",
      "\u001b[1;32m~\\Dropbox\\Coding\\notebooks\\專案\\待處理\\Signal Generators\\bitbucket\\github\\codes\\signal_generators\\modulators.py\u001b[0m in \u001b[0;36msend_sequence\u001b[1;34m(self, sequence)\u001b[0m\n\u001b[0;32m    264\u001b[0m         \u001b[1;32mtry\u001b[0m\u001b[1;33m:\u001b[0m\u001b[1;33m\u001b[0m\u001b[1;33m\u001b[0m\u001b[0m\n\u001b[0;32m    265\u001b[0m             \u001b[1;32mfor\u001b[0m \u001b[1;33m(\u001b[0m\u001b[0msymbol\u001b[0m\u001b[1;33m,\u001b[0m \u001b[0mduration\u001b[0m\u001b[1;33m)\u001b[0m \u001b[1;32min\u001b[0m \u001b[0msequence\u001b[0m\u001b[1;33m:\u001b[0m\u001b[1;33m\u001b[0m\u001b[1;33m\u001b[0m\u001b[0m\n\u001b[1;32m--> 266\u001b[1;33m                 \u001b[0mself\u001b[0m\u001b[1;33m.\u001b[0m\u001b[0msymbol\u001b[0m \u001b[1;33m=\u001b[0m \u001b[0msymbol\u001b[0m\u001b[1;33m\u001b[0m\u001b[1;33m\u001b[0m\u001b[0m\n\u001b[0m\u001b[0;32m    267\u001b[0m                 \u001b[0mtime\u001b[0m\u001b[1;33m.\u001b[0m\u001b[0msleep\u001b[0m\u001b[1;33m(\u001b[0m\u001b[0mduration\u001b[0m\u001b[1;33m)\u001b[0m\u001b[1;33m\u001b[0m\u001b[1;33m\u001b[0m\u001b[0m\n\u001b[0;32m    268\u001b[0m         \u001b[1;32mexcept\u001b[0m \u001b[0mKeyboardInterrupt\u001b[0m\u001b[1;33m:\u001b[0m\u001b[1;33m\u001b[0m\u001b[1;33m\u001b[0m\u001b[0m\n",
      "\u001b[1;32m~\\Dropbox\\Coding\\notebooks\\專案\\待處理\\Signal Generators\\bitbucket\\github\\codes\\signal_generators\\modulators.py\u001b[0m in \u001b[0;36msymbol\u001b[1;34m(self, symbol)\u001b[0m\n\u001b[0;32m    243\u001b[0m         \u001b[1;32massert\u001b[0m \u001b[0msymbol\u001b[0m \u001b[1;32min\u001b[0m \u001b[0mself\u001b[0m\u001b[1;33m.\u001b[0m\u001b[0mSYMBOLS\u001b[0m\u001b[1;33m,\u001b[0m \u001b[1;34m'Symbol must be in {}'\u001b[0m\u001b[1;33m.\u001b[0m\u001b[0mformat\u001b[0m\u001b[1;33m(\u001b[0m\u001b[0mself\u001b[0m\u001b[1;33m.\u001b[0m\u001b[0mSYMBOLS\u001b[0m\u001b[1;33m)\u001b[0m\u001b[1;33m\u001b[0m\u001b[1;33m\u001b[0m\u001b[0m\n\u001b[0;32m    244\u001b[0m         \u001b[0mself\u001b[0m\u001b[1;33m.\u001b[0m\u001b[0m_symbol\u001b[0m \u001b[1;33m=\u001b[0m \u001b[0msymbol\u001b[0m\u001b[1;33m\u001b[0m\u001b[1;33m\u001b[0m\u001b[0m\n\u001b[1;32m--> 245\u001b[1;33m         \u001b[0mself\u001b[0m\u001b[1;33m.\u001b[0m\u001b[0m_process_symbol\u001b[0m\u001b[1;33m(\u001b[0m\u001b[0msymbol\u001b[0m\u001b[1;33m)\u001b[0m\u001b[1;33m\u001b[0m\u001b[1;33m\u001b[0m\u001b[0m\n\u001b[0m\u001b[0;32m    246\u001b[0m \u001b[1;33m\u001b[0m\u001b[0m\n\u001b[0;32m    247\u001b[0m \u001b[1;33m\u001b[0m\u001b[0m\n",
      "\u001b[1;32m~\\Dropbox\\Coding\\notebooks\\專案\\待處理\\Signal Generators\\bitbucket\\github\\codes\\signal_generators\\modulators.py\u001b[0m in \u001b[0;36m_process_symbol\u001b[1;34m(self, symbol)\u001b[0m\n\u001b[0;32m    309\u001b[0m \u001b[1;33m\u001b[0m\u001b[0m\n\u001b[0;32m    310\u001b[0m     \u001b[1;32mdef\u001b[0m \u001b[0m_process_symbol\u001b[0m\u001b[1;33m(\u001b[0m\u001b[0mself\u001b[0m\u001b[1;33m,\u001b[0m \u001b[0msymbol\u001b[0m\u001b[1;33m)\u001b[0m\u001b[1;33m:\u001b[0m\u001b[1;33m\u001b[0m\u001b[1;33m\u001b[0m\u001b[0m\n\u001b[1;32m--> 311\u001b[1;33m         \u001b[0mself\u001b[0m\u001b[1;33m.\u001b[0m\u001b[0m_devices\u001b[0m\u001b[1;33m[\u001b[0m\u001b[0mself\u001b[0m\u001b[1;33m.\u001b[0m\u001b[0mIDX_I\u001b[0m\u001b[1;33m]\u001b[0m\u001b[1;33m.\u001b[0m\u001b[0mselect_phase_source\u001b[0m\u001b[1;33m(\u001b[0m\u001b[0midx\u001b[0m \u001b[1;33m=\u001b[0m \u001b[0msymbol\u001b[0m \u001b[1;33m&\u001b[0m \u001b[0mself\u001b[0m\u001b[1;33m.\u001b[0m\u001b[0mMASK_I\u001b[0m\u001b[1;33m)\u001b[0m\u001b[1;33m\u001b[0m\u001b[1;33m\u001b[0m\u001b[0m\n\u001b[0m\u001b[0;32m    312\u001b[0m         \u001b[0mself\u001b[0m\u001b[1;33m.\u001b[0m\u001b[0m_devices\u001b[0m\u001b[1;33m[\u001b[0m\u001b[0mself\u001b[0m\u001b[1;33m.\u001b[0m\u001b[0mIDX_Q\u001b[0m\u001b[1;33m]\u001b[0m\u001b[1;33m.\u001b[0m\u001b[0mselect_phase_source\u001b[0m\u001b[1;33m(\u001b[0m\u001b[0midx\u001b[0m \u001b[1;33m=\u001b[0m \u001b[0msymbol\u001b[0m \u001b[1;33m&\u001b[0m \u001b[0mself\u001b[0m\u001b[1;33m.\u001b[0m\u001b[0mMASK_Q\u001b[0m\u001b[1;33m)\u001b[0m\u001b[1;33m\u001b[0m\u001b[1;33m\u001b[0m\u001b[0m\n\u001b[0;32m    313\u001b[0m \u001b[1;33m\u001b[0m\u001b[0m\n",
      "\u001b[1;32m~\\Dropbox\\Coding\\notebooks\\專案\\待處理\\Signal Generators\\bitbucket\\github\\codes\\signal_generators\\modulators.py\u001b[0m in \u001b[0;36mselect_phase_source\u001b[1;34m(self, idx)\u001b[0m\n\u001b[0;32m    174\u001b[0m \u001b[1;33m\u001b[0m\u001b[0m\n\u001b[0;32m    175\u001b[0m     \u001b[1;32mdef\u001b[0m \u001b[0mselect_phase_source\u001b[0m\u001b[1;33m(\u001b[0m\u001b[0mself\u001b[0m\u001b[1;33m,\u001b[0m \u001b[0midx\u001b[0m\u001b[1;33m)\u001b[0m\u001b[1;33m:\u001b[0m\u001b[1;33m\u001b[0m\u001b[1;33m\u001b[0m\u001b[0m\n\u001b[1;32m--> 176\u001b[1;33m         \u001b[0mself\u001b[0m\u001b[1;33m.\u001b[0m\u001b[0m_device\u001b[0m\u001b[1;33m.\u001b[0m\u001b[0mselect_phase_source\u001b[0m\u001b[1;33m(\u001b[0m\u001b[0midx\u001b[0m\u001b[1;33m)\u001b[0m\u001b[1;33m\u001b[0m\u001b[1;33m\u001b[0m\u001b[0m\n\u001b[0m\u001b[0;32m    177\u001b[0m \u001b[1;33m\u001b[0m\u001b[0m\n\u001b[0;32m    178\u001b[0m \u001b[1;33m\u001b[0m\u001b[0m\n",
      "\u001b[1;31mAttributeError\u001b[0m: 'Si5351' object has no attribute 'select_phase_source'"
     ]
    }
   ],
   "source": [
    "iq.send_sequence(quadrature_sequence)"
   ]
  },
  {
   "cell_type": "code",
   "execution_count": 18,
   "metadata": {},
   "outputs": [],
   "source": [
    "dtmf.FREQUENCIES = {'row'   : (6970000, 7700000, 8520000, 9410000),\n",
    "                   'column': (12090000, 13360000, 14770000, 16330000)}\n",
    "\n",
    "dtmf.TONES = {'1': (dtmf.FREQUENCIES['row'][0], dtmf.FREQUENCIES['column'][0]),\n",
    "             '2': (dtmf.FREQUENCIES['row'][0], dtmf.FREQUENCIES['column'][1]),\n",
    "             '3': (dtmf.FREQUENCIES['row'][0], dtmf.FREQUENCIES['column'][2]),\n",
    "             'A': (dtmf.FREQUENCIES['row'][0], dtmf.FREQUENCIES['column'][3]),\n",
    "             '4': (dtmf.FREQUENCIES['row'][1], dtmf.FREQUENCIES['column'][0]),\n",
    "             '5': (dtmf.FREQUENCIES['row'][1], dtmf.FREQUENCIES['column'][1]),\n",
    "             '6': (dtmf.FREQUENCIES['row'][1], dtmf.FREQUENCIES['column'][2]),\n",
    "             'B': (dtmf.FREQUENCIES['row'][1], dtmf.FREQUENCIES['column'][3]),\n",
    "             '7': (dtmf.FREQUENCIES['row'][2], dtmf.FREQUENCIES['column'][0]),\n",
    "             '8': (dtmf.FREQUENCIES['row'][2], dtmf.FREQUENCIES['column'][1]),\n",
    "             '9': (dtmf.FREQUENCIES['row'][2], dtmf.FREQUENCIES['column'][2]),\n",
    "             'C': (dtmf.FREQUENCIES['row'][2], dtmf.FREQUENCIES['column'][3]),\n",
    "             '*': (dtmf.FREQUENCIES['row'][3], dtmf.FREQUENCIES['column'][0]),\n",
    "             '0': (dtmf.FREQUENCIES['row'][3], dtmf.FREQUENCIES['column'][1]),\n",
    "             '#': (dtmf.FREQUENCIES['row'][3], dtmf.FREQUENCIES['column'][2]),\n",
    "             'D': (dtmf.FREQUENCIES['row'][3], dtmf.FREQUENCIES['column'][3])}\n",
    "dtmf.SYMBOLS = list(dtmf.TONES.keys())"
   ]
  },
  {
   "cell_type": "code",
   "execution_count": 19,
   "metadata": {},
   "outputs": [],
   "source": [
    "dtmf.send_sequence(dtmf_sequence)"
   ]
  },
  {
   "cell_type": "code",
   "execution_count": 20,
   "metadata": {},
   "outputs": [
    {
     "data": {
      "text/plain": [
       "True"
      ]
     },
     "execution_count": 20,
     "metadata": {},
     "output_type": "execute_result"
    }
   ],
   "source": [
    "dtmf._devices[1].clocks[0].set_frequency(25e6)"
   ]
  },
  {
   "cell_type": "code",
   "execution_count": 21,
   "metadata": {},
   "outputs": [],
   "source": [
    "dtmf._devices[1].clocks[0].enable()"
   ]
  },
  {
   "cell_type": "code",
   "execution_count": 22,
   "metadata": {},
   "outputs": [
    {
     "data": {
      "text/plain": [
       "OrderedDict([('type', '_Clock'),\n",
       "             ('idx', 0),\n",
       "             ('source_freq', 9410000),\n",
       "             ('my_freq', 9410000),\n",
       "             ('my_divider', 1),\n",
       "             ('enabled', False),\n",
       "             ('oeb_pin_masked', False),\n",
       "             ('power_downed', False),\n",
       "             ('phase_offset_enabled', False)])"
      ]
     },
     "execution_count": 22,
     "metadata": {},
     "output_type": "execute_result"
    }
   ],
   "source": [
    "dtmf._devices[0].clocks[0].status"
   ]
  },
  {
   "cell_type": "code",
   "execution_count": 23,
   "metadata": {},
   "outputs": [
    {
     "data": {
      "text/plain": [
       "9410000"
      ]
     },
     "execution_count": 23,
     "metadata": {},
     "output_type": "execute_result"
    }
   ],
   "source": [
    "dtmf._devices[0].clocks[0].freq"
   ]
  },
  {
   "cell_type": "code",
   "execution_count": null,
   "metadata": {},
   "outputs": [
    {
     "name": "stdout",
     "output_type": "stream",
     "text": [
      "Failed in setting multisynth 0 to freq 100000 x 1 = 100000.\n",
      "Failed in setting multisynth 0 to freq 100000 x 2 = 200000.\n",
      "Failed in setting multisynth 0 to freq 100000 x 4 = 400000.\n"
     ]
    }
   ],
   "source": [
    "pwm.run()"
   ]
  }
 ],
 "metadata": {
  "kernelspec": {
   "display_name": "Python 3",
   "language": "python",
   "name": "python3"
  },
  "language_info": {
   "codemirror_mode": {
    "name": "ipython",
    "version": 3
   },
   "file_extension": ".py",
   "mimetype": "text/x-python",
   "name": "python",
   "nbconvert_exporter": "python",
   "pygments_lexer": "ipython3",
   "version": "3.6.10"
  }
 },
 "nbformat": 4,
 "nbformat_minor": 2
}
