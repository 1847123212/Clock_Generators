{
 "cells": [
  {
   "cell_type": "markdown",
   "metadata": {},
   "source": [
    "# AD9833 Modulators test with FTDI\n",
    "https://www.analog.com/media/en/technical-documentation/data-sheets/ad9833.pdf"
   ]
  },
  {
   "cell_type": "code",
   "execution_count": 1,
   "metadata": {},
   "outputs": [],
   "source": [
    "import os, sys\n",
    "\n",
    "def gen_relative_path(target_path): \n",
    "    \n",
    "    def del_same_parents(target_path, current_path):\n",
    "        if len(target_path) * len(current_path) > 0:\n",
    "            if target_path[0] == current_path[0]:\n",
    "                target_path.pop(0)\n",
    "                current_path.pop(0)\n",
    "                del_same_parents(target_path, current_path)\n",
    "            \n",
    "    current_path = os.getcwd().replace('\\\\', '/').split('/')\n",
    "    target_path = target_path.replace('\\\\', '/').split('/')\n",
    "    del_same_parents(target_path, current_path)\n",
    "    \n",
    "    return ['..'] * len(current_path) + target_path\n",
    "\n",
    "\n",
    "def append_source_relative_path(source_relative_path):\n",
    "    sys.path.append(os.sep.join(source_relative_path))"
   ]
  },
  {
   "cell_type": "code",
   "execution_count": 2,
   "metadata": {},
   "outputs": [],
   "source": [
    "# paths = ['']\n",
    "# paths = [gen_relative_path(p) for p in paths]\n",
    "# print(paths)"
   ]
  },
  {
   "cell_type": "code",
   "execution_count": 3,
   "metadata": {},
   "outputs": [],
   "source": [
    "paths = [['..', '..', '..', '..', '..', '..', 'Signal Generators', 'bitbucket', 'github', 'codes'],\n",
    "         ['..', '..', '..', '..', '..', '..', '..', '已完成', 'Bridges', 'bitbucket', 'github', 'codes'], \n",
    "         ['..', '..', '..', '..', '..', '..', 'FX2LP', 'bitbucket', 'github', 'codes'],\n",
    "         ['..', '..', '..', '..', '..', '..', 'Utilities', 'bitbucket', 'github', 'codes'],\n",
    "         ['..', '..', '..', 'codes']]\n",
    "\n",
    "for path in paths:\n",
    "    append_source_relative_path(path)"
   ]
  },
  {
   "cell_type": "code",
   "execution_count": 4,
   "metadata": {},
   "outputs": [
    {
     "name": "stdout",
     "output_type": "stream",
     "text": [
      "Populating the interactive namespace from numpy and matplotlib\n",
      "No USB device matches URL ftdi://ftdi:ft232h/1\n"
     ]
    }
   ],
   "source": [
    "%pylab inline \n",
    "\n",
    "from signal_generators import modulators  \n",
    "from clock_generators.si5351 import Si5351\n",
    "from utilities.adapters import peripherals\n",
    "import fx2lp"
   ]
  },
  {
   "cell_type": "markdown",
   "metadata": {},
   "source": [
    "## Debug mode?"
   ]
  },
  {
   "cell_type": "code",
   "execution_count": 5,
   "metadata": {
    "scrolled": false
   },
   "outputs": [],
   "source": [
    "cls = Si5351\n",
    "\n",
    "cls.DEBUG_MODE_SHOW_BUS_DATA = False         # whether to show bus data. \n",
    "cls.DEBUG_MODE_PRINT_REGISTER = False        # whether to print registers. "
   ]
  },
  {
   "cell_type": "markdown",
   "metadata": {},
   "source": [
    "## Generators and Modulators"
   ]
  },
  {
   "cell_type": "code",
   "execution_count": 6,
   "metadata": {},
   "outputs": [
    {
     "name": "stdout",
     "output_type": "stream",
     "text": [
      "\n",
      "****** Virtual device. Data may not be real ! ******\n",
      "\n"
     ]
    }
   ],
   "source": [
    "with_hardware_device = False\n",
    "\n",
    "if with_hardware_device:\n",
    "    _i2c = peripherals.I2C.get_Ftdi_i2c() \n",
    "    \n",
    "else:\n",
    "    _i2c =  None  # using None for testing without actual hardware device.\n",
    "\n",
    "bus = peripherals.I2C(_i2c)"
   ]
  },
  {
   "cell_type": "code",
   "execution_count": 7,
   "metadata": {},
   "outputs": [],
   "source": [
    "bus = fx2lp.I2C(as_400KHz = True)"
   ]
  },
  {
   "cell_type": "code",
   "execution_count": 8,
   "metadata": {},
   "outputs": [],
   "source": [
    "si = cls(bus) \n",
    "si2 = cls(bus)   "
   ]
  },
  {
   "cell_type": "code",
   "execution_count": 32,
   "metadata": {},
   "outputs": [],
   "source": [
    "freq_demo = 3.05e7\n",
    "\n",
    "bfsk = modulators.BFSK(si)\n",
    "bpsk = modulators.BPSK(si, freq = freq_demo)\n",
    "dtmf = modulators.DTMF((si, si2))\n",
    "fm = modulators.FM(si)\n",
    "iq = modulators.IQ((si, si2), freq = freq_demo)\n",
    "ook = modulators.OOK(si)\n",
    "pm = modulators.PM(si, freq = freq_demo)\n",
    "pwm = modulators.PWM(si)\n",
    "qpsk = modulators.QPSK(si, freq = freq_demo)"
   ]
  },
  {
   "cell_type": "markdown",
   "metadata": {},
   "source": [
    "## Testing data sequence"
   ]
  },
  {
   "cell_type": "code",
   "execution_count": 33,
   "metadata": {},
   "outputs": [],
   "source": [
    "samples_size = 10\n",
    "duration = 0.1\n",
    "\n",
    "symbols = np.random.randint(2, size = samples_size)\n",
    "digital_sequence = [(symbol, duration) for symbol in symbols] \n",
    "\n",
    "\n",
    "symbols = np.random.uniform(-1, 1, size = samples_size).round(5)\n",
    "analog_sequence = [(float(symbol), duration) for symbol in symbols] \n",
    "\n",
    "\n",
    "symbols = np.random.choice(['1', '2', '3', 'A', '4', '5', '6', 'B', '7', '8', '9', 'C', '*', '0', '#', 'D'], \n",
    "                           size = samples_size)\n",
    "dtmf_sequence = [(symbol, duration) for symbol in symbols] \n",
    "\n",
    "\n",
    "symbols = np.random.choice([0, 1, 2, 3], size = samples_size)\n",
    "quadrature_sequence = [(symbol, duration) for symbol in symbols] "
   ]
  },
  {
   "cell_type": "markdown",
   "metadata": {},
   "source": [
    "## Modulators test"
   ]
  },
  {
   "cell_type": "code",
   "execution_count": 34,
   "metadata": {},
   "outputs": [],
   "source": [
    "def dump(m):\n",
    "    m._device.dump()"
   ]
  },
  {
   "cell_type": "code",
   "execution_count": 35,
   "metadata": {},
   "outputs": [],
   "source": [
    "# bfsk.send_sequence(digital_sequence)"
   ]
  },
  {
   "cell_type": "code",
   "execution_count": 36,
   "metadata": {},
   "outputs": [],
   "source": [
    "# bpsk.send_sequence(digital_sequence)"
   ]
  },
  {
   "cell_type": "code",
   "execution_count": 37,
   "metadata": {},
   "outputs": [],
   "source": [
    "ook.send_sequence(digital_sequence)"
   ]
  },
  {
   "cell_type": "code",
   "execution_count": 38,
   "metadata": {},
   "outputs": [],
   "source": [
    "fm.send_sequence(analog_sequence)"
   ]
  },
  {
   "cell_type": "code",
   "execution_count": 39,
   "metadata": {},
   "outputs": [],
   "source": [
    "pm.send_sequence(analog_sequence)"
   ]
  },
  {
   "cell_type": "code",
   "execution_count": 40,
   "metadata": {},
   "outputs": [],
   "source": [
    "qpsk.send_sequence(quadrature_sequence)"
   ]
  },
  {
   "cell_type": "code",
   "execution_count": 41,
   "metadata": {},
   "outputs": [],
   "source": [
    "# iq.send_sequence(quadrature_sequence)"
   ]
  },
  {
   "cell_type": "code",
   "execution_count": 42,
   "metadata": {},
   "outputs": [],
   "source": [
    "dtmf.FREQUENCIES = {'row'   : (6970000, 7700000, 8520000, 9410000),\n",
    "                   'column': (12090000, 13360000, 14770000, 16330000)}\n",
    "\n",
    "dtmf.TONES = {'1': (dtmf.FREQUENCIES['row'][0], dtmf.FREQUENCIES['column'][0]),\n",
    "             '2': (dtmf.FREQUENCIES['row'][0], dtmf.FREQUENCIES['column'][1]),\n",
    "             '3': (dtmf.FREQUENCIES['row'][0], dtmf.FREQUENCIES['column'][2]),\n",
    "             'A': (dtmf.FREQUENCIES['row'][0], dtmf.FREQUENCIES['column'][3]),\n",
    "             '4': (dtmf.FREQUENCIES['row'][1], dtmf.FREQUENCIES['column'][0]),\n",
    "             '5': (dtmf.FREQUENCIES['row'][1], dtmf.FREQUENCIES['column'][1]),\n",
    "             '6': (dtmf.FREQUENCIES['row'][1], dtmf.FREQUENCIES['column'][2]),\n",
    "             'B': (dtmf.FREQUENCIES['row'][1], dtmf.FREQUENCIES['column'][3]),\n",
    "             '7': (dtmf.FREQUENCIES['row'][2], dtmf.FREQUENCIES['column'][0]),\n",
    "             '8': (dtmf.FREQUENCIES['row'][2], dtmf.FREQUENCIES['column'][1]),\n",
    "             '9': (dtmf.FREQUENCIES['row'][2], dtmf.FREQUENCIES['column'][2]),\n",
    "             'C': (dtmf.FREQUENCIES['row'][2], dtmf.FREQUENCIES['column'][3]),\n",
    "             '*': (dtmf.FREQUENCIES['row'][3], dtmf.FREQUENCIES['column'][0]),\n",
    "             '0': (dtmf.FREQUENCIES['row'][3], dtmf.FREQUENCIES['column'][1]),\n",
    "             '#': (dtmf.FREQUENCIES['row'][3], dtmf.FREQUENCIES['column'][2]),\n",
    "             'D': (dtmf.FREQUENCIES['row'][3], dtmf.FREQUENCIES['column'][3])}\n",
    "dtmf.SYMBOLS = list(dtmf.TONES.keys())"
   ]
  },
  {
   "cell_type": "code",
   "execution_count": 43,
   "metadata": {},
   "outputs": [],
   "source": [
    "dtmf.send_sequence(dtmf_sequence)"
   ]
  },
  {
   "cell_type": "code",
   "execution_count": 44,
   "metadata": {},
   "outputs": [
    {
     "data": {
      "text/plain": [
       "True"
      ]
     },
     "execution_count": 44,
     "metadata": {},
     "output_type": "execute_result"
    }
   ],
   "source": [
    "dtmf._devices[1].clocks[0].set_frequency(25e6)"
   ]
  },
  {
   "cell_type": "code",
   "execution_count": 45,
   "metadata": {},
   "outputs": [],
   "source": [
    "dtmf._devices[1].clocks[0].enable()"
   ]
  },
  {
   "cell_type": "code",
   "execution_count": 46,
   "metadata": {},
   "outputs": [
    {
     "data": {
      "text/plain": [
       "OrderedDict([('type', '_Clock'),\n",
       "             ('idx', 0),\n",
       "             ('source_type', '_Multisynth'),\n",
       "             ('source_idx', 0),\n",
       "             ('source_freq', 7700000),\n",
       "             ('my_freq', 7700000),\n",
       "             ('my_divider', 1),\n",
       "             ('power_downed', False),\n",
       "             ('enabled', False),\n",
       "             ('oeb_pin_masked', False),\n",
       "             ('phase_offset_enabled', False),\n",
       "             ('phase', 0)])"
      ]
     },
     "execution_count": 46,
     "metadata": {},
     "output_type": "execute_result"
    }
   ],
   "source": [
    "dtmf._devices[0].clocks[0].status"
   ]
  },
  {
   "cell_type": "code",
   "execution_count": 47,
   "metadata": {},
   "outputs": [
    {
     "data": {
      "text/plain": [
       "7700000"
      ]
     },
     "execution_count": 47,
     "metadata": {},
     "output_type": "execute_result"
    }
   ],
   "source": [
    "dtmf._devices[0].clocks[0].freq"
   ]
  },
  {
   "cell_type": "code",
   "execution_count": 48,
   "metadata": {},
   "outputs": [
    {
     "name": "stdout",
     "output_type": "stream",
     "text": [
      "User interrupts.\n"
     ]
    }
   ],
   "source": [
    "pwm.run()"
   ]
  }
 ],
 "metadata": {
  "kernelspec": {
   "display_name": "Python 3",
   "language": "python",
   "name": "python3"
  },
  "language_info": {
   "codemirror_mode": {
    "name": "ipython",
    "version": 3
   },
   "file_extension": ".py",
   "mimetype": "text/x-python",
   "name": "python",
   "nbconvert_exporter": "python",
   "pygments_lexer": "ipython3",
   "version": "3.6.10"
  }
 },
 "nbformat": 4,
 "nbformat_minor": 2
}
