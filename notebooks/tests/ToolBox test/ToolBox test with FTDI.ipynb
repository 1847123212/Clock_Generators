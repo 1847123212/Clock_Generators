{
 "cells": [
  {
   "cell_type": "markdown",
   "metadata": {},
   "source": [
    "# ToolBox test with FTDI\n",
    "https://www.analog.com/media/en/technical-documentation/data-sheets/ad9833.pdf"
   ]
  },
  {
   "cell_type": "code",
   "execution_count": 1,
   "metadata": {},
   "outputs": [],
   "source": [
    "import os, sys\n",
    "\n",
    "def gen_relative_path(target_path): \n",
    "    \n",
    "    def del_same_parents(target_path, current_path):\n",
    "        if len(target_path) * len(current_path) > 0:\n",
    "            if target_path[0] == current_path[0]:\n",
    "                target_path.pop(0)\n",
    "                current_path.pop(0)\n",
    "                del_same_parents(target_path, current_path)\n",
    "            \n",
    "    current_path = os.getcwd().replace('\\\\', '/').split('/')\n",
    "    target_path = target_path.replace('\\\\', '/').split('/')\n",
    "    del_same_parents(target_path, current_path)\n",
    "    \n",
    "    return ['..'] * len(current_path) + target_path\n",
    "\n",
    "\n",
    "def append_source_relative_path(source_relative_path):\n",
    "    sys.path.append(os.sep.join(source_relative_path))"
   ]
  },
  {
   "cell_type": "code",
   "execution_count": 2,
   "metadata": {},
   "outputs": [],
   "source": [
    "# paths = ['']\n",
    "# paths = [gen_relative_path(p) for p in paths]\n",
    "# print(paths)"
   ]
  },
  {
   "cell_type": "code",
   "execution_count": 3,
   "metadata": {},
   "outputs": [],
   "source": [
    "paths = [['..', '..', '..', '..', '..', '..', 'Signal Generators', 'bitbucket', 'github', 'codes'],\n",
    "         ['..', '..', '..', '..', '..', '..', '..', '已完成', 'Bridges', 'bitbucket', 'github', 'codes'], \n",
    "         ['..', '..', '..', '..', '..', '..', 'Utilities', 'bitbucket', 'github', 'codes'],\n",
    "         ['..', '..', '..', 'codes']]\n",
    "\n",
    "for path in paths:\n",
    "    append_source_relative_path(path)"
   ]
  },
  {
   "cell_type": "code",
   "execution_count": 4,
   "metadata": {},
   "outputs": [],
   "source": [
    "# paths = [['..', '..', '..', '..', '..', '..', 'ORM', 'bitbucket', 'github', 'codes'],\n",
    "#          ['..', '..', '..', '..', '..', '..', 'USB', 'Universal Serial Bus', 'bitbucket', 'github', 'codes'],\n",
    "#          ['..', '..', '..', '..', '..', '..', '..', '已完成', 'Bridges', 'bitbucket', 'github', 'codes'], \n",
    "#          ['..', '..', '..', '..', '..', '..', 'Utilities', 'bitbucket', 'github', 'codes'],\n",
    "#          ['..', '..', '..', 'codes']]\n",
    "\n",
    "# for path in paths:\n",
    "#     append_source_relative_path(path)"
   ]
  },
  {
   "cell_type": "code",
   "execution_count": 5,
   "metadata": {},
   "outputs": [
    {
     "name": "stdout",
     "output_type": "stream",
     "text": [
      "Populating the interactive namespace from numpy and matplotlib\n"
     ]
    }
   ],
   "source": [
    "%pylab inline \n",
    "\n",
    "from signal_generators import tools\n",
    "from clock_generators.si535x.si5351 import Si5351A_B_GT \n",
    "from utilities.adapters import peripherals"
   ]
  },
  {
   "cell_type": "markdown",
   "metadata": {},
   "source": [
    "## Debug mode?"
   ]
  },
  {
   "cell_type": "code",
   "execution_count": 6,
   "metadata": {
    "scrolled": false
   },
   "outputs": [],
   "source": [
    "cls = Si5351A_B_GT\n",
    "\n",
    "cls.DEBUG_MODE_SHOW_BUS_DATA = False         # whether to show bus data. \n",
    "cls.DEBUG_MODE_PRINT_REGISTER = False        # whether to print registers. "
   ]
  },
  {
   "cell_type": "markdown",
   "metadata": {},
   "source": [
    "## Generators"
   ]
  },
  {
   "cell_type": "code",
   "execution_count": 15,
   "metadata": {},
   "outputs": [],
   "source": [
    "with_hardware_device = True\n",
    "\n",
    "if with_hardware_device:\n",
    "    _i2c = peripherals.I2C.get_Ftdi_i2c() \n",
    "    \n",
    "else:\n",
    "    _i2c =  None  # using None for testing without actual hardware device.\n",
    "\n",
    "si = cls(_i2c)\n",
    "# si2 = cls(_i2c)"
   ]
  },
  {
   "cell_type": "code",
   "execution_count": 20,
   "metadata": {},
   "outputs": [],
   "source": [
    "si.set_frequency(25.2e6)"
   ]
  },
  {
   "cell_type": "code",
   "execution_count": 9,
   "metadata": {},
   "outputs": [],
   "source": [
    "# ad1.reset()\n",
    "# ad2.reset()"
   ]
  },
  {
   "cell_type": "code",
   "execution_count": 10,
   "metadata": {},
   "outputs": [],
   "source": [
    "# ad1.enable_output(False)\n",
    "# ad2.enable_output(False)"
   ]
  },
  {
   "cell_type": "code",
   "execution_count": 11,
   "metadata": {},
   "outputs": [],
   "source": [
    "tb = tools.ToolBox()"
   ]
  },
  {
   "cell_type": "markdown",
   "metadata": {},
   "source": [
    "## Frequency Sweeping"
   ]
  },
  {
   "cell_type": "code",
   "execution_count": 12,
   "metadata": {},
   "outputs": [],
   "source": [
    "# freq_start = 10\n",
    "# freq_end = 1e6"
   ]
  },
  {
   "cell_type": "code",
   "execution_count": 13,
   "metadata": {},
   "outputs": [
    {
     "name": "stdout",
     "output_type": "stream",
     "text": [
      "Frequency: 24600000.00\n",
      "Frequency: 24605928.71\n",
      "Frequency: 24611858.85\n",
      "Frequency: 24617790.42\n",
      "Frequency: 24623723.42\n",
      "Frequency: 24629657.85\n",
      "Frequency: 24635593.71\n",
      "Frequency: 24641531.00\n",
      "Frequency: 24647469.72\n",
      "Frequency: 24653409.88\n",
      "Frequency: 24659351.46\n",
      "Frequency: 24665294.48\n",
      "Frequency: 24671238.92\n",
      "Frequency: 24677184.80\n",
      "Frequency: 24683132.12\n",
      "Frequency: 24689080.87\n",
      "Frequency: 24695031.05\n",
      "Frequency: 24700982.66\n",
      "Frequency: 24706935.71\n",
      "Frequency: 24712890.19\n",
      "Frequency: 24718846.11\n",
      "Frequency: 24724803.47\n",
      "Frequency: 24730762.26\n",
      "Frequency: 24736722.48\n",
      "Frequency: 24742684.15\n",
      "Frequency: 24748647.25\n",
      "Frequency: 24754611.78\n",
      "Frequency: 24760577.76\n",
      "Frequency: 24766545.17\n",
      "Frequency: 24772514.02\n",
      "User interrupts.\n"
     ]
    },
    {
     "data": {
      "text/plain": [
       "[24600000.00000001,\n",
       " 24605928.71199698,\n",
       " 24611858.852840528,\n",
       " 24617790.42287502,\n",
       " 24623723.422444947,\n",
       " 24629657.851894733,\n",
       " 24635593.71156903,\n",
       " 24641531.001812536,\n",
       " 24647469.72297002,\n",
       " 24653409.87538634,\n",
       " 24659351.459406435,\n",
       " 24665294.475375332,\n",
       " 24671238.923638184,\n",
       " 24677184.80454008,\n",
       " 24683132.11842634,\n",
       " 24689080.865642328,\n",
       " 24695031.046533477,\n",
       " 24700982.661445312,\n",
       " 24706935.710723434,\n",
       " 24712890.194713585,\n",
       " 24718846.113761436,\n",
       " 24724803.468212895,\n",
       " 24730762.258413896,\n",
       " 24736722.484710466,\n",
       " 24742684.14744871,\n",
       " 24748647.246974815,\n",
       " 24754611.783635106,\n",
       " 24760577.757775832,\n",
       " 24766545.16974349,\n",
       " 24772514.0198846,\n",
       " 24778484.30854577,\n",
       " 24784456.03607369,\n",
       " 24790429.202815127,\n",
       " 24796403.809116945,\n",
       " 24802379.85532613,\n",
       " 24808357.341789614,\n",
       " 24814336.268854547,\n",
       " 24820316.636868123,\n",
       " 24826298.446177617,\n",
       " 24832281.697130386,\n",
       " 24838266.390073877,\n",
       " 24844252.525355663,\n",
       " 24850240.10332326,\n",
       " 24856229.1243244,\n",
       " 24862219.58870687,\n",
       " 24868211.496818528,\n",
       " 24874204.849007323,\n",
       " 24880199.64562128,\n",
       " 24886195.887008566,\n",
       " 24892193.573517274,\n",
       " 24898192.705495734,\n",
       " 24904193.283292316,\n",
       " 24910195.307255466,\n",
       " 24916198.777733713,\n",
       " 24922203.695075683,\n",
       " 24928210.059630066,\n",
       " 24934217.871745706,\n",
       " 24940227.131771367,\n",
       " 24946237.84005605,\n",
       " 24952249.996948797,\n",
       " 24958263.602798726,\n",
       " 24964278.657955043,\n",
       " 24970295.162767038,\n",
       " 24976313.117584135,\n",
       " 24982332.52275569,\n",
       " 24988353.378631297,\n",
       " 24994375.68556058,\n",
       " 25000399.443893254,\n",
       " 25006424.653979108,\n",
       " 25012451.31616802,\n",
       " 25018479.430810012,\n",
       " 25024508.99825503,\n",
       " 25030540.018853247,\n",
       " 25036572.492954887,\n",
       " 25042606.42091025,\n",
       " 25048641.803069722,\n",
       " 25054678.639783774,\n",
       " 25060716.931402955,\n",
       " 25066756.67827796,\n",
       " 25072797.880759403,\n",
       " 25078840.539198153,\n",
       " 25084884.653945096,\n",
       " 25090930.22535121,\n",
       " 25096977.253767557,\n",
       " 25103025.739545282,\n",
       " 25109075.683035668,\n",
       " 25115127.08458993,\n",
       " 25121179.944559515,\n",
       " 25127234.263295908,\n",
       " 25133290.04115068,\n",
       " 25139347.27847549,\n",
       " 25145405.97562207,\n",
       " 25151466.132942293,\n",
       " 25157527.750787973,\n",
       " 25163590.82951115,\n",
       " 25169655.369463902,\n",
       " 25175721.370998394,\n",
       " 25181788.834466875,\n",
       " 25187857.76022167,\n",
       " 25193928.148615204]"
      ]
     },
     "execution_count": 13,
     "metadata": {},
     "output_type": "execute_result"
    }
   ],
   "source": [
    "freq_start = 24.6e6\n",
    "freq_end = 25.2e6\n",
    "\n",
    "tb.sweep(si, freq_start = freq_start, freq_end = freq_end, n_freqs = 100,\n",
    "         sweep_type = 'logarithm', direction = 'round_trip', n_cycles = 2,\n",
    "         slot_duration = 0.01, between_cycle_seconds = 0)"
   ]
  },
  {
   "cell_type": "markdown",
   "metadata": {},
   "source": [
    "## Function Toggling"
   ]
  },
  {
   "cell_type": "code",
   "execution_count": null,
   "metadata": {},
   "outputs": [],
   "source": [
    "duration_seconds, count, cycle_time = tb.toggle(ad1,\n",
    "                                                fun = 'enable_output', params = ({'value': True}, {'value': False}),\n",
    "                                                n_cycles = 10, slot_duration = 0.2, between_cycle_seconds = 0.2)\n",
    "print('duration_seconds, count, cycle_time', duration_seconds, count, cycle_time)"
   ]
  },
  {
   "cell_type": "markdown",
   "metadata": {},
   "source": [
    "## Waveform Juggling"
   ]
  },
  {
   "cell_type": "code",
   "execution_count": null,
   "metadata": {},
   "outputs": [],
   "source": [
    "tb.juggle((ad1, ad2),\n",
    "          freq_start = freq_start, freq_end = freq_end, n_freqs = 100, freqs_type = 'logarithm',\n",
    "          slot_duration = 0.2, between_cycle_seconds = 0.2,\n",
    "          n_juggles = 10)"
   ]
  }
 ],
 "metadata": {
  "kernelspec": {
   "display_name": "Python 3",
   "language": "python",
   "name": "python3"
  },
  "language_info": {
   "codemirror_mode": {
    "name": "ipython",
    "version": 3
   },
   "file_extension": ".py",
   "mimetype": "text/x-python",
   "name": "python",
   "nbconvert_exporter": "python",
   "pygments_lexer": "ipython3",
   "version": "3.6.10"
  }
 },
 "nbformat": 4,
 "nbformat_minor": 2
}
