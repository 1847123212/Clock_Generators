{
 "cells": [
  {
   "cell_type": "markdown",
   "metadata": {},
   "source": [
    "# Frequency Accuracy test\n",
    "- https://www.silabs.com/documents/public/data-sheets/Si5351-B.pdf\n",
    "- https://www.silabs.com/documents/public/application-notes/AN619.pdf\n",
    "- https://www.silabs.com/content/usergenerated/asi/cloud/attachments/siliconlabs/en/community/groups/timing/knowledge-base/jcr:content/content/primary/blog/modifying_the_feedba-K8Pv/311668.pdf"
   ]
  },
  {
   "cell_type": "code",
   "execution_count": null,
   "metadata": {},
   "outputs": [],
   "source": [
    "import os, sys\n",
    "\n",
    "def gen_relative_path(target_path): \n",
    "    \n",
    "    def del_same_parents(target_path, current_path):\n",
    "        if len(target_path) * len(current_path) > 0:\n",
    "            if target_path[0] == current_path[0]:\n",
    "                target_path.pop(0)\n",
    "                current_path.pop(0)\n",
    "                del_same_parents(target_path, current_path)\n",
    "            \n",
    "    current_path = os.getcwd().replace('\\\\', '/').split('/')\n",
    "    target_path = target_path.replace('\\\\', '/').split('/')\n",
    "    del_same_parents(target_path, current_path)\n",
    "    \n",
    "    return ['..'] * len(current_path) + target_path\n",
    "\n",
    "\n",
    "def append_source_relative_path(source_relative_path):\n",
    "    sys.path.append(os.sep.join(source_relative_path))"
   ]
  },
  {
   "cell_type": "code",
   "execution_count": null,
   "metadata": {},
   "outputs": [],
   "source": [
    "# paths = ['']\n",
    "# paths = [gen_relative_path(p) for p in paths]\n",
    "# print(paths)"
   ]
  },
  {
   "cell_type": "code",
   "execution_count": null,
   "metadata": {},
   "outputs": [],
   "source": [
    "paths = [['..', '..', '..', '..', '..', '..', '..', '已完成', 'Bridges', 'bitbucket', 'github', 'codes'], \n",
    "         ['..', '..', '..', '..', '..', '..', 'Utilities', 'bitbucket', 'github', 'codes'],\n",
    "         ['..', '..', '..', 'codes']]\n",
    "\n",
    "for path in paths:\n",
    "    append_source_relative_path(path)"
   ]
  },
  {
   "cell_type": "code",
   "execution_count": null,
   "metadata": {},
   "outputs": [],
   "source": [
    "%pylab inline\n",
    "\n",
    "from clock_generators.si535x.si5351 import Si5351 \n",
    "from utilities.adapters import peripherals"
   ]
  },
  {
   "cell_type": "markdown",
   "metadata": {},
   "source": [
    "## Debug mode?"
   ]
  },
  {
   "cell_type": "code",
   "execution_count": null,
   "metadata": {
    "scrolled": false
   },
   "outputs": [],
   "source": [
    "cls = Si5351\n",
    "\n",
    "cls.DEBUG_MODE_SHOW_BUS_DATA = False         # whether to show bus data. \n",
    "cls.DEBUG_MODE_PRINT_REGISTER = False        # whether to print registers. "
   ]
  },
  {
   "cell_type": "markdown",
   "metadata": {},
   "source": [
    "## Generators"
   ]
  },
  {
   "cell_type": "code",
   "execution_count": null,
   "metadata": {},
   "outputs": [],
   "source": [
    "with_hardware_device = False\n",
    "\n",
    "if with_hardware_device:\n",
    "    _i2c = peripherals.I2C.get_Ftdi_i2c() \n",
    "    \n",
    "else:\n",
    "    _i2c =  None  # using None for testing without actual hardware device.\n",
    "\n",
    "si = cls(_i2c)  "
   ]
  },
  {
   "cell_type": "code",
   "execution_count": null,
   "metadata": {},
   "outputs": [],
   "source": [
    "si.enable(True)"
   ]
  },
  {
   "cell_type": "code",
   "execution_count": null,
   "metadata": {},
   "outputs": [],
   "source": [
    "si.enable(False)"
   ]
  },
  {
   "cell_type": "code",
   "execution_count": null,
   "metadata": {},
   "outputs": [],
   "source": [
    "clk = si.clocks[0]\n",
    "pll = si.plls[0]\n",
    "ms = si.multisynths[0]"
   ]
  },
  {
   "cell_type": "code",
   "execution_count": null,
   "metadata": {},
   "outputs": [],
   "source": [
    "clk.enable(True)"
   ]
  },
  {
   "cell_type": "markdown",
   "metadata": {},
   "source": [
    "## Frequency Accuracy test"
   ]
  },
  {
   "cell_type": "markdown",
   "metadata": {},
   "source": [
    "### Xtal Frequency"
   ]
  },
  {
   "cell_type": "code",
   "execution_count": null,
   "metadata": {},
   "outputs": [],
   "source": [
    "freq_pfd = 25e6"
   ]
  },
  {
   "cell_type": "markdown",
   "metadata": {},
   "source": [
    "### Minimum Clock Frequency"
   ]
  },
  {
   "cell_type": "code",
   "execution_count": null,
   "metadata": {},
   "outputs": [],
   "source": [
    "freq_min = freq_pfd * 24 / 2048 / 128\n",
    "freq_min "
   ]
  },
  {
   "cell_type": "markdown",
   "metadata": {},
   "source": [
    "### set_freq function"
   ]
  },
  {
   "cell_type": "code",
   "execution_count": null,
   "metadata": {},
   "outputs": [],
   "source": [
    "def set_freq(freq, debug = True): \n",
    "    \n",
    "    clk.set_frequency(freq)   \n",
    "    freq_calculated = pll.freq / ms.divider / clk.divider\n",
    "    desired_ms_divider = 25e6 * pll.divider / clk.divider / freq    \n",
    "    err = ms.divider - desired_ms_divider\n",
    "    ms_divider_match = ms.divider == desired_ms_divider\n",
    "    \n",
    "    if debug:\n",
    "        print('freq:', freq)\n",
    "        print()    \n",
    "\n",
    "        print('pll.divider', pll.divider)\n",
    "        print('pll.freq', pll.freq)\n",
    "        print()\n",
    "\n",
    "        print('ms.divider', ms.divider)\n",
    "        print('ms.is_in_integer_mode', ms.is_in_integer_mode) \n",
    "        print('ms.is_divided_by_4', ms.is_divided_by_4)\n",
    "        print('ms.freq', ms.freq)\n",
    "        print()\n",
    "\n",
    "        print('clk.divider', clk.divider)\n",
    "        print('clk.freq', clk.freq)\n",
    "        print('freq_calculated', freq_calculated)\n",
    "        print('freq_calculated == freq' , freq_calculated == freq)\n",
    "        print()  \n",
    "        \n",
    "    return freq, err, desired_ms_divider, ms.divider"
   ]
  },
  {
   "cell_type": "markdown",
   "metadata": {},
   "source": [
    "## Set Frequency"
   ]
  },
  {
   "cell_type": "code",
   "execution_count": null,
   "metadata": {},
   "outputs": [],
   "source": [
    "clk.enable(False)"
   ]
  },
  {
   "cell_type": "code",
   "execution_count": null,
   "metadata": {},
   "outputs": [],
   "source": [
    "clk.enable(True)"
   ]
  },
  {
   "cell_type": "code",
   "execution_count": null,
   "metadata": {},
   "outputs": [],
   "source": [
    "freq_min = 2289\n",
    "freq_max = 225e6"
   ]
  },
  {
   "cell_type": "code",
   "execution_count": null,
   "metadata": {},
   "outputs": [],
   "source": [
    "freq = 2289  # minimum frequency\n",
    "# freq = 5.4e6\n",
    "freq = 225e6 # maximum frequency\n",
    "# freq = 112.4e6\n",
    "# freq = 113.4e6 \n",
    "# freq = 149.4e6\n",
    "# freq = 150.4e6 \n",
    "# freq = 97.7e6  # Radio station\n",
    "freq = 90e6\n",
    "freq = 25.2e6\n",
    "# freq = 50.6e6\n",
    "\n",
    "set_freq(freq)"
   ]
  },
  {
   "cell_type": "markdown",
   "metadata": {},
   "source": [
    "## Sweep and test a frequency range"
   ]
  },
  {
   "cell_type": "code",
   "execution_count": null,
   "metadata": {},
   "outputs": [],
   "source": [
    "def sweep(freq_start = freq_min, freq_end = freq_max, n_freqs = 5000 , sweep_type = 'linear'):\n",
    "\n",
    "    if sweep_type == 'linear':\n",
    "        start = freq_start\n",
    "        step = (freq_end - freq_start) / n_freqs\n",
    "        freqs = [(start + i * step) for i in range(n_freqs)]\n",
    "    else:\n",
    "        start = math.log10(freq_start)\n",
    "        step = math.log10(freq_end / freq_start) / n_freqs\n",
    "        freqs = [10 ** (start + i * step) for i in range(n_freqs)]\n",
    "    \n",
    "    return freqs\n",
    "\n",
    "# freqs = sweep(sweep_type = 'log')\n",
    "freqs = sweep(sweep_type = 'linear')"
   ]
  },
  {
   "cell_type": "code",
   "execution_count": null,
   "metadata": {},
   "outputs": [],
   "source": [
    "validated_result = np.array([set_freq(f, debug = False) for f in freqs]).T"
   ]
  },
  {
   "cell_type": "code",
   "execution_count": null,
   "metadata": {},
   "outputs": [],
   "source": [
    "freqs_tested = validated_result[0]\n",
    "errors = validated_result[1]"
   ]
  },
  {
   "cell_type": "code",
   "execution_count": null,
   "metadata": {},
   "outputs": [],
   "source": [
    "freqs_tested"
   ]
  },
  {
   "cell_type": "markdown",
   "metadata": {},
   "source": [
    "## Frequency vs. Errors"
   ]
  },
  {
   "cell_type": "code",
   "execution_count": null,
   "metadata": {},
   "outputs": [],
   "source": [
    "plt.plot(freqs_tested, errors);"
   ]
  }
 ],
 "metadata": {
  "kernelspec": {
   "display_name": "Python 3",
   "language": "python",
   "name": "python3"
  },
  "language_info": {
   "codemirror_mode": {
    "name": "ipython",
    "version": 3
   },
   "file_extension": ".py",
   "mimetype": "text/x-python",
   "name": "python",
   "nbconvert_exporter": "python",
   "pygments_lexer": "ipython3",
   "version": "3.6.10"
  }
 },
 "nbformat": 4,
 "nbformat_minor": 2
}
