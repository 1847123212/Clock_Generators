{
 "cells": [
  {
   "cell_type": "markdown",
   "metadata": {},
   "source": [
    "# Functional test with MicroPython Remote\n",
    "- https://www.analog.com/media/en/technical-documentation/data-sheets/ad9833.pdf\n",
    "- https://pypi.org/project/jupyter-micropython-remote/\n",
    "- https://towardsdatascience.com/micropython-on-esp-using-jupyter-6f366ff5ed9"
   ]
  },
  {
   "cell_type": "code",
   "execution_count": null,
   "metadata": {},
   "outputs": [],
   "source": [
    "%local\n",
    "!ls /dev/ttyUSB*"
   ]
  },
  {
   "cell_type": "code",
   "execution_count": 1,
   "metadata": {},
   "outputs": [
    {
     "name": "stdout",
     "output_type": "stream",
     "text": [
      "\u001b[34mConnected on COM4\n",
      "\u001b[0m"
     ]
    }
   ],
   "source": [
    "# %connect /dev/ttyUSB0 --baudrate=115200 --user='micro' --password='python' --wait=0\n",
    "\n",
    "%connect COM4 --baudrate=115200 --user='micro' --password='python' --wait=0"
   ]
  },
  {
   "cell_type": "code",
   "execution_count": null,
   "metadata": {},
   "outputs": [],
   "source": [
    "# %lsmagic"
   ]
  },
  {
   "cell_type": "code",
   "execution_count": null,
   "metadata": {},
   "outputs": [],
   "source": [
    "import os\n",
    "\n",
    "print(os.listdir('/remote'))"
   ]
  },
  {
   "cell_type": "code",
   "execution_count": null,
   "metadata": {},
   "outputs": [],
   "source": [
    "from peripherals import I2C\n",
    "from si5351_proxy import Si5351_proxy"
   ]
  },
  {
   "cell_type": "markdown",
   "metadata": {},
   "source": [
    "## Generators"
   ]
  },
  {
   "cell_type": "code",
   "execution_count": null,
   "metadata": {},
   "outputs": [],
   "source": [
    "with_hardware_device = True\n",
    "\n",
    "if with_hardware_device:\n",
    "    _i2c = I2C.get_uPy_i2c(scl_pin_id = 5, sda_pin_id = 4, freq = 400000)\n",
    "else:\n",
    "    _i2c = None  # using None for testing without actual hardware device.\n",
    "\n",
    "bus = I2C(_i2c)\n",
    "si = Si5351_proxy(bus)"
   ]
  },
  {
   "cell_type": "markdown",
   "metadata": {},
   "source": [
    "## Passing Variables between Local and Micropython Remote\n",
    "- https://gitlab.com/alelec/jupyter_micropython_remote\n",
    "- mprepl"
   ]
  },
  {
   "cell_type": "code",
   "execution_count": null,
   "metadata": {},
   "outputs": [],
   "source": [
    "%local \n",
    "\n",
    "registers_values = [(0, 0), (1, 0), (2, 0), (3, 0), (9, 0), (15, 0), (16, 79), (17, 79), (18, 79), (19, 79), (20, 79),\n",
    "                    (21, 79), (22, 79), (23, 79), (24, 0), (25, 0), (26, 0), (27, 1), (28, 0), (29, 16), (30, 0),\n",
    "                    (31, 0), (32, 0), (33, 0), (34, 0), (35, 1), (36, 0), (37, 16), (38, 0), (39, 0), (40, 0), (41, 0),\n",
    "                    (42, 0), (43, 1), (44, 0), (45, 16), (46, 0), (47, 0), (48, 0), (49, 0), (50, 0), (51, 1), (52, 0),\n",
    "                    (53, 16), (54, 0), (55, 0), (56, 0), (57, 0), (58, 0), (59, 1), (60, 0), (61, 16), (62, 0), (63, 0),\n",
    "                    (64, 0), (65, 0), (66, 0), (67, 1), (68, 0), (69, 16), (70, 0), (71, 0), (72, 0), (73, 0), (74, 0),\n",
    "                    (75, 1), (76, 0), (77, 16), (78, 0), (79, 0), (80, 0), (81, 0), (82, 0), (83, 1), (84, 0), (85, 16),\n",
    "                    (86, 0), (87, 0), (88, 0), (89, 0), (90, 36), (91, 36), (92, 0), (149, 0), (150, 0), (151, 0),\n",
    "                    (152, 0), (153, 0), (154, 0), (155, 0), (156, 0), (157, 0), (158, 0), (159, 0), (160, 0), (161, 0),\n",
    "                    (162, 0), (163, 0), (164, 0), (165, 0), (166, 0), (167, 0), (168, 0), (169, 0), (170, 0),\n",
    "                    (177, 160), (183, 210), (187, 208)]"
   ]
  },
  {
   "cell_type": "code",
   "execution_count": null,
   "metadata": {},
   "outputs": [],
   "source": [
    "%local \n",
    "\n",
    "import json\n",
    "\n",
    "def pc_dump_param(param, filename = 'params.txt'):\n",
    "    with open(filename, 'wt') as f:\n",
    "        json.dump(param, f)\n",
    "        \n",
    "pc_dump_param(registers_values)"
   ]
  },
  {
   "cell_type": "code",
   "execution_count": null,
   "metadata": {},
   "outputs": [],
   "source": [
    "print(os.listdir('/remote'))"
   ]
  },
  {
   "cell_type": "code",
   "execution_count": null,
   "metadata": {},
   "outputs": [],
   "source": [
    "import json\n",
    "\n",
    "def upy_load_param(filename = 'params.txt'): \n",
    "    \n",
    "    with open('/remote/' + filename , 'rt') as f:\n",
    "        param = json.load(f)\n",
    "        \n",
    "    return param"
   ]
  },
  {
   "cell_type": "code",
   "execution_count": null,
   "metadata": {},
   "outputs": [],
   "source": [
    "registers_values = upy_load_param()\n",
    "print(registers_values)"
   ]
  },
  {
   "cell_type": "code",
   "execution_count": null,
   "metadata": {},
   "outputs": [],
   "source": [
    "si.write_all_registers(registers_values)"
   ]
  },
  {
   "cell_type": "markdown",
   "metadata": {},
   "source": [
    "## Member functions test"
   ]
  },
  {
   "cell_type": "code",
   "execution_count": null,
   "metadata": {},
   "outputs": [],
   "source": [
    "for f in dir(Si5351_proxy):\n",
    "    if not f.startswith('_'):\n",
    "        print('si.{}()'.format(f))"
   ]
  },
  {
   "cell_type": "code",
   "execution_count": null,
   "metadata": {},
   "outputs": [],
   "source": [
    "si.write_register(9, 0)"
   ]
  },
  {
   "cell_type": "code",
   "execution_count": null,
   "metadata": {},
   "outputs": [],
   "source": [
    "print(si.read_register(9))"
   ]
  },
  {
   "cell_type": "code",
   "execution_count": null,
   "metadata": {},
   "outputs": [],
   "source": [
    "print(si.read_all_registers())"
   ]
  },
  {
   "cell_type": "code",
   "execution_count": null,
   "metadata": {},
   "outputs": [],
   "source": [
    "si.reset_plls()"
   ]
  },
  {
   "cell_type": "code",
   "execution_count": null,
   "metadata": {},
   "outputs": [],
   "source": [
    "si.enable(False)"
   ]
  },
  {
   "cell_type": "code",
   "execution_count": null,
   "metadata": {},
   "outputs": [],
   "source": [
    "si.enable(True)"
   ]
  },
  {
   "cell_type": "markdown",
   "metadata": {},
   "source": [
    "## Set Frequency"
   ]
  },
  {
   "cell_type": "code",
   "execution_count": 1,
   "metadata": {},
   "outputs": [],
   "source": [
    "freq_250e5 = [(0, 0), (1, 0), (2, 0), (3, 0), (9, 0), (15, 0), (16, 79), (17, 79), (18, 79), (19, 79), (20, 79),\n",
    "              (21, 79), (22, 79), (23, 79), (24, 0), (25, 0), (26, 0), (27, 1), (28, 0), (29, 16), (30, 0),\n",
    "              (31, 0), (32, 0), (33, 0), (34, 0), (35, 1), (36, 0), (37, 16), (38, 0), (39, 0), (40, 0), (41, 0),\n",
    "              (42, 0), (43, 1), (44, 0), (45, 16), (46, 0), (47, 0), (48, 0), (49, 0), (50, 0), (51, 1), (52, 0),\n",
    "              (53, 16), (54, 0), (55, 0), (56, 0), (57, 0), (58, 0), (59, 1), (60, 0), (61, 16), (62, 0), (63, 0),\n",
    "              (64, 0), (65, 0), (66, 0), (67, 1), (68, 0), (69, 16), (70, 0), (71, 0), (72, 0), (73, 0), (74, 0),\n",
    "              (75, 1), (76, 0), (77, 16), (78, 0), (79, 0), (80, 0), (81, 0), (82, 0), (83, 1), (84, 0), (85, 16),\n",
    "              (86, 0), (87, 0), (88, 0), (89, 0), (90, 36), (91, 36), (92, 0), (149, 0), (150, 0), (151, 0),\n",
    "              (152, 0), (153, 0), (154, 0), (155, 0), (156, 0), (157, 0), (158, 0), (159, 0), (160, 0), (161, 0),\n",
    "              (162, 0), (163, 0), (164, 0), (165, 0), (166, 0), (167, 0), (168, 0), (169, 0), (170, 0),\n",
    "              (177, 160), (183, 210), (187, 208)]"
   ]
  },
  {
   "cell_type": "code",
   "execution_count": null,
   "metadata": {},
   "outputs": [],
   "source": [
    "freq_106e5 =  [(0, 0), (1, 0), (2, 0), (3, 248), (9, 0), (15, 0), (16, 15), (17, 15), (18, 15), (19, 207), (20, 207), (21, 207), (22, 207), (23, 207), (24, 0), (25, 0), (26, 0), (27, 1), (28, 0), (29, 16), (30, 0), (31, 0), (32, 0), (33, 0), (34, 0), (35, 1), (36, 0), (37, 16), (38, 0), (39, 0), (40, 0), (41, 0), (42, 255), (43, 255), (44, 0), (45, 40), (46, 115), (47, 240), (48, 0), (49, 0), (50, 255), (51, 255), (52, 0), (53, 40), (54, 115), (55, 240), (56, 0), (57, 0), (58, 255), (59, 255), (60, 0), (61, 40), (62, 115), (63, 240), (64, 0), (65, 0), (66, 0), (67, 1), (68, 0), (69, 16), (70, 0), (71, 0), (72, 0), (73, 0), (74, 0), (75, 1), (76, 0), (77, 16), (78, 0), (79, 0), (80, 0), (81, 0), (82, 0), (83, 1), (84, 0), (85, 16), (86, 0), (87, 0), (88, 0), (89, 0), (90, 36), (91, 36), (92, 0), (149, 0), (150, 0), (151, 0), (152, 0), (153, 0), (154, 0), (155, 0), (156, 0), (157, 0), (158, 0), (159, 0), (160, 0), (161, 0), (162, 0), (163, 0), (164, 0), (165, 0), (166, 0), (167, 0), (168, 0), (169, 0), (170, 0), (177, 0), (183, 210), (187, 208)]"
   ]
  },
  {
   "cell_type": "code",
   "execution_count": 1,
   "metadata": {},
   "outputs": [],
   "source": [
    "freq_104e5 = [(0, 0), (1, 0), (2, 0), (3, 248), (9, 0), (15, 0), (16, 15), (17, 15), (18, 15), (19, 207), (20, 207), (21, 207), (22, 207), (23, 207), (24, 0), (25, 0), (26, 0), (27, 1), (28, 0), (29, 16), (30, 0), (31, 0), (32, 0), (33, 0), (34, 0), (35, 1), (36, 0), (37, 16), (38, 0), (39, 0), (40, 0), (41, 0), (42, 255), (43, 255), (44, 0), (45, 41), (46, 68), (47, 240), (48, 0), (49, 0), (50, 255), (51, 255), (52, 0), (53, 41), (54, 68), (55, 240), (56, 0), (57, 0), (58, 255), (59, 255), (60, 0), (61, 41), (62, 68), (63, 240), (64, 0), (65, 0), (66, 0), (67, 1), (68, 0), (69, 16), (70, 0), (71, 0), (72, 0), (73, 0), (74, 0), (75, 1), (76, 0), (77, 16), (78, 0), (79, 0), (80, 0), (81, 0), (82, 0), (83, 1), (84, 0), (85, 16), (86, 0), (87, 0), (88, 0), (89, 0), (90, 36), (91, 36), (92, 0), (149, 0), (150, 0), (151, 0), (152, 0), (153, 0), (154, 0), (155, 0), (156, 0), (157, 0), (158, 0), (159, 0), (160, 0), (161, 0), (162, 0), (163, 0), (164, 0), (165, 0), (166, 0), (167, 0), (168, 0), (169, 0), (170, 0), (177, 0), (183, 210), (187, 208)]"
   ]
  },
  {
   "cell_type": "code",
   "execution_count": 1,
   "metadata": {},
   "outputs": [],
   "source": [
    "si.write_all_registers(freq_250e5)"
   ]
  },
  {
   "cell_type": "code",
   "execution_count": 1,
   "metadata": {},
   "outputs": [],
   "source": [
    "si.write_all_registers(freq_104e5)"
   ]
  },
  {
   "cell_type": "code",
   "execution_count": null,
   "metadata": {},
   "outputs": [],
   "source": [
    "si.write_all_registers(freq_106e5)"
   ]
  },
  {
   "cell_type": "markdown",
   "metadata": {},
   "source": [
    "## Register read / write"
   ]
  },
  {
   "cell_type": "code",
   "execution_count": null,
   "metadata": {},
   "outputs": [],
   "source": [
    "si.write_register(3, 0xFF)  # disable"
   ]
  },
  {
   "cell_type": "code",
   "execution_count": null,
   "metadata": {},
   "outputs": [],
   "source": [
    "si.write_register(3, 0x00)  # enable"
   ]
  },
  {
   "cell_type": "code",
   "execution_count": null,
   "metadata": {},
   "outputs": [],
   "source": [
    "print('{:b}'.format(si.read_register(0)))"
   ]
  },
  {
   "cell_type": "code",
   "execution_count": null,
   "metadata": {},
   "outputs": [],
   "source": [
    "print(si.read_all_registers())"
   ]
  },
  {
   "cell_type": "code",
   "execution_count": null,
   "metadata": {},
   "outputs": [],
   "source": [
    "# %disconnet"
   ]
  },
  {
   "cell_type": "markdown",
   "metadata": {},
   "source": [
    "## All in One"
   ]
  },
  {
   "cell_type": "code",
   "execution_count": 1,
   "metadata": {},
   "outputs": [],
   "source": [
    "from peripherals import I2C\n",
    "from si5351_proxy import Si5351_proxy\n",
    "\n",
    "\n",
    "with_hardware_device = True\n",
    "\n",
    "if with_hardware_device:\n",
    "    _i2c = I2C.get_uPy_i2c(scl_pin_id = 5, sda_pin_id = 4, freq = 400000)\n",
    "else:\n",
    "    _i2c = None  # using None for testing without actual hardware device.\n",
    "\n",
    "bus = I2C(_i2c)\n",
    "\n",
    "registers_values = [(0, 0), (1, 0), (2, 0), (3, 0), (9, 0), (15, 0), (16, 79), (17, 79), (18, 79), (19, 79), (20, 79),\n",
    "                    (21, 79), (22, 79), (23, 79), (24, 0), (25, 0), (26, 0), (27, 1), (28, 0), (29, 16), (30, 0),\n",
    "                    (31, 0), (32, 0), (33, 0), (34, 0), (35, 1), (36, 0), (37, 16), (38, 0), (39, 0), (40, 0), (41, 0),\n",
    "                    (42, 0), (43, 1), (44, 0), (45, 16), (46, 0), (47, 0), (48, 0), (49, 0), (50, 0), (51, 1), (52, 0),\n",
    "                    (53, 16), (54, 0), (55, 0), (56, 0), (57, 0), (58, 0), (59, 1), (60, 0), (61, 16), (62, 0), (63, 0),\n",
    "                    (64, 0), (65, 0), (66, 0), (67, 1), (68, 0), (69, 16), (70, 0), (71, 0), (72, 0), (73, 0), (74, 0),\n",
    "                    (75, 1), (76, 0), (77, 16), (78, 0), (79, 0), (80, 0), (81, 0), (82, 0), (83, 1), (84, 0), (85, 16),\n",
    "                    (86, 0), (87, 0), (88, 0), (89, 0), (90, 36), (91, 36), (92, 0), (149, 0), (150, 0), (151, 0),\n",
    "                    (152, 0), (153, 0), (154, 0), (155, 0), (156, 0), (157, 0), (158, 0), (159, 0), (160, 0), (161, 0),\n",
    "                    (162, 0), (163, 0), (164, 0), (165, 0), (166, 0), (167, 0), (168, 0), (169, 0), (170, 0),\n",
    "                    (177, 160), (183, 210), (187, 208)]\n",
    "\n",
    "si = Si5351_proxy(bus, registers_values = registers_values)"
   ]
  }
 ],
 "metadata": {
  "kernelspec": {
   "display_name": "MicroPython Remote",
   "language": "micropython",
   "name": "micropython"
  },
  "language_info": {
   "codemirror_mode": "python",
   "file_extension": ".py",
   "mimetype": "text/python",
   "name": "micropython"
  }
 },
 "nbformat": 4,
 "nbformat_minor": 2
}
