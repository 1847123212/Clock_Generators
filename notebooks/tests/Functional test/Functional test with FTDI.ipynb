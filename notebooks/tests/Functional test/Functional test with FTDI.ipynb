{
 "cells": [
  {
   "cell_type": "markdown",
   "metadata": {},
   "source": [
    "# Functional test with FTDI\n",
    "- https://www.silabs.com/documents/public/data-sheets/Si5351-B.pdf\n",
    "- https://www.silabs.com/documents/public/application-notes/AN619.pdf\n",
    "- https://www.silabs.com/content/usergenerated/asi/cloud/attachments/siliconlabs/en/community/groups/timing/knowledge-base/jcr:content/content/primary/blog/modifying_the_feedba-K8Pv/311668.pdf"
   ]
  },
  {
   "cell_type": "code",
   "execution_count": 1,
   "metadata": {},
   "outputs": [],
   "source": [
    "import os, sys\n",
    "\n",
    "def gen_relative_path(target_path): \n",
    "    \n",
    "    def del_same_parents(target_path, current_path):\n",
    "        if len(target_path) * len(current_path) > 0:\n",
    "            if target_path[0] == current_path[0]:\n",
    "                target_path.pop(0)\n",
    "                current_path.pop(0)\n",
    "                del_same_parents(target_path, current_path)\n",
    "            \n",
    "    current_path = os.getcwd().replace('\\\\', '/').split('/')\n",
    "    target_path = target_path.replace('\\\\', '/').split('/')\n",
    "    del_same_parents(target_path, current_path)\n",
    "    \n",
    "    return ['..'] * len(current_path) + target_path\n",
    "\n",
    "\n",
    "def append_source_relative_path(source_relative_path):\n",
    "    sys.path.append(os.sep.join(source_relative_path))"
   ]
  },
  {
   "cell_type": "code",
   "execution_count": 2,
   "metadata": {},
   "outputs": [],
   "source": [
    "# paths = ['']\n",
    "# paths = [gen_relative_path(p) for p in paths]\n",
    "# print(paths)"
   ]
  },
  {
   "cell_type": "code",
   "execution_count": 3,
   "metadata": {},
   "outputs": [],
   "source": [
    "paths = [['..', '..', '..', '..', '..', '..', '..', '已完成', 'Bridges', 'bitbucket', 'github', 'codes'], \n",
    "         ['..', '..', '..', '..', '..', '..', 'Utilities', 'bitbucket', 'github', 'codes'],\n",
    "         ['..', '..', '..', 'codes']]\n",
    "\n",
    "for path in paths:\n",
    "    append_source_relative_path(path)"
   ]
  },
  {
   "cell_type": "code",
   "execution_count": 4,
   "metadata": {},
   "outputs": [
    {
     "name": "stdout",
     "output_type": "stream",
     "text": [
      "Populating the interactive namespace from numpy and matplotlib\n"
     ]
    }
   ],
   "source": [
    "%pylab inline\n",
    "\n",
    "from clock_generators.si535x.si5351 import Si5351A_B_GT\n",
    "from utilities.adapters import peripherals"
   ]
  },
  {
   "cell_type": "markdown",
   "metadata": {},
   "source": [
    "## Debug mode?"
   ]
  },
  {
   "cell_type": "code",
   "execution_count": 5,
   "metadata": {
    "scrolled": false
   },
   "outputs": [],
   "source": [
    "cls = Si5351A_B_GT\n",
    "\n",
    "cls.DEBUG_MODE_SHOW_BUS_DATA = False         # whether to show bus data. \n",
    "cls.DEBUG_MODE_PRINT_REGISTER = False        # whether to print registers. "
   ]
  },
  {
   "cell_type": "markdown",
   "metadata": {},
   "source": [
    "## Generators and Modulators"
   ]
  },
  {
   "cell_type": "code",
   "execution_count": 6,
   "metadata": {
    "scrolled": false
   },
   "outputs": [
    {
     "name": "stdout",
     "output_type": "stream",
     "text": [
      "****** Virtual device. Data may not be real ! ******\n"
     ]
    }
   ],
   "source": [
    "with_hardware_device = False\n",
    "\n",
    "if with_hardware_device:\n",
    "    _i2c = peripherals.I2C.get_Ftdi_i2c() \n",
    "    \n",
    "else:\n",
    "    _i2c =  None  # using None for testing without actual hardware device.\n",
    "\n",
    "si = cls(_i2c)  "
   ]
  },
  {
   "cell_type": "markdown",
   "metadata": {},
   "source": [
    "## Registers values file I/O"
   ]
  },
  {
   "cell_type": "code",
   "execution_count": 7,
   "metadata": {},
   "outputs": [],
   "source": [
    "si.map.save_to_file('Initial_values.txt')\n",
    "initial_values = si.map.read_file('Initial_values.txt') "
   ]
  },
  {
   "cell_type": "code",
   "execution_count": 8,
   "metadata": {},
   "outputs": [],
   "source": [
    "# clock_builder_values = si.map.read_file('Si5351A-RevB-Registers.txt') \n",
    "clock_builder_values = si.map.read_file('Si5351A-RevB-Registers with CenterSS 6ns skew.txt')"
   ]
  },
  {
   "cell_type": "code",
   "execution_count": 9,
   "metadata": {},
   "outputs": [],
   "source": [
    "# si.write_all_registers(initial_values)"
   ]
  },
  {
   "cell_type": "code",
   "execution_count": 10,
   "metadata": {},
   "outputs": [],
   "source": [
    "si.map.reset()\n",
    "si.read_all_registers()\n",
    "si.map.save_to_file('Read_back_values.txt')\n",
    "read_back_values = si.map.read_file('Read_back_values.txt')"
   ]
  },
  {
   "cell_type": "markdown",
   "metadata": {},
   "source": [
    "## Compare Register Value Sets"
   ]
  },
  {
   "cell_type": "code",
   "execution_count": 11,
   "metadata": {
    "scrolled": false
   },
   "outputs": [
    {
     "data": {
      "text/plain": [
       "array([[  0.,  nan,   0.,   1.],\n",
       "       [  1.,  nan,   0.,   1.],\n",
       "       [  2.,  19.,   0.,   1.],\n",
       "       [  3.,   0., 248.,   1.],\n",
       "       [  4.,   0.,  nan,   1.],\n",
       "       [  7.,   1.,  nan,   1.],\n",
       "       [  9.,  nan,   0.,   1.],\n",
       "       [ 15.,   0.,   0.,   0.],\n",
       "       [ 16.,  15.,  79.,   1.],\n",
       "       [ 17.,  47.,  79.,   1.],\n",
       "       [ 18.,  47.,  79.,   1.],\n",
       "       [ 19., 140., 207.,   1.],\n",
       "       [ 20., 140., 207.,   1.],\n",
       "       [ 21., 140., 207.,   1.],\n",
       "       [ 22., 140., 207.,   1.],\n",
       "       [ 23., 140., 207.,   1.],\n",
       "       [ 24.,  nan,   0.,   1.],\n",
       "       [ 25.,  nan,   0.,   1.],\n",
       "       [ 26.,   0., 255.,   1.],\n",
       "       [ 27.,   1., 255.,   1.],\n",
       "       [ 28.,   0.,   0.,   0.],\n",
       "       [ 29.,  16.,  16.,   0.],\n",
       "       [ 30.,   0.,   0.,   0.],\n",
       "       [ 31.,   0., 240.,   1.],\n",
       "       [ 32.,   0.,   0.,   0.],\n",
       "       [ 33.,   0.,   0.,   0.],\n",
       "       [ 34.,   0., 255.,   1.],\n",
       "       [ 35.,   1., 255.,   1.],\n",
       "       [ 36.,   0.,   0.,   0.],\n",
       "       [ 37.,  16.,  16.,   0.],\n",
       "       [ 38.,   0.,   0.,   0.],\n",
       "       [ 39.,   0., 240.,   1.],\n",
       "       [ 40.,   0.,   0.,   0.],\n",
       "       [ 41.,   0.,   0.,   0.],\n",
       "       [ 42.,   0., 255.,   1.],\n",
       "       [ 43.,   1., 255.,   1.],\n",
       "       [ 44.,   0.,   0.,   0.],\n",
       "       [ 45.,  16.,  16.,   0.],\n",
       "       [ 46.,   0.,   0.,   0.],\n",
       "       [ 47.,   0., 240.,   1.],\n",
       "       [ 48.,   0.,   0.,   0.],\n",
       "       [ 49.,   0.,   0.,   0.],\n",
       "       [ 50.,   0., 255.,   1.],\n",
       "       [ 51.,   1., 255.,   1.],\n",
       "       [ 52.,   0.,   0.,   0.],\n",
       "       [ 53.,  16.,  16.,   0.],\n",
       "       [ 54.,   0.,   0.,   0.],\n",
       "       [ 55.,   0., 240.,   1.],\n",
       "       [ 56.,   0.,   0.,   0.],\n",
       "       [ 57.,   0.,   0.,   0.],\n",
       "       [ 58.,   0., 255.,   1.],\n",
       "       [ 59.,   1., 255.,   1.],\n",
       "       [ 60.,   0.,   0.,   0.],\n",
       "       [ 61.,  16.,  16.,   0.],\n",
       "       [ 62.,   0.,   0.,   0.],\n",
       "       [ 63.,   0., 240.,   1.],\n",
       "       [ 64.,   0.,   0.,   0.],\n",
       "       [ 65.,   0.,   0.,   0.],\n",
       "       [ 66.,  nan, 255.,   1.],\n",
       "       [ 67.,  nan, 255.,   1.],\n",
       "       [ 68.,  nan,   0.,   1.],\n",
       "       [ 69.,  nan,  16.,   1.],\n",
       "       [ 70.,  nan,   0.,   1.],\n",
       "       [ 71.,  nan, 240.,   1.],\n",
       "       [ 72.,  nan,   0.,   1.],\n",
       "       [ 73.,  nan,   0.,   1.],\n",
       "       [ 74.,  nan, 255.,   1.],\n",
       "       [ 75.,  nan, 255.,   1.],\n",
       "       [ 76.,  nan,   0.,   1.],\n",
       "       [ 77.,  nan,  16.,   1.],\n",
       "       [ 78.,  nan,   0.,   1.],\n",
       "       [ 79.,  nan, 240.,   1.],\n",
       "       [ 80.,  nan,   0.,   1.],\n",
       "       [ 81.,  nan,   0.,   1.],\n",
       "       [ 82.,  nan, 255.,   1.],\n",
       "       [ 83.,  nan, 255.,   1.],\n",
       "       [ 84.,  nan,   0.,   1.],\n",
       "       [ 85.,  nan,  16.,   1.],\n",
       "       [ 86.,  nan,   0.,   1.],\n",
       "       [ 87.,  nan, 240.,   1.],\n",
       "       [ 88.,  nan,   0.,   1.],\n",
       "       [ 89.,  nan,   0.,   1.],\n",
       "       [ 90.,   0.,  36.,   1.],\n",
       "       [ 91.,   0.,  36.,   1.],\n",
       "       [ 92.,  nan,   0.,   1.],\n",
       "       [149., 130.,   0.,   1.],\n",
       "       [150., 249.,   0.,   1.],\n",
       "       [151., 255.,   0.,   1.],\n",
       "       [152., 255.,   0.,   1.],\n",
       "       [153.,   0.,   0.,   0.],\n",
       "       [154.,   0.,   0.,   0.],\n",
       "       [155., 198.,   0.,   1.],\n",
       "       [156.,   2.,   0.,   1.],\n",
       "       [157., 251.,   0.,   1.],\n",
       "       [158., 127.,   0.,   1.],\n",
       "       [159., 255.,   0.,   1.],\n",
       "       [160.,   0.,   0.,   0.],\n",
       "       [161.,   0.,   0.,   0.],\n",
       "       [162.,   0.,   0.,   0.],\n",
       "       [163.,   0.,   0.,   0.],\n",
       "       [164.,   0.,   0.,   0.],\n",
       "       [165.,  22.,   0.,   1.],\n",
       "       [166.,   0.,   0.,   0.],\n",
       "       [167.,   0.,   0.,   0.],\n",
       "       [168.,  nan,   0.,   1.],\n",
       "       [169.,  nan,   0.,   1.],\n",
       "       [170.,  nan,   0.,   1.],\n",
       "       [177.,  nan,   0.,   1.],\n",
       "       [183., 210., 210.,   0.],\n",
       "       [187.,  nan, 192.,   1.]])"
      ]
     },
     "execution_count": 11,
     "metadata": {},
     "output_type": "execute_result"
    }
   ],
   "source": [
    "si.map.compare_values_sets(clock_builder_values, initial_values)"
   ]
  },
  {
   "cell_type": "code",
   "execution_count": 12,
   "metadata": {
    "scrolled": false
   },
   "outputs": [
    {
     "data": {
      "text/plain": [
       "array([[  0.,   0.,   0.,   0.],\n",
       "       [  1.,   0.,   0.,   0.],\n",
       "       [  2.,   0.,   0.,   0.],\n",
       "       [  3., 248.,   0.,   1.],\n",
       "       [  9.,   0.,   0.,   0.],\n",
       "       [ 15.,   0.,   0.,   0.],\n",
       "       [ 16.,  79.,   0.,   1.],\n",
       "       [ 17.,  79.,   0.,   1.],\n",
       "       [ 18.,  79.,   0.,   1.],\n",
       "       [ 19., 207.,   0.,   1.],\n",
       "       [ 20., 207.,   0.,   1.],\n",
       "       [ 21., 207.,   0.,   1.],\n",
       "       [ 22., 207.,   0.,   1.],\n",
       "       [ 23., 207.,   0.,   1.],\n",
       "       [ 24.,   0.,   0.,   0.],\n",
       "       [ 25.,   0.,   0.,   0.],\n",
       "       [ 26., 255.,   0.,   1.],\n",
       "       [ 27., 255.,   0.,   1.],\n",
       "       [ 28.,   0.,   0.,   0.],\n",
       "       [ 29.,  16.,   0.,   1.],\n",
       "       [ 30.,   0.,   0.,   0.],\n",
       "       [ 31., 240.,   0.,   1.],\n",
       "       [ 32.,   0.,   0.,   0.],\n",
       "       [ 33.,   0.,   0.,   0.],\n",
       "       [ 34., 255.,   0.,   1.],\n",
       "       [ 35., 255.,   0.,   1.],\n",
       "       [ 36.,   0.,   0.,   0.],\n",
       "       [ 37.,  16.,   0.,   1.],\n",
       "       [ 38.,   0.,   0.,   0.],\n",
       "       [ 39., 240.,   0.,   1.],\n",
       "       [ 40.,   0.,   0.,   0.],\n",
       "       [ 41.,   0.,   0.,   0.],\n",
       "       [ 42., 255.,   0.,   1.],\n",
       "       [ 43., 255.,   0.,   1.],\n",
       "       [ 44.,   0.,   0.,   0.],\n",
       "       [ 45.,  16.,   0.,   1.],\n",
       "       [ 46.,   0.,   0.,   0.],\n",
       "       [ 47., 240.,   0.,   1.],\n",
       "       [ 48.,   0.,   0.,   0.],\n",
       "       [ 49.,   0.,   0.,   0.],\n",
       "       [ 50., 255.,   0.,   1.],\n",
       "       [ 51., 255.,   0.,   1.],\n",
       "       [ 52.,   0.,   0.,   0.],\n",
       "       [ 53.,  16.,   0.,   1.],\n",
       "       [ 54.,   0.,   0.,   0.],\n",
       "       [ 55., 240.,   0.,   1.],\n",
       "       [ 56.,   0.,   0.,   0.],\n",
       "       [ 57.,   0.,   0.,   0.],\n",
       "       [ 58., 255.,   0.,   1.],\n",
       "       [ 59., 255.,   0.,   1.],\n",
       "       [ 60.,   0.,   0.,   0.],\n",
       "       [ 61.,  16.,   0.,   1.],\n",
       "       [ 62.,   0.,   0.,   0.],\n",
       "       [ 63., 240.,   0.,   1.],\n",
       "       [ 64.,   0.,   0.,   0.],\n",
       "       [ 65.,   0.,   0.,   0.],\n",
       "       [ 66., 255.,   0.,   1.],\n",
       "       [ 67., 255.,   0.,   1.],\n",
       "       [ 68.,   0.,   0.,   0.],\n",
       "       [ 69.,  16.,   0.,   1.],\n",
       "       [ 70.,   0.,   0.,   0.],\n",
       "       [ 71., 240.,   0.,   1.],\n",
       "       [ 72.,   0.,   0.,   0.],\n",
       "       [ 73.,   0.,   0.,   0.],\n",
       "       [ 74., 255.,   0.,   1.],\n",
       "       [ 75., 255.,   0.,   1.],\n",
       "       [ 76.,   0.,   0.,   0.],\n",
       "       [ 77.,  16.,   0.,   1.],\n",
       "       [ 78.,   0.,   0.,   0.],\n",
       "       [ 79., 240.,   0.,   1.],\n",
       "       [ 80.,   0.,   0.,   0.],\n",
       "       [ 81.,   0.,   0.,   0.],\n",
       "       [ 82., 255.,   0.,   1.],\n",
       "       [ 83., 255.,   0.,   1.],\n",
       "       [ 84.,   0.,   0.,   0.],\n",
       "       [ 85.,  16.,   0.,   1.],\n",
       "       [ 86.,   0.,   0.,   0.],\n",
       "       [ 87., 240.,   0.,   1.],\n",
       "       [ 88.,   0.,   0.,   0.],\n",
       "       [ 89.,   0.,   0.,   0.],\n",
       "       [ 90.,  36.,   0.,   1.],\n",
       "       [ 91.,  36.,   0.,   1.],\n",
       "       [ 92.,   0.,   0.,   0.],\n",
       "       [149.,   0.,   0.,   0.],\n",
       "       [150.,   0.,   0.,   0.],\n",
       "       [151.,   0.,   0.,   0.],\n",
       "       [152.,   0.,   0.,   0.],\n",
       "       [153.,   0.,   0.,   0.],\n",
       "       [154.,   0.,   0.,   0.],\n",
       "       [155.,   0.,   0.,   0.],\n",
       "       [156.,   0.,   0.,   0.],\n",
       "       [157.,   0.,   0.,   0.],\n",
       "       [158.,   0.,   0.,   0.],\n",
       "       [159.,   0.,   0.,   0.],\n",
       "       [160.,   0.,   0.,   0.],\n",
       "       [161.,   0.,   0.,   0.],\n",
       "       [162.,   0.,   0.,   0.],\n",
       "       [163.,   0.,   0.,   0.],\n",
       "       [164.,   0.,   0.,   0.],\n",
       "       [165.,   0.,   0.,   0.],\n",
       "       [166.,   0.,   0.,   0.],\n",
       "       [167.,   0.,   0.,   0.],\n",
       "       [168.,   0.,   0.,   0.],\n",
       "       [169.,   0.,   0.,   0.],\n",
       "       [170.,   0.,   0.,   0.],\n",
       "       [177.,   0.,   0.,   0.],\n",
       "       [183., 210.,  18.,   1.],\n",
       "       [187., 192.,   0.,   1.]])"
      ]
     },
     "execution_count": 12,
     "metadata": {},
     "output_type": "execute_result"
    }
   ],
   "source": [
    "si.map.compare_values_sets(initial_values, read_back_values) "
   ]
  },
  {
   "cell_type": "markdown",
   "metadata": {},
   "source": [
    "## Find Integer Dividers for a Frequency"
   ]
  },
  {
   "cell_type": "code",
   "execution_count": 13,
   "metadata": {
    "scrolled": false
   },
   "outputs": [
    {
     "data": {
      "text/plain": [
       "[((36, 10, 1), (25000000, 900000000, 90000000, 90000000))]"
      ]
     },
     "execution_count": 13,
     "metadata": {},
     "output_type": "execute_result"
    }
   ],
   "source": [
    "matchs = si.find_integer_dividers(freq_desired = 90e6, even_only = True, torance_hz = 1) \n",
    "matchs"
   ]
  },
  {
   "cell_type": "code",
   "execution_count": 14,
   "metadata": {
    "scrolled": false
   },
   "outputs": [
    {
     "data": {
      "text/plain": [
       "[((36, 6, 1), (25000000, 900000000, 150000000, 150000000))]"
      ]
     },
     "execution_count": 14,
     "metadata": {},
     "output_type": "execute_result"
    }
   ],
   "source": [
    "matchs = si.find_integer_dividers(freq_desired = 150e6, even_only = True, torance_hz = 1) \n",
    "matchs"
   ]
  },
  {
   "cell_type": "markdown",
   "metadata": {},
   "source": [
    "## Find Common Integer Dividers for Frequencies"
   ]
  },
  {
   "cell_type": "code",
   "execution_count": 15,
   "metadata": {},
   "outputs": [
    {
     "data": {
      "text/plain": [
       "({36}, [{36}, {24, 30, 36}, {36}])"
      ]
     },
     "execution_count": 15,
     "metadata": {},
     "output_type": "execute_result"
    }
   ],
   "source": [
    "desired_clock_freqs = (45e6, 30e5, 90e6)\n",
    "# desired_clock_freqs = (125e6, 48e6, 28.322e6, 74.25e6, 74.25e6, 24.576e6, 22.5792e6, 33.3333e6)\n",
    "# desired_clock_freqs = (125e6, 48e6, 28.322e6, 74.25e6, 74.25e6, 24.576e6, 22.5792e6, 33.3333e6)\n",
    "# desired_clock_freqs = (25e6, 25e6)\n",
    "\n",
    "common_pll_dividers, freqs_pll_dividers, freqs_matches = si.find_integer_pll_dividers_for_clocks(desired_clock_freqs)\n",
    "common_pll_dividers, freqs_pll_dividers"
   ]
  },
  {
   "cell_type": "markdown",
   "metadata": {},
   "source": [
    "## Current Configuration"
   ]
  },
  {
   "cell_type": "code",
   "execution_count": 16,
   "metadata": {},
   "outputs": [],
   "source": [
    "si.init()"
   ]
  },
  {
   "cell_type": "code",
   "execution_count": 17,
   "metadata": {},
   "outputs": [],
   "source": [
    "si.clocks[0].set_phase(45)"
   ]
  },
  {
   "cell_type": "code",
   "execution_count": 18,
   "metadata": {},
   "outputs": [
    {
     "data": {
      "text/html": [
       "<div>\n",
       "<style scoped>\n",
       "    .dataframe tbody tr th:only-of-type {\n",
       "        vertical-align: middle;\n",
       "    }\n",
       "\n",
       "    .dataframe tbody tr th {\n",
       "        vertical-align: top;\n",
       "    }\n",
       "\n",
       "    .dataframe thead th {\n",
       "        text-align: right;\n",
       "    }\n",
       "</style>\n",
       "<table border=\"1\" class=\"dataframe\">\n",
       "  <thead>\n",
       "    <tr style=\"text-align: right;\">\n",
       "      <th></th>\n",
       "      <th>mclk_type</th>\n",
       "      <th>mclk_idx</th>\n",
       "      <th>mclk_freq</th>\n",
       "      <th>pll_idx</th>\n",
       "      <th>pll_divider</th>\n",
       "      <th>pll_freq</th>\n",
       "      <th>multisynth_idx</th>\n",
       "      <th>multisynth_divider</th>\n",
       "      <th>multisynth_freq</th>\n",
       "      <th>multisynth_in_integer_mode</th>\n",
       "      <th>multisynth_divided_by_4</th>\n",
       "      <th>clock_idx</th>\n",
       "      <th>clock_divider</th>\n",
       "      <th>clock_freq</th>\n",
       "      <th>power_downed</th>\n",
       "      <th>enabled</th>\n",
       "      <th>oeb_pin_masked</th>\n",
       "      <th>phase_offset_enabled</th>\n",
       "      <th>phase</th>\n",
       "    </tr>\n",
       "  </thead>\n",
       "  <tbody>\n",
       "    <tr>\n",
       "      <th>0</th>\n",
       "      <td>_Xtal</td>\n",
       "      <td>0</td>\n",
       "      <td>25000000</td>\n",
       "      <td>0</td>\n",
       "      <td>36</td>\n",
       "      <td>900000000</td>\n",
       "      <td>0.0</td>\n",
       "      <td>36.0</td>\n",
       "      <td>25000000.0</td>\n",
       "      <td>False</td>\n",
       "      <td>False</td>\n",
       "      <td>0.0</td>\n",
       "      <td>1.0</td>\n",
       "      <td>25000000.0</td>\n",
       "      <td>False</td>\n",
       "      <td>True</td>\n",
       "      <td>False</td>\n",
       "      <td>True</td>\n",
       "      <td>45.0</td>\n",
       "    </tr>\n",
       "    <tr>\n",
       "      <th>1</th>\n",
       "      <td>_Xtal</td>\n",
       "      <td>0</td>\n",
       "      <td>25000000</td>\n",
       "      <td>0</td>\n",
       "      <td>36</td>\n",
       "      <td>900000000</td>\n",
       "      <td>1.0</td>\n",
       "      <td>36.0</td>\n",
       "      <td>25000000.0</td>\n",
       "      <td>True</td>\n",
       "      <td>False</td>\n",
       "      <td>1.0</td>\n",
       "      <td>1.0</td>\n",
       "      <td>25000000.0</td>\n",
       "      <td>False</td>\n",
       "      <td>True</td>\n",
       "      <td>False</td>\n",
       "      <td>False</td>\n",
       "      <td>0.0</td>\n",
       "    </tr>\n",
       "    <tr>\n",
       "      <th>2</th>\n",
       "      <td>_Xtal</td>\n",
       "      <td>0</td>\n",
       "      <td>25000000</td>\n",
       "      <td>0</td>\n",
       "      <td>36</td>\n",
       "      <td>900000000</td>\n",
       "      <td>2.0</td>\n",
       "      <td>36.0</td>\n",
       "      <td>25000000.0</td>\n",
       "      <td>True</td>\n",
       "      <td>False</td>\n",
       "      <td>2.0</td>\n",
       "      <td>1.0</td>\n",
       "      <td>25000000.0</td>\n",
       "      <td>False</td>\n",
       "      <td>True</td>\n",
       "      <td>False</td>\n",
       "      <td>False</td>\n",
       "      <td>0.0</td>\n",
       "    </tr>\n",
       "    <tr>\n",
       "      <th>3</th>\n",
       "      <td>_Xtal</td>\n",
       "      <td>0</td>\n",
       "      <td>25000000</td>\n",
       "      <td>0</td>\n",
       "      <td>36</td>\n",
       "      <td>900000000</td>\n",
       "      <td>3.0</td>\n",
       "      <td>36.0</td>\n",
       "      <td>25000000.0</td>\n",
       "      <td>True</td>\n",
       "      <td>False</td>\n",
       "      <td>3.0</td>\n",
       "      <td>1.0</td>\n",
       "      <td>25000000.0</td>\n",
       "      <td>True</td>\n",
       "      <td>False</td>\n",
       "      <td>False</td>\n",
       "      <td>False</td>\n",
       "      <td>0.0</td>\n",
       "    </tr>\n",
       "    <tr>\n",
       "      <th>4</th>\n",
       "      <td>_Xtal</td>\n",
       "      <td>0</td>\n",
       "      <td>25000000</td>\n",
       "      <td>0</td>\n",
       "      <td>36</td>\n",
       "      <td>900000000</td>\n",
       "      <td>4.0</td>\n",
       "      <td>36.0</td>\n",
       "      <td>25000000.0</td>\n",
       "      <td>True</td>\n",
       "      <td>False</td>\n",
       "      <td>4.0</td>\n",
       "      <td>1.0</td>\n",
       "      <td>25000000.0</td>\n",
       "      <td>True</td>\n",
       "      <td>False</td>\n",
       "      <td>False</td>\n",
       "      <td>False</td>\n",
       "      <td>0.0</td>\n",
       "    </tr>\n",
       "    <tr>\n",
       "      <th>5</th>\n",
       "      <td>_Xtal</td>\n",
       "      <td>0</td>\n",
       "      <td>25000000</td>\n",
       "      <td>0</td>\n",
       "      <td>36</td>\n",
       "      <td>900000000</td>\n",
       "      <td>5.0</td>\n",
       "      <td>36.0</td>\n",
       "      <td>25000000.0</td>\n",
       "      <td>True</td>\n",
       "      <td>False</td>\n",
       "      <td>5.0</td>\n",
       "      <td>1.0</td>\n",
       "      <td>25000000.0</td>\n",
       "      <td>True</td>\n",
       "      <td>False</td>\n",
       "      <td>False</td>\n",
       "      <td>False</td>\n",
       "      <td>0.0</td>\n",
       "    </tr>\n",
       "    <tr>\n",
       "      <th>6</th>\n",
       "      <td>_Xtal</td>\n",
       "      <td>0</td>\n",
       "      <td>25000000</td>\n",
       "      <td>0</td>\n",
       "      <td>36</td>\n",
       "      <td>900000000</td>\n",
       "      <td>6.0</td>\n",
       "      <td>36.0</td>\n",
       "      <td>25000000.0</td>\n",
       "      <td>True</td>\n",
       "      <td>False</td>\n",
       "      <td>6.0</td>\n",
       "      <td>1.0</td>\n",
       "      <td>25000000.0</td>\n",
       "      <td>True</td>\n",
       "      <td>False</td>\n",
       "      <td>False</td>\n",
       "      <td>False</td>\n",
       "      <td>0.0</td>\n",
       "    </tr>\n",
       "    <tr>\n",
       "      <th>7</th>\n",
       "      <td>_Xtal</td>\n",
       "      <td>0</td>\n",
       "      <td>25000000</td>\n",
       "      <td>0</td>\n",
       "      <td>36</td>\n",
       "      <td>900000000</td>\n",
       "      <td>7.0</td>\n",
       "      <td>36.0</td>\n",
       "      <td>25000000.0</td>\n",
       "      <td>True</td>\n",
       "      <td>False</td>\n",
       "      <td>7.0</td>\n",
       "      <td>1.0</td>\n",
       "      <td>25000000.0</td>\n",
       "      <td>True</td>\n",
       "      <td>False</td>\n",
       "      <td>False</td>\n",
       "      <td>False</td>\n",
       "      <td>0.0</td>\n",
       "    </tr>\n",
       "    <tr>\n",
       "      <th>8</th>\n",
       "      <td>_Xtal</td>\n",
       "      <td>0</td>\n",
       "      <td>25000000</td>\n",
       "      <td>1</td>\n",
       "      <td>36</td>\n",
       "      <td>900000000</td>\n",
       "      <td>NaN</td>\n",
       "      <td>NaN</td>\n",
       "      <td>NaN</td>\n",
       "      <td>NaN</td>\n",
       "      <td>NaN</td>\n",
       "      <td>NaN</td>\n",
       "      <td>NaN</td>\n",
       "      <td>NaN</td>\n",
       "      <td>NaN</td>\n",
       "      <td>NaN</td>\n",
       "      <td>NaN</td>\n",
       "      <td>NaN</td>\n",
       "      <td>NaN</td>\n",
       "    </tr>\n",
       "  </tbody>\n",
       "</table>\n",
       "</div>"
      ],
      "text/plain": [
       "  mclk_type  mclk_idx  mclk_freq  pll_idx  pll_divider   pll_freq  \\\n",
       "0     _Xtal         0   25000000        0           36  900000000   \n",
       "1     _Xtal         0   25000000        0           36  900000000   \n",
       "2     _Xtal         0   25000000        0           36  900000000   \n",
       "3     _Xtal         0   25000000        0           36  900000000   \n",
       "4     _Xtal         0   25000000        0           36  900000000   \n",
       "5     _Xtal         0   25000000        0           36  900000000   \n",
       "6     _Xtal         0   25000000        0           36  900000000   \n",
       "7     _Xtal         0   25000000        0           36  900000000   \n",
       "8     _Xtal         0   25000000        1           36  900000000   \n",
       "\n",
       "   multisynth_idx  multisynth_divider  multisynth_freq  \\\n",
       "0             0.0                36.0       25000000.0   \n",
       "1             1.0                36.0       25000000.0   \n",
       "2             2.0                36.0       25000000.0   \n",
       "3             3.0                36.0       25000000.0   \n",
       "4             4.0                36.0       25000000.0   \n",
       "5             5.0                36.0       25000000.0   \n",
       "6             6.0                36.0       25000000.0   \n",
       "7             7.0                36.0       25000000.0   \n",
       "8             NaN                 NaN              NaN   \n",
       "\n",
       "  multisynth_in_integer_mode multisynth_divided_by_4  clock_idx  \\\n",
       "0                      False                   False        0.0   \n",
       "1                       True                   False        1.0   \n",
       "2                       True                   False        2.0   \n",
       "3                       True                   False        3.0   \n",
       "4                       True                   False        4.0   \n",
       "5                       True                   False        5.0   \n",
       "6                       True                   False        6.0   \n",
       "7                       True                   False        7.0   \n",
       "8                        NaN                     NaN        NaN   \n",
       "\n",
       "   clock_divider  clock_freq power_downed enabled oeb_pin_masked  \\\n",
       "0            1.0  25000000.0        False    True          False   \n",
       "1            1.0  25000000.0        False    True          False   \n",
       "2            1.0  25000000.0        False    True          False   \n",
       "3            1.0  25000000.0         True   False          False   \n",
       "4            1.0  25000000.0         True   False          False   \n",
       "5            1.0  25000000.0         True   False          False   \n",
       "6            1.0  25000000.0         True   False          False   \n",
       "7            1.0  25000000.0         True   False          False   \n",
       "8            NaN         NaN          NaN     NaN            NaN   \n",
       "\n",
       "  phase_offset_enabled  phase  \n",
       "0                 True   45.0  \n",
       "1                False    0.0  \n",
       "2                False    0.0  \n",
       "3                False    0.0  \n",
       "4                False    0.0  \n",
       "5                False    0.0  \n",
       "6                False    0.0  \n",
       "7                False    0.0  \n",
       "8                  NaN    NaN  "
      ]
     },
     "execution_count": 18,
     "metadata": {},
     "output_type": "execute_result"
    }
   ],
   "source": [
    "si.current_configuration"
   ]
  },
  {
   "cell_type": "markdown",
   "metadata": {},
   "source": [
    "## Main functions test"
   ]
  },
  {
   "cell_type": "code",
   "execution_count": 19,
   "metadata": {},
   "outputs": [
    {
     "name": "stdout",
     "output_type": "stream",
     "text": [
      "si.DEBUG_MODE()\n",
      "si.DEBUG_MODE_PRINT_REGISTER()\n",
      "si.DEBUG_MODE_SHOW_BUS_DATA()\n",
      "si.FREQ_REF()\n",
      "si.HAS_VCXO()\n",
      "si.I2C_ADDRESS()\n",
      "si.N_OUTPUT_CLOCKS()\n",
      "si.OUTPUT_CLOCKS_IN_USE()\n",
      "si.READ_ONLY_REGISTERS()\n",
      "si.close()\n",
      "si.current_configuration()\n",
      "si.current_frequency()\n",
      "si.current_phase()\n",
      "si.do()\n",
      "si.do_on_devices()\n",
      "si.enable()\n",
      "si.enable_output()\n",
      "si.enable_output_channel()\n",
      "si.find_integer_dividers()\n",
      "si.find_integer_pll_dividers_for_clocks()\n",
      "si.init()\n",
      "si.is_virtual_device()\n",
      "si.load_registers()\n",
      "si.pause()\n",
      "si.print()\n",
      "si.read_all_registers()\n",
      "si.ready()\n",
      "si.registers_values()\n",
      "si.reset()\n",
      "si.reset_plls()\n",
      "si.restore_clocks_freqs()\n",
      "si.resume()\n",
      "si.revision()\n",
      "si.set_frequency()\n",
      "si.set_phase()\n",
      "si.start()\n",
      "si.status()\n",
      "si.stop()\n",
      "si.update()\n",
      "si.write_all_registers()\n"
     ]
    }
   ],
   "source": [
    "for f in dir(cls):\n",
    "    if not f.startswith('_'):\n",
    "        print('si.{}()'.format(f))"
   ]
  },
  {
   "cell_type": "code",
   "execution_count": 20,
   "metadata": {
    "scrolled": false
   },
   "outputs": [],
   "source": [
    "si.init()"
   ]
  },
  {
   "cell_type": "code",
   "execution_count": 21,
   "metadata": {},
   "outputs": [
    {
     "data": {
      "text/plain": [
       "True"
      ]
     },
     "execution_count": 21,
     "metadata": {},
     "output_type": "execute_result"
    }
   ],
   "source": [
    "si.is_virtual_device"
   ]
  },
  {
   "cell_type": "code",
   "execution_count": 22,
   "metadata": {},
   "outputs": [
    {
     "data": {
      "text/plain": [
       "0"
      ]
     },
     "execution_count": 22,
     "metadata": {},
     "output_type": "execute_result"
    }
   ],
   "source": [
    "si.revision"
   ]
  },
  {
   "cell_type": "code",
   "execution_count": 23,
   "metadata": {},
   "outputs": [],
   "source": [
    "# si.set_frequency(2323)"
   ]
  },
  {
   "cell_type": "code",
   "execution_count": 24,
   "metadata": {},
   "outputs": [],
   "source": [
    "# si.set_phase(55)"
   ]
  },
  {
   "cell_type": "code",
   "execution_count": 25,
   "metadata": {},
   "outputs": [],
   "source": [
    "si.reset()"
   ]
  },
  {
   "cell_type": "code",
   "execution_count": 26,
   "metadata": {},
   "outputs": [],
   "source": [
    "# si.current_frequency"
   ]
  },
  {
   "cell_type": "code",
   "execution_count": 27,
   "metadata": {},
   "outputs": [],
   "source": [
    "# si.current_phase"
   ]
  },
  {
   "cell_type": "code",
   "execution_count": 28,
   "metadata": {},
   "outputs": [],
   "source": [
    "si.enable()"
   ]
  },
  {
   "cell_type": "code",
   "execution_count": 29,
   "metadata": {},
   "outputs": [],
   "source": [
    "si.enable_output()"
   ]
  },
  {
   "cell_type": "code",
   "execution_count": 30,
   "metadata": {},
   "outputs": [],
   "source": [
    "si.enable_output_channel(0)"
   ]
  },
  {
   "cell_type": "code",
   "execution_count": 31,
   "metadata": {},
   "outputs": [],
   "source": [
    "si.load_registers(initial_values)"
   ]
  },
  {
   "cell_type": "code",
   "execution_count": 32,
   "metadata": {
    "scrolled": false
   },
   "outputs": [
    {
     "data": {
      "text/plain": [
       "[(0, 'Device_Status', 0),\n",
       " (1, 'Interrupt_Status_Sticky', 0),\n",
       " (2, 'Interrupt_Status_Mask', 0),\n",
       " (3, 'Output_Enable_Control', 0),\n",
       " (9, 'OEB_Pin_Enable_Control_Mask', 0),\n",
       " (15, 'PLL_Input_Source', 0),\n",
       " (16, 'CLK0_Control', 0),\n",
       " (17, 'CLK1_Control', 0),\n",
       " (18, 'CLK2_Control', 0),\n",
       " (19, 'CLK3_Control', 0),\n",
       " (20, 'CLK4_Control', 0),\n",
       " (21, 'CLK5_Control', 0),\n",
       " (22, 'CLK6_Control', 0),\n",
       " (23, 'CLK7_Control', 0),\n",
       " (24, 'CLK3_0_Disable_State', 0),\n",
       " (25, 'CLK7_4_Disable_State', 0),\n",
       " (26, 'Multisynth_NA_Parameters_26', 0),\n",
       " (27, 'Multisynth_NA_Parameters_27', 0),\n",
       " (28, 'Multisynth_NA_Parameters_28', 0),\n",
       " (29, 'Multisynth_NA_Parameters_29', 0),\n",
       " (30, 'Multisynth_NA_Parameters_30', 0),\n",
       " (31, 'Multisynth_NA_Parameters_31', 0),\n",
       " (32, 'Multisynth_NA_Parameters_32', 0),\n",
       " (33, 'Multisynth_NA_Parameters_33', 0),\n",
       " (34, 'Multisynth_NB_Parameters_34', 0),\n",
       " (35, 'Multisynth_NB_Parameters_35', 0),\n",
       " (36, 'Multisynth_NB_Parameters_36', 0),\n",
       " (37, 'Multisynth_NB_Parameters_37', 0),\n",
       " (38, 'Multisynth_NB_Parameters_38', 0),\n",
       " (39, 'Multisynth_NB_Parameters_39', 0),\n",
       " (40, 'Multisynth_NB_Parameters_40', 0),\n",
       " (41, 'Multisynth_NB_Parameters_41', 0),\n",
       " (42, 'Multisynth0_Parameters_42', 0),\n",
       " (43, 'Multisynth0_Parameters_43', 0),\n",
       " (44, 'Multisynth0_Parameters_44', 0),\n",
       " (45, 'Multisynth0_Parameters_45', 0),\n",
       " (46, 'Multisynth0_Parameters_46', 0),\n",
       " (47, 'Multisynth0_Parameters_47', 0),\n",
       " (48, 'Multisynth0_Parameters_48', 0),\n",
       " (49, 'Multisynth0_Parameters_49', 0),\n",
       " (50, 'Multisynth1_Parameters_50', 0),\n",
       " (51, 'Multisynth1_Parameters_51', 0),\n",
       " (52, 'Multisynth1_Parameters_52', 0),\n",
       " (53, 'Multisynth1_Parameters_53', 0),\n",
       " (54, 'Multisynth1_Parameters_54', 0),\n",
       " (55, 'Multisynth1_Parameters_55', 0),\n",
       " (56, 'Multisynth1_Parameters_56', 0),\n",
       " (57, 'Multisynth1_Parameters_57', 0),\n",
       " (58, 'Multisynth2_Parameters_58', 0),\n",
       " (59, 'Multisynth2_Parameters_59', 0),\n",
       " (60, 'Multisynth2_Parameters_60', 0),\n",
       " (61, 'Multisynth2_Parameters_61', 0),\n",
       " (62, 'Multisynth2_Parameters_62', 0),\n",
       " (63, 'Multisynth2_Parameters_63', 0),\n",
       " (64, 'Multisynth2_Parameters_64', 0),\n",
       " (65, 'Multisynth2_Parameters_65', 0),\n",
       " (66, 'Multisynth3_Parameters_66', 0),\n",
       " (67, 'Multisynth3_Parameters_67', 0),\n",
       " (68, 'Multisynth3_Parameters_68', 0),\n",
       " (69, 'Multisynth3_Parameters_69', 0),\n",
       " (70, 'Multisynth3_Parameters_70', 0),\n",
       " (71, 'Multisynth3_Parameters_71', 0),\n",
       " (72, 'Multisynth3_Parameters_72', 0),\n",
       " (73, 'Multisynth3_Parameters_73', 0),\n",
       " (74, 'Multisynth4_Parameters_74', 0),\n",
       " (75, 'Multisynth4_Parameters_75', 0),\n",
       " (76, 'Multisynth4_Parameters_76', 0),\n",
       " (77, 'Multisynth4_Parameters_77', 0),\n",
       " (78, 'Multisynth4_Parameters_78', 0),\n",
       " (79, 'Multisynth4_Parameters_79', 0),\n",
       " (80, 'Multisynth4_Parameters_80', 0),\n",
       " (81, 'Multisynth4_Parameters_81', 0),\n",
       " (82, 'Multisynth5_Parameters_82', 0),\n",
       " (83, 'Multisynth5_Parameters_83', 0),\n",
       " (84, 'Multisynth5_Parameters_84', 0),\n",
       " (85, 'Multisynth5_Parameters_85', 0),\n",
       " (86, 'Multisynth5_Parameters_86', 0),\n",
       " (87, 'Multisynth5_Parameters_87', 0),\n",
       " (88, 'Multisynth5_Parameters_88', 0),\n",
       " (89, 'Multisynth5_Parameters_89', 0),\n",
       " (90, 'Multisynth6_Parameters', 0),\n",
       " (91, 'Multisynth7_Parameters', 0),\n",
       " (92, 'Clock_6_and_7_Output_Divider', 0),\n",
       " (149, 'Spread_Spectrum_Parameters_149', 0),\n",
       " (150, 'Spread_Spectrum_Parameters_150', 0),\n",
       " (151, 'Spread_Spectrum_Parameters_151', 0),\n",
       " (152, 'Spread_Spectrum_Parameters_152', 0),\n",
       " (153, 'Spread_Spectrum_Parameters_153', 0),\n",
       " (154, 'Spread_Spectrum_Parameters_154', 0),\n",
       " (155, 'Spread_Spectrum_Parameters_155', 0),\n",
       " (156, 'Spread_Spectrum_Parameters_156', 0),\n",
       " (157, 'Spread_Spectrum_Parameters_157', 0),\n",
       " (158, 'Spread_Spectrum_Parameters_158', 0),\n",
       " (159, 'Spread_Spectrum_Parameters_159', 0),\n",
       " (160, 'Spread_Spectrum_Parameters_160', 0),\n",
       " (161, 'Spread_Spectrum_Parameters_161', 0),\n",
       " (162, 'VCXO_Parameter_162', 0),\n",
       " (163, 'VCXO_Parameter_163', 0),\n",
       " (164, 'VCXO_Parameter_164', 0),\n",
       " (165, 'CLK0_Initial_Phase_Offset', 0),\n",
       " (166, 'CLK1_Initial_Phase_Offset', 0),\n",
       " (167, 'CLK2_Initial_Phase_Offset', 0),\n",
       " (168, 'CLK3_Initial_Phase_Offset', 0),\n",
       " (169, 'CLK4_Initial_Phase_Offset', 0),\n",
       " (170, 'CLK5_Initial_Phase_Offset', 0),\n",
       " (177, 'PLL_Reset', 0),\n",
       " (183, 'Crystal_Internal_Load_Capacitance', 18),\n",
       " (187, 'Fanout_Enable', 0)]"
      ]
     },
     "execution_count": 32,
     "metadata": {},
     "output_type": "execute_result"
    }
   ],
   "source": [
    "si.read_all_registers()"
   ]
  },
  {
   "cell_type": "code",
   "execution_count": 33,
   "metadata": {},
   "outputs": [
    {
     "data": {
      "text/plain": [
       "True"
      ]
     },
     "execution_count": 33,
     "metadata": {},
     "output_type": "execute_result"
    }
   ],
   "source": [
    "si.ready"
   ]
  },
  {
   "cell_type": "code",
   "execution_count": 34,
   "metadata": {},
   "outputs": [
    {
     "name": "stdout",
     "output_type": "stream",
     "text": [
      "\n",
      "<< Device_Status >>:  ('0x0', '0b0')\n",
      "[ SYS_INIT ]   :  0\n",
      "[ LOL_B ]      :  0\n",
      "[ LOL_A ]      :  0\n",
      "[ LOS_CLKIN ]  :  0\n",
      "[ LOS_XTAL ]   :  0\n",
      "[ Reserved_2 ] :  0\n",
      "[ REVID ]      :  0\n"
     ]
    },
    {
     "data": {
      "text/plain": [
       "10"
      ]
     },
     "execution_count": 34,
     "metadata": {},
     "output_type": "execute_result"
    }
   ],
   "source": [
    "si.status.print()"
   ]
  },
  {
   "cell_type": "code",
   "execution_count": 35,
   "metadata": {},
   "outputs": [],
   "source": [
    "si.restore_clocks_freqs()"
   ]
  },
  {
   "cell_type": "code",
   "execution_count": 36,
   "metadata": {},
   "outputs": [],
   "source": [
    "si.write_all_registers()"
   ]
  },
  {
   "cell_type": "code",
   "execution_count": 37,
   "metadata": {},
   "outputs": [],
   "source": [
    "si.start()"
   ]
  },
  {
   "cell_type": "code",
   "execution_count": 38,
   "metadata": {},
   "outputs": [],
   "source": [
    "si.pause()"
   ]
  },
  {
   "cell_type": "code",
   "execution_count": 39,
   "metadata": {},
   "outputs": [],
   "source": [
    "si.resume()"
   ]
  },
  {
   "cell_type": "code",
   "execution_count": 40,
   "metadata": {},
   "outputs": [],
   "source": [
    "si.update()"
   ]
  },
  {
   "cell_type": "code",
   "execution_count": 41,
   "metadata": {},
   "outputs": [],
   "source": [
    "si.stop()"
   ]
  },
  {
   "cell_type": "code",
   "execution_count": 42,
   "metadata": {},
   "outputs": [],
   "source": [
    "si.close()"
   ]
  },
  {
   "cell_type": "code",
   "execution_count": 43,
   "metadata": {},
   "outputs": [
    {
     "name": "stdout",
     "output_type": "stream",
     "text": [
      "\n",
      "<< Device_Status >>:  ('0x0', '0b0')\n",
      "[ SYS_INIT ]   :  0\n",
      "[ LOL_B ]      :  0\n",
      "[ LOL_A ]      :  0\n",
      "[ LOS_CLKIN ]  :  0\n",
      "[ LOS_XTAL ]   :  0\n",
      "[ Reserved_2 ] :  0\n",
      "[ REVID ]      :  0\n",
      "\n",
      "<< Interrupt_Status_Sticky >>:  ('0x0', '0b0')\n",
      "[ SYS_INIT_STKY ]  :  0\n",
      "[ LOL_B_STKY ]     :  0\n",
      "[ LOL_A_STKY ]     :  0\n",
      "[ LOS_CLKIN_STKY ] :  0\n",
      "[ LOS_XTAL_STKY ]  :  0\n",
      "[ Reserved_0 ]     :  0\n",
      "\n",
      "<< Interrupt_Status_Mask >>:  ('0x0', '0b0')\n",
      "[ SYS_INIT_MASK ]   :  0\n",
      "[ LOL_B_MASK ]      :  0\n",
      "[ LOL_A_MASK ]      :  0\n",
      "[ LOS__CLKIN_MASK ] :  0\n",
      "[ LOS__XTAL_MASK ]  :  0\n",
      "[ Reserved_0 ]      :  0\n",
      "\n",
      "<< Output_Enable_Control >>:  ('0xff', '0b11111111')\n",
      "[ CLK7_OEB ] :  1\n",
      "[ CLK6_OEB ] :  1\n",
      "[ CLK5_OEB ] :  1\n",
      "[ CLK4_OEB ] :  1\n",
      "[ CLK3_OEB ] :  1\n",
      "[ CLK2_OEB ] :  1\n",
      "[ CLK1_OEB ] :  1\n",
      "[ CLK0_OEB ] :  1\n",
      "\n",
      "<< OEB_Pin_Enable_Control_Mask >>:  ('0x0', '0b0')\n",
      "[ OEB_MASK_7 ] :  0\n",
      "[ OEB_MASK_6 ] :  0\n",
      "[ OEB_MASK_5 ] :  0\n",
      "[ OEB_MASK_4 ] :  0\n",
      "[ OEB_MASK_3 ] :  0\n",
      "[ OEB_MASK_2 ] :  0\n",
      "[ OEB_MASK_1 ] :  0\n",
      "[ OEB_MASK_0 ] :  0\n",
      "\n",
      "<< PLL_Input_Source >>:  ('0x0', '0b0')\n",
      "[ CLKIN_DIV ]  :  0\n",
      "[ Reserved_4 ] :  0\n",
      "[ PLLB_SRC ]   :  0\n",
      "[ PLLA_SRC ]   :  0\n",
      "[ Reserved_0 ] :  0\n",
      "\n",
      "<< CLK0_Control >>:  ('0x0', '0b0')\n",
      "[ CLK0_PDN ]  :  0\n",
      "[ MS0_INT ]   :  0\n",
      "[ MS0_SRC ]   :  0\n",
      "[ CLK0_INV ]  :  0\n",
      "[ CLK0_SRC ]  :  0\n",
      "[ CLK0_IDRV ] :  0\n",
      "\n",
      "<< CLK1_Control >>:  ('0x0', '0b0')\n",
      "[ CLK1_PDN ]  :  0\n",
      "[ MS1_INT ]   :  0\n",
      "[ MS1_SRC ]   :  0\n",
      "[ CLK1_INV ]  :  0\n",
      "[ CLK1_SRC ]  :  0\n",
      "[ CLK1_IDRV ] :  0\n",
      "\n",
      "<< CLK2_Control >>:  ('0x0', '0b0')\n",
      "[ CLK2_PDN ]  :  0\n",
      "[ MS2_INT ]   :  0\n",
      "[ MS2_SRC ]   :  0\n",
      "[ CLK2_INV ]  :  0\n",
      "[ CLK2_SRC ]  :  0\n",
      "[ CLK2_IDRV ] :  0\n",
      "\n",
      "<< CLK3_Control >>:  ('0x0', '0b0')\n",
      "[ CLK3_PDN ]  :  0\n",
      "[ MS3_INT ]   :  0\n",
      "[ MS3_SRC ]   :  0\n",
      "[ CLK3_INV ]  :  0\n",
      "[ CLK3_SRC ]  :  0\n",
      "[ CLK3_IDRV ] :  0\n",
      "\n",
      "<< CLK4_Control >>:  ('0x0', '0b0')\n",
      "[ CLK4_PDN ]  :  0\n",
      "[ MS4_INT ]   :  0\n",
      "[ MS4_SRC ]   :  0\n",
      "[ CLK4_INV ]  :  0\n",
      "[ CLK4_SRC ]  :  0\n",
      "[ CLK4_IDRV ] :  0\n",
      "\n",
      "<< CLK5_Control >>:  ('0x0', '0b0')\n",
      "[ CLK5_PDN ]  :  0\n",
      "[ MS5_INT ]   :  0\n",
      "[ MS5_SRC ]   :  0\n",
      "[ CLK5_INV ]  :  0\n",
      "[ CLK5_SRC ]  :  0\n",
      "[ CLK5_IDRV ] :  0\n",
      "\n",
      "<< CLK6_Control >>:  ('0x0', '0b0')\n",
      "[ CLK6_PDN ]  :  0\n",
      "[ FBA_INT ]   :  0\n",
      "[ MS6_SRC ]   :  0\n",
      "[ CLK6_INV ]  :  0\n",
      "[ CLK6_SRC ]  :  0\n",
      "[ CLK6_IDRV ] :  0\n",
      "\n",
      "<< CLK7_Control >>:  ('0x0', '0b0')\n",
      "[ CLK7_PDN ]  :  0\n",
      "[ FBB_INT ]   :  0\n",
      "[ MS7_SRC ]   :  0\n",
      "[ CLK7_INV ]  :  0\n",
      "[ CLK7_SRC ]  :  0\n",
      "[ CLK7_IDRV ] :  0\n",
      "\n",
      "<< CLK3_0_Disable_State >>:  ('0x0', '0b0')\n",
      "[ CLK3_DIS_STATE ] :  0\n",
      "[ CLK2_DIS_STATE ] :  0\n",
      "[ CLK1_DIS_STATE ] :  0\n",
      "[ CLK0_DIS_STATE ] :  0\n",
      "\n",
      "<< CLK7_4_Disable_State >>:  ('0x0', '0b0')\n",
      "[ CLK7_DIS_STATE ] :  0\n",
      "[ CLK6_DIS_STATE ] :  0\n",
      "[ CLK5_DIS_STATE ] :  0\n",
      "[ CLK4_DIS_STATE ] :  0\n",
      "\n",
      "<< Multisynth_NA_Parameters_26 >>:  ('0x0', '0b0')\n",
      "[ MSNA_P3_15_8 ] :  0\n",
      "\n",
      "<< Multisynth_NA_Parameters_27 >>:  ('0x0', '0b0')\n",
      "[ MSNA_P3_7_0 ] :  0\n",
      "\n",
      "<< Multisynth_NA_Parameters_28 >>:  ('0x0', '0b0')\n",
      "[ Unused ]        :  0\n",
      "[ Reserved_2 ]    :  0\n",
      "[ MSNA_P1_17_16 ] :  0\n",
      "\n",
      "<< Multisynth_NA_Parameters_29 >>:  ('0x0', '0b0')\n",
      "[ MSNA_P1_15_8 ] :  0\n",
      "\n",
      "<< Multisynth_NA_Parameters_30 >>:  ('0x0', '0b0')\n",
      "[ MSNA_P1_7_0 ] :  0\n",
      "\n",
      "<< Multisynth_NA_Parameters_31 >>:  ('0x0', '0b0')\n",
      "[ MSNA_P3_19_16 ] :  0\n",
      "[ MSNA_P2_19_16 ] :  0\n",
      "\n",
      "<< Multisynth_NA_Parameters_32 >>:  ('0x0', '0b0')\n",
      "[ MSNA_P2_15_8 ] :  0\n",
      "\n",
      "<< Multisynth_NA_Parameters_33 >>:  ('0x0', '0b0')\n",
      "[ MSNA_P2_7_0 ] :  0\n",
      "\n",
      "<< Multisynth_NB_Parameters_34 >>:  ('0x0', '0b0')\n",
      "[ MSNB_P3_15_8 ] :  0\n",
      "\n",
      "<< Multisynth_NB_Parameters_35 >>:  ('0x0', '0b0')\n",
      "[ MSNB_P3_7_0 ] :  0\n",
      "\n",
      "<< Multisynth_NB_Parameters_36 >>:  ('0x0', '0b0')\n",
      "[ Unused ]        :  0\n",
      "[ Reserved_2 ]    :  0\n",
      "[ MSNB_P1_17_16 ] :  0\n",
      "\n",
      "<< Multisynth_NB_Parameters_37 >>:  ('0x0', '0b0')\n",
      "[ MSNB_P1_15_8 ] :  0\n",
      "\n",
      "<< Multisynth_NB_Parameters_38 >>:  ('0x0', '0b0')\n",
      "[ MSNB_P1_7_0 ] :  0\n",
      "\n",
      "<< Multisynth_NB_Parameters_39 >>:  ('0x0', '0b0')\n",
      "[ MSNB_P3_19_16 ] :  0\n",
      "[ MSNB_P2_19_16 ] :  0\n",
      "\n",
      "<< Multisynth_NB_Parameters_40 >>:  ('0x0', '0b0')\n",
      "[ MSNB_P2_15_8 ] :  0\n",
      "\n",
      "<< Multisynth_NB_Parameters_41 >>:  ('0x0', '0b0')\n",
      "[ MSNB_P2_7_0 ] :  0\n",
      "\n",
      "<< Multisynth0_Parameters_42 >>:  ('0x0', '0b0')\n",
      "[ MS0_P3_15_8 ] :  0\n",
      "\n",
      "<< Multisynth0_Parameters_43 >>:  ('0x0', '0b0')\n",
      "[ MS0_P3_7_0 ] :  0\n",
      "\n",
      "<< Multisynth0_Parameters_44 >>:  ('0x0', '0b0')\n",
      "[ Unused ]       :  0\n",
      "[ R0_DIV ]       :  0\n",
      "[ MS0_DIVBY4 ]   :  0\n",
      "[ MS0_P1_17_16 ] :  0\n",
      "\n",
      "<< Multisynth0_Parameters_45 >>:  ('0x0', '0b0')\n",
      "[ MS0_P1_15_8 ] :  0\n",
      "\n",
      "<< Multisynth0_Parameters_46 >>:  ('0x0', '0b0')\n",
      "[ MS0_P1_7_0 ] :  0\n",
      "\n",
      "<< Multisynth0_Parameters_47 >>:  ('0x0', '0b0')\n",
      "[ MS0_P3_19_16 ] :  0\n",
      "[ MS0_P2_19_16 ] :  0\n",
      "\n",
      "<< Multisynth0_Parameters_48 >>:  ('0x0', '0b0')\n",
      "[ MS0_P2_15_8 ] :  0\n",
      "\n",
      "<< Multisynth0_Parameters_49 >>:  ('0x0', '0b0')\n",
      "[ MS0_P2_7_0 ] :  0\n",
      "\n",
      "<< Multisynth1_Parameters_50 >>:  ('0x0', '0b0')\n",
      "[ MS1_P3_15_8 ] :  0\n",
      "\n",
      "<< Multisynth1_Parameters_51 >>:  ('0x0', '0b0')\n",
      "[ MS1_P3_7_0 ] :  0\n",
      "\n",
      "<< Multisynth1_Parameters_52 >>:  ('0x0', '0b0')\n",
      "[ Unused ]       :  0\n",
      "[ R1_DIV ]       :  0\n",
      "[ MS1_DIVBY4 ]   :  0\n",
      "[ MS1_P1_17_16 ] :  0\n",
      "\n",
      "<< Multisynth1_Parameters_53 >>:  ('0x0', '0b0')\n",
      "[ MS1_P1_15_8 ] :  0\n",
      "\n",
      "<< Multisynth1_Parameters_54 >>:  ('0x0', '0b0')\n",
      "[ MS1_P1_7_0 ] :  0\n",
      "\n",
      "<< Multisynth1_Parameters_55 >>:  ('0x0', '0b0')\n",
      "[ MS1_P3_19_16 ] :  0\n",
      "[ MS1_P2_19_16 ] :  0\n",
      "\n",
      "<< Multisynth1_Parameters_56 >>:  ('0x0', '0b0')\n",
      "[ MS1_P2_15_8 ] :  0\n",
      "\n",
      "<< Multisynth1_Parameters_57 >>:  ('0x0', '0b0')\n",
      "[ MS1_P2_7_0 ] :  0\n",
      "\n",
      "<< Multisynth2_Parameters_58 >>:  ('0x0', '0b0')\n",
      "[ MS2_P3_15_8 ] :  0\n",
      "\n",
      "<< Multisynth2_Parameters_59 >>:  ('0x0', '0b0')\n",
      "[ MS2_P3_7_0 ] :  0\n",
      "\n",
      "<< Multisynth2_Parameters_60 >>:  ('0x0', '0b0')\n",
      "[ Unused ]       :  0\n",
      "[ R2_DIV ]       :  0\n",
      "[ MS2_DIVBY4 ]   :  0\n",
      "[ MS2_P1_17_16 ] :  0\n",
      "\n",
      "<< Multisynth2_Parameters_61 >>:  ('0x0', '0b0')\n",
      "[ MS2_P1_15_8 ] :  0\n",
      "\n",
      "<< Multisynth2_Parameters_62 >>:  ('0x0', '0b0')\n",
      "[ MS2_P1_7_0 ] :  0\n",
      "\n",
      "<< Multisynth2_Parameters_63 >>:  ('0x0', '0b0')\n",
      "[ MS2_P3_19_16 ] :  0\n",
      "[ MS2_P2_19_16 ] :  0\n",
      "\n",
      "<< Multisynth2_Parameters_64 >>:  ('0x0', '0b0')\n",
      "[ MS2_P2_15_8 ] :  0\n",
      "\n",
      "<< Multisynth2_Parameters_65 >>:  ('0x0', '0b0')\n",
      "[ MS2_P2_7_0 ] :  0\n",
      "\n",
      "<< Multisynth3_Parameters_66 >>:  ('0x0', '0b0')\n",
      "[ MS3_P3_15_8 ] :  0\n",
      "\n",
      "<< Multisynth3_Parameters_67 >>:  ('0x0', '0b0')\n",
      "[ MS3_P3_7_0 ] :  0\n",
      "\n",
      "<< Multisynth3_Parameters_68 >>:  ('0x0', '0b0')\n",
      "[ Unused ]       :  0\n",
      "[ R3_DIV ]       :  0\n",
      "[ MS3_DIVBY4 ]   :  0\n",
      "[ MS3_P1_17_16 ] :  0\n",
      "\n",
      "<< Multisynth3_Parameters_69 >>:  ('0x0', '0b0')\n",
      "[ MS3_P1_15_8 ] :  0\n",
      "\n",
      "<< Multisynth3_Parameters_70 >>:  ('0x0', '0b0')\n",
      "[ MS3_P1_7_0 ] :  0\n",
      "\n",
      "<< Multisynth3_Parameters_71 >>:  ('0x0', '0b0')\n",
      "[ MS3_P3_19_16 ] :  0\n",
      "[ MS3_P2_19_16 ] :  0\n",
      "\n",
      "<< Multisynth3_Parameters_72 >>:  ('0x0', '0b0')\n",
      "[ MS3_P2_15_8 ] :  0\n",
      "\n",
      "<< Multisynth3_Parameters_73 >>:  ('0x0', '0b0')\n",
      "[ MS3_P2_7_0 ] :  0\n",
      "\n",
      "<< Multisynth4_Parameters_74 >>:  ('0x0', '0b0')\n",
      "[ MS4_P3_15_8 ] :  0\n",
      "\n",
      "<< Multisynth4_Parameters_75 >>:  ('0x0', '0b0')\n",
      "[ MS4_P3_7_0 ] :  0\n",
      "\n",
      "<< Multisynth4_Parameters_76 >>:  ('0x0', '0b0')\n",
      "[ Unused ]       :  0\n",
      "[ R4_DIV ]       :  0\n",
      "[ MS4_DIVBY4 ]   :  0\n",
      "[ MS4_P1_17_16 ] :  0\n",
      "\n",
      "<< Multisynth4_Parameters_77 >>:  ('0x0', '0b0')\n",
      "[ MS4_P1_15_8 ] :  0\n",
      "\n",
      "<< Multisynth4_Parameters_78 >>:  ('0x0', '0b0')\n",
      "[ MS4_P1_7_0 ] :  0\n",
      "\n",
      "<< Multisynth4_Parameters_79 >>:  ('0x0', '0b0')\n",
      "[ MS4_P3_19_16 ] :  0\n",
      "[ MS4_P2_19_16 ] :  0\n",
      "\n",
      "<< Multisynth4_Parameters_80 >>:  ('0x0', '0b0')\n",
      "[ MS4_P2_15_8 ] :  0\n",
      "\n",
      "<< Multisynth4_Parameters_81 >>:  ('0x0', '0b0')\n",
      "[ MS4_P2_7_0 ] :  0\n",
      "\n",
      "<< Multisynth5_Parameters_82 >>:  ('0x0', '0b0')\n",
      "[ MS5_P3_15_8 ] :  0\n",
      "\n",
      "<< Multisynth5_Parameters_83 >>:  ('0x0', '0b0')\n",
      "[ MS5_P3_7_0 ] :  0\n",
      "\n",
      "<< Multisynth5_Parameters_84 >>:  ('0x0', '0b0')\n",
      "[ Unused ]       :  0\n",
      "[ R5_DIV ]       :  0\n",
      "[ MS5_DIVBY4 ]   :  0\n",
      "[ MS5_P1_17_16 ] :  0\n",
      "\n",
      "<< Multisynth5_Parameters_85 >>:  ('0x0', '0b0')\n",
      "[ MS5_P1_15_8 ] :  0\n",
      "\n",
      "<< Multisynth5_Parameters_86 >>:  ('0x0', '0b0')\n",
      "[ MS5_P1_7_0 ] :  0\n",
      "\n",
      "<< Multisynth5_Parameters_87 >>:  ('0x0', '0b0')\n",
      "[ MS5_P3_19_16 ] :  0\n",
      "[ MS5_P2_19_16 ] :  0\n",
      "\n",
      "<< Multisynth5_Parameters_88 >>:  ('0x0', '0b0')\n",
      "[ MS5_P2_15_8 ] :  0\n",
      "\n",
      "<< Multisynth5_Parameters_89 >>:  ('0x0', '0b0')\n",
      "[ MS5_P2_7_0 ] :  0\n",
      "\n",
      "<< Multisynth6_Parameters >>:  ('0x0', '0b0')\n",
      "[ MS6_P1_7_0 ] :  0\n",
      "\n",
      "<< Multisynth7_Parameters >>:  ('0x0', '0b0')\n",
      "[ MS7_P1_7_0 ] :  0\n",
      "\n",
      "<< Clock_6_and_7_Output_Divider >>:  ('0x0', '0b0')\n",
      "[ Reserved_7 ] :  0\n",
      "[ R7_DIV ]     :  0\n",
      "[ Reserved_3 ] :  0\n",
      "[ R6_DIV ]     :  0\n",
      "\n",
      "<< Spread_Spectrum_Parameters_149 >>:  ('0x0', '0b0')\n",
      "[ SSC_EN ]       :  0\n",
      "[ SSDN_P2_14_8 ] :  0\n",
      "\n",
      "<< Spread_Spectrum_Parameters_150 >>:  ('0x0', '0b0')\n",
      "[ SSDN_P2_7_0 ] :  0\n",
      "\n",
      "<< Spread_Spectrum_Parameters_151 >>:  ('0x0', '0b0')\n",
      "[ SSC_MODE ]     :  0\n",
      "[ SSDN_P3_14_8 ] :  0\n",
      "\n",
      "<< Spread_Spectrum_Parameters_152 >>:  ('0x0', '0b0')\n",
      "[ SSDN_P3_7_0 ] :  0\n",
      "\n",
      "<< Spread_Spectrum_Parameters_153 >>:  ('0x0', '0b0')\n",
      "[ SSDN_P1_7_0 ] :  0\n",
      "\n",
      "<< Spread_Spectrum_Parameters_154 >>:  ('0x0', '0b0')\n",
      "[ SSUDP_11_8 ]   :  0\n",
      "[ SSDN_P1_11_8 ] :  0\n",
      "\n",
      "<< Spread_Spectrum_Parameters_155 >>:  ('0x0', '0b0')\n",
      "[ SSUDP_7_0 ] :  0\n",
      "\n",
      "<< Spread_Spectrum_Parameters_156 >>:  ('0x0', '0b0')\n",
      "[ Unused ]       :  0\n",
      "[ SSUP_P2_14_8 ] :  0\n",
      "\n",
      "<< Spread_Spectrum_Parameters_157 >>:  ('0x0', '0b0')\n",
      "[ SSUP_P2_7_0 ] :  0\n",
      "\n",
      "<< Spread_Spectrum_Parameters_158 >>:  ('0x0', '0b0')\n",
      "[ Unused ]       :  0\n",
      "[ SSUP_P3_14_8 ] :  0\n",
      "\n",
      "<< Spread_Spectrum_Parameters_159 >>:  ('0x0', '0b0')\n",
      "[ SSUP_P3_7_0 ] :  0\n",
      "\n",
      "<< Spread_Spectrum_Parameters_160 >>:  ('0x0', '0b0')\n",
      "[ SSUP_P1_7_0 ] :  0\n",
      "\n",
      "<< Spread_Spectrum_Parameters_161 >>:  ('0x0', '0b0')\n",
      "[ SS_NCLK ]      :  0\n",
      "[ SSUP_P1_11_8 ] :  0\n",
      "\n",
      "<< VCXO_Parameter_162 >>:  ('0x0', '0b0')\n",
      "[ VCXO_Param_7_0 ] :  0\n",
      "\n",
      "<< VCXO_Parameter_163 >>:  ('0x0', '0b0')\n",
      "[ VCXO_Param_15_8 ] :  0\n",
      "\n",
      "<< VCXO_Parameter_164 >>:  ('0x0', '0b0')\n",
      "[ Reserved_6 ]       :  0\n",
      "[ VCXO_Param_21_16 ] :  0\n",
      "\n",
      "<< CLK0_Initial_Phase_Offset >>:  ('0x0', '0b0')\n",
      "[ Reserved_7 ] :  0\n",
      "[ CLK0_PHOFF ] :  0\n",
      "\n",
      "<< CLK1_Initial_Phase_Offset >>:  ('0x0', '0b0')\n",
      "[ Reserved_7 ] :  0\n",
      "[ CLK1_PHOFF ] :  0\n",
      "\n",
      "<< CLK2_Initial_Phase_Offset >>:  ('0x0', '0b0')\n",
      "[ Reserved_7 ] :  0\n",
      "[ CLK2_PHOFF ] :  0\n",
      "\n",
      "<< CLK3_Initial_Phase_Offset >>:  ('0x0', '0b0')\n",
      "[ Reserved_7 ] :  0\n",
      "[ CLK3_PHOFF ] :  0\n",
      "\n",
      "<< CLK4_Initial_Phase_Offset >>:  ('0x0', '0b0')\n",
      "[ Reserved_7 ] :  0\n",
      "[ CLK4_PHOFF ] :  0\n",
      "\n",
      "<< CLK5_Initial_Phase_Offset >>:  ('0x0', '0b0')\n",
      "[ Reserved_7 ] :  0\n",
      "[ CLK5_PHOFF ] :  0\n",
      "\n",
      "<< PLL_Reset >>  :  ('0x0', '0b0')\n",
      "[ PLLB_RST ]   :  0\n",
      "[ Reserved_6 ] :  0\n",
      "[ PLLA_RST ]   :  0\n",
      "[ Reserved_0 ] :  0\n",
      "\n",
      "<< Crystal_Internal_Load_Capacitance >>:  ('0x12', '0b10010')\n",
      "[ XTAL_CL ]    :  0\n",
      "[ Reserved_0 ] :  18\n",
      "\n",
      "<< Fanout_Enable >>   :  ('0x0', '0b0')\n",
      "[ CLKIN_FANOUT_EN ] :  0\n",
      "[ XO_FANOUT_EN ]    :  0\n",
      "[ Reserved_5 ]      :  0\n",
      "[ MS_FANOUT_EN ]    :  0\n"
     ]
    }
   ],
   "source": [
    "si.print()"
   ]
  },
  {
   "cell_type": "markdown",
   "metadata": {},
   "source": [
    "## Spread Spectrum test"
   ]
  },
  {
   "cell_type": "code",
   "execution_count": 44,
   "metadata": {
    "scrolled": false
   },
   "outputs": [],
   "source": [
    "si.init()"
   ]
  },
  {
   "cell_type": "code",
   "execution_count": 45,
   "metadata": {},
   "outputs": [],
   "source": [
    "si.spread_spectrum.enable(True, mode = 'center', ssc_amp = 0.01)"
   ]
  },
  {
   "cell_type": "code",
   "execution_count": 46,
   "metadata": {},
   "outputs": [],
   "source": [
    "si.spread_spectrum.enable(True, mode = 'down', ssc_amp = 0.01)"
   ]
  },
  {
   "cell_type": "code",
   "execution_count": 47,
   "metadata": {},
   "outputs": [],
   "source": [
    "si.spread_spectrum.enable(False)"
   ]
  },
  {
   "cell_type": "code",
   "execution_count": 48,
   "metadata": {},
   "outputs": [],
   "source": [
    "clk = si.clocks[0]"
   ]
  }
 ],
 "metadata": {
  "kernelspec": {
   "display_name": "Python 3",
   "language": "python",
   "name": "python3"
  },
  "language_info": {
   "codemirror_mode": {
    "name": "ipython",
    "version": 3
   },
   "file_extension": ".py",
   "mimetype": "text/x-python",
   "name": "python",
   "nbconvert_exporter": "python",
   "pygments_lexer": "ipython3",
   "version": "3.6.10"
  }
 },
 "nbformat": 4,
 "nbformat_minor": 2
}
