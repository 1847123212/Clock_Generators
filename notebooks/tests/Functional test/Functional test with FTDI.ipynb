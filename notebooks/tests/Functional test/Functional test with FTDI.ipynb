{
 "cells": [
  {
   "cell_type": "markdown",
   "metadata": {},
   "source": [
    "# Functional test with FTDI\n",
    "- https://www.silabs.com/documents/public/data-sheets/Si5351-B.pdf\n",
    "- https://www.silabs.com/documents/public/application-notes/AN619.pdf"
   ]
  },
  {
   "cell_type": "code",
   "execution_count": 1,
   "metadata": {},
   "outputs": [],
   "source": [
    "import os, sys\n",
    "\n",
    "def gen_relative_path(target_path): \n",
    "    \n",
    "    def del_same_parents(target_path, current_path):\n",
    "        if len(target_path) * len(current_path) > 0:\n",
    "            if target_path[0] == current_path[0]:\n",
    "                target_path.pop(0)\n",
    "                current_path.pop(0)\n",
    "                del_same_parents(target_path, current_path)\n",
    "            \n",
    "    current_path = os.getcwd().replace('\\\\', '/').split('/')\n",
    "    target_path = target_path.replace('\\\\', '/').split('/')\n",
    "    del_same_parents(target_path, current_path)\n",
    "    \n",
    "    return ['..'] * len(current_path) + target_path\n",
    "\n",
    "\n",
    "def append_source_relative_path(source_relative_path):\n",
    "    sys.path.append(os.sep.join(source_relative_path))"
   ]
  },
  {
   "cell_type": "code",
   "execution_count": 2,
   "metadata": {},
   "outputs": [],
   "source": [
    "# paths = ['']\n",
    "# paths = [gen_relative_path(p) for p in paths]\n",
    "# print(paths)"
   ]
  },
  {
   "cell_type": "code",
   "execution_count": 3,
   "metadata": {},
   "outputs": [],
   "source": [
    "paths = [['..', '..', '..', '..', '..', '..', 'ORM', 'bitbucket', 'github', 'codes'],\n",
    "         ['..', '..', '..', '..', '..', '..', 'USB', 'Universal Serial Bus', 'bitbucket', 'github', 'codes'],\n",
    "         ['..', '..', '..', '..', '..', '..', '..', '已完成', 'Bridges', 'bitbucket', 'github', 'codes'], \n",
    "         ['..', '..', '..', '..', '..', '..', 'Utilities', 'bitbucket', 'github', 'codes'],\n",
    "         ['..', '..', '..', 'codes']]\n",
    "\n",
    "for path in paths:\n",
    "    append_source_relative_path(path)"
   ]
  },
  {
   "cell_type": "code",
   "execution_count": 4,
   "metadata": {},
   "outputs": [
    {
     "name": "stdout",
     "output_type": "stream",
     "text": [
      "Populating the interactive namespace from numpy and matplotlib\n"
     ]
    }
   ],
   "source": [
    "%pylab inline\n",
    "\n",
    "from clock_generators.si535x.si5351 import Si5351 \n",
    "from utilities.adapters import peripherals"
   ]
  },
  {
   "cell_type": "markdown",
   "metadata": {},
   "source": [
    "## Debug mode?"
   ]
  },
  {
   "cell_type": "code",
   "execution_count": 5,
   "metadata": {
    "scrolled": false
   },
   "outputs": [],
   "source": [
    "cls = Si5351\n",
    "\n",
    "cls.DEBUG_MODE_SHOW_BUS_DATA = False         # whether to show bus data. \n",
    "cls.DEBUG_MODE_PRINT_REGISTER = False        # whether to print registers. "
   ]
  },
  {
   "cell_type": "markdown",
   "metadata": {},
   "source": [
    "## Generators and Modulators"
   ]
  },
  {
   "cell_type": "code",
   "execution_count": 6,
   "metadata": {},
   "outputs": [],
   "source": [
    "with_hardware_device = True\n",
    "\n",
    "if with_hardware_device:\n",
    "    _i2c = peripherals.I2C.get_Ftdi_i2c() \n",
    "    \n",
    "else:\n",
    "    _i2c =  None  # using None for testing without actual hardware device.\n",
    "\n",
    "si = cls(_i2c)  "
   ]
  },
  {
   "cell_type": "code",
   "execution_count": 7,
   "metadata": {},
   "outputs": [],
   "source": [
    "si.map.save_to_file('Initial_values.txt')\n",
    "\n",
    "clock_builder_values = si.map.read_file('Si5351A-RevB-Registers.txt') \n",
    "initial_values = si.map.read_file('Initial_values.txt')"
   ]
  },
  {
   "cell_type": "code",
   "execution_count": 8,
   "metadata": {},
   "outputs": [
    {
     "data": {
      "text/plain": [
       "[(0, 0),\n",
       " (1, 0),\n",
       " (2, 0),\n",
       " (3, 0),\n",
       " (9, 0),\n",
       " (15, 0),\n",
       " (16, 79),\n",
       " (17, 79),\n",
       " (18, 79),\n",
       " (19, 79),\n",
       " (20, 79),\n",
       " (21, 79),\n",
       " (22, 79),\n",
       " (23, 79),\n",
       " (24, 0),\n",
       " (25, 0),\n",
       " (26, 0),\n",
       " (27, 1),\n",
       " (28, 0),\n",
       " (29, 16),\n",
       " (30, 0),\n",
       " (31, 0),\n",
       " (32, 0),\n",
       " (33, 0),\n",
       " (34, 0),\n",
       " (35, 1),\n",
       " (36, 0),\n",
       " (37, 16),\n",
       " (38, 0),\n",
       " (39, 0),\n",
       " (40, 0),\n",
       " (41, 0),\n",
       " (42, 0),\n",
       " (43, 1),\n",
       " (44, 0),\n",
       " (45, 16),\n",
       " (46, 0),\n",
       " (47, 0),\n",
       " (48, 0),\n",
       " (49, 0),\n",
       " (50, 0),\n",
       " (51, 1),\n",
       " (52, 0),\n",
       " (53, 16),\n",
       " (54, 0),\n",
       " (55, 0),\n",
       " (56, 0),\n",
       " (57, 0),\n",
       " (58, 0),\n",
       " (59, 1),\n",
       " (60, 0),\n",
       " (61, 16),\n",
       " (62, 0),\n",
       " (63, 0),\n",
       " (64, 0),\n",
       " (65, 0),\n",
       " (66, 0),\n",
       " (67, 1),\n",
       " (68, 0),\n",
       " (69, 16),\n",
       " (70, 0),\n",
       " (71, 0),\n",
       " (72, 0),\n",
       " (73, 0),\n",
       " (74, 0),\n",
       " (75, 1),\n",
       " (76, 0),\n",
       " (77, 16),\n",
       " (78, 0),\n",
       " (79, 0),\n",
       " (80, 0),\n",
       " (81, 0),\n",
       " (82, 0),\n",
       " (83, 1),\n",
       " (84, 0),\n",
       " (85, 16),\n",
       " (86, 0),\n",
       " (87, 0),\n",
       " (88, 0),\n",
       " (89, 0),\n",
       " (90, 36),\n",
       " (91, 36),\n",
       " (92, 0),\n",
       " (149, 0),\n",
       " (150, 0),\n",
       " (151, 0),\n",
       " (152, 0),\n",
       " (153, 0),\n",
       " (154, 0),\n",
       " (155, 0),\n",
       " (156, 0),\n",
       " (157, 0),\n",
       " (158, 0),\n",
       " (159, 0),\n",
       " (160, 0),\n",
       " (161, 0),\n",
       " (162, 0),\n",
       " (163, 0),\n",
       " (164, 0),\n",
       " (165, 0),\n",
       " (166, 0),\n",
       " (167, 0),\n",
       " (168, 0),\n",
       " (169, 0),\n",
       " (170, 0),\n",
       " (177, 160),\n",
       " (183, 146),\n",
       " (187, 208)]"
      ]
     },
     "execution_count": 8,
     "metadata": {},
     "output_type": "execute_result"
    }
   ],
   "source": [
    "si.map.addressed_values"
   ]
  },
  {
   "cell_type": "code",
   "execution_count": 9,
   "metadata": {},
   "outputs": [],
   "source": [
    "si.map.reset()\n",
    "si.read_all_registers()\n",
    "read_back_values = si.map.addressed_values \n",
    "\n",
    "# mini = Si5351_mini(_i2c)\n",
    "# mini.write_all_registers(av1)"
   ]
  },
  {
   "cell_type": "code",
   "execution_count": 10,
   "metadata": {},
   "outputs": [],
   "source": [
    "si.map.save_to_file('Read_back_values.txt')"
   ]
  },
  {
   "cell_type": "code",
   "execution_count": 11,
   "metadata": {
    "scrolled": false
   },
   "outputs": [
    {
     "data": {
      "text/plain": [
       "array([[  0.,  nan,   0.,   1.],\n",
       "       [  1.,  nan,   0.,   1.],\n",
       "       [  2.,  83.,   0.,   1.],\n",
       "       [  3.,   0.,   0.,   0.],\n",
       "       [  4.,  32.,  nan,   1.],\n",
       "       [  7.,   1.,  nan,   1.],\n",
       "       [  9.,  nan,   0.,   1.],\n",
       "       [ 15.,   0.,   0.,   0.],\n",
       "       [ 16.,  15.,  79.,   1.],\n",
       "       [ 17.,  15.,  79.,   1.],\n",
       "       [ 18.,  15.,  79.,   1.],\n",
       "       [ 19., 140.,  79.,   1.],\n",
       "       [ 20., 140.,  79.,   1.],\n",
       "       [ 21., 140.,  79.,   1.],\n",
       "       [ 22., 140.,  79.,   1.],\n",
       "       [ 23., 140.,  79.,   1.],\n",
       "       [ 24.,  nan,   0.,   1.],\n",
       "       [ 25.,  nan,   0.,   1.],\n",
       "       [ 26.,   0.,   0.,   0.],\n",
       "       [ 27.,   1.,   1.,   0.],\n",
       "       [ 28.,   0.,   0.,   0.],\n",
       "       [ 29.,  16.,  16.,   0.],\n",
       "       [ 30.,   0.,   0.,   0.],\n",
       "       [ 31.,   0.,   0.,   0.],\n",
       "       [ 32.,   0.,   0.,   0.],\n",
       "       [ 33.,   0.,   0.,   0.],\n",
       "       [ 34.,  nan,   0.,   1.],\n",
       "       [ 35.,  nan,   1.,   1.],\n",
       "       [ 36.,  nan,   0.,   1.],\n",
       "       [ 37.,  nan,  16.,   1.],\n",
       "       [ 38.,  nan,   0.,   1.],\n",
       "       [ 39.,  nan,   0.,   1.],\n",
       "       [ 40.,  nan,   0.,   1.],\n",
       "       [ 41.,  nan,   0.,   1.],\n",
       "       [ 42.,   0.,   0.,   0.],\n",
       "       [ 43.,   1.,   1.,   0.],\n",
       "       [ 44.,   0.,   0.,   0.],\n",
       "       [ 45.,  16.,  16.,   0.],\n",
       "       [ 46.,   0.,   0.,   0.],\n",
       "       [ 47.,   0.,   0.,   0.],\n",
       "       [ 48.,   0.,   0.,   0.],\n",
       "       [ 49.,   0.,   0.,   0.],\n",
       "       [ 50.,   0.,   0.,   0.],\n",
       "       [ 51.,   1.,   1.,   0.],\n",
       "       [ 52.,   0.,   0.,   0.],\n",
       "       [ 53.,  16.,  16.,   0.],\n",
       "       [ 54.,   0.,   0.,   0.],\n",
       "       [ 55.,   0.,   0.,   0.],\n",
       "       [ 56.,   0.,   0.,   0.],\n",
       "       [ 57.,   0.,   0.,   0.],\n",
       "       [ 58.,   0.,   0.,   0.],\n",
       "       [ 59.,   1.,   1.,   0.],\n",
       "       [ 60.,   0.,   0.,   0.],\n",
       "       [ 61.,  16.,  16.,   0.],\n",
       "       [ 62.,   0.,   0.,   0.],\n",
       "       [ 63.,   0.,   0.,   0.],\n",
       "       [ 64.,   0.,   0.,   0.],\n",
       "       [ 65.,   0.,   0.,   0.],\n",
       "       [ 66.,  nan,   0.,   1.],\n",
       "       [ 67.,  nan,   1.,   1.],\n",
       "       [ 68.,  nan,   0.,   1.],\n",
       "       [ 69.,  nan,  16.,   1.],\n",
       "       [ 70.,  nan,   0.,   1.],\n",
       "       [ 71.,  nan,   0.,   1.],\n",
       "       [ 72.,  nan,   0.,   1.],\n",
       "       [ 73.,  nan,   0.,   1.],\n",
       "       [ 74.,  nan,   0.,   1.],\n",
       "       [ 75.,  nan,   1.,   1.],\n",
       "       [ 76.,  nan,   0.,   1.],\n",
       "       [ 77.,  nan,  16.,   1.],\n",
       "       [ 78.,  nan,   0.,   1.],\n",
       "       [ 79.,  nan,   0.,   1.],\n",
       "       [ 80.,  nan,   0.,   1.],\n",
       "       [ 81.,  nan,   0.,   1.],\n",
       "       [ 82.,  nan,   0.,   1.],\n",
       "       [ 83.,  nan,   1.,   1.],\n",
       "       [ 84.,  nan,   0.,   1.],\n",
       "       [ 85.,  nan,  16.,   1.],\n",
       "       [ 86.,  nan,   0.,   1.],\n",
       "       [ 87.,  nan,   0.,   1.],\n",
       "       [ 88.,  nan,   0.,   1.],\n",
       "       [ 89.,  nan,   0.,   1.],\n",
       "       [ 90.,   0.,  36.,   1.],\n",
       "       [ 91.,   0.,  36.,   1.],\n",
       "       [ 92.,  nan,   0.,   1.],\n",
       "       [149.,   0.,   0.,   0.],\n",
       "       [150.,   0.,   0.,   0.],\n",
       "       [151.,   0.,   0.,   0.],\n",
       "       [152.,   0.,   0.,   0.],\n",
       "       [153.,   0.,   0.,   0.],\n",
       "       [154.,   0.,   0.,   0.],\n",
       "       [155.,   0.,   0.,   0.],\n",
       "       [156.,  nan,   0.,   1.],\n",
       "       [157.,  nan,   0.,   1.],\n",
       "       [158.,  nan,   0.,   1.],\n",
       "       [159.,  nan,   0.,   1.],\n",
       "       [160.,  nan,   0.,   1.],\n",
       "       [161.,  nan,   0.,   1.],\n",
       "       [162.,   0.,   0.,   0.],\n",
       "       [163.,   0.,   0.,   0.],\n",
       "       [164.,   0.,   0.,   0.],\n",
       "       [165.,   0.,   0.,   0.],\n",
       "       [166.,   0.,   0.,   0.],\n",
       "       [167.,   0.,   0.,   0.],\n",
       "       [168.,  nan,   0.,   1.],\n",
       "       [169.,  nan,   0.,   1.],\n",
       "       [170.,  nan,   0.,   1.],\n",
       "       [177.,  nan, 160.,   1.],\n",
       "       [183., 210., 146.,   1.],\n",
       "       [187.,  nan, 208.,   1.]])"
      ]
     },
     "execution_count": 11,
     "metadata": {},
     "output_type": "execute_result"
    }
   ],
   "source": [
    "si.map.compare_values_sets(clock_builder_values, initial_values)"
   ]
  },
  {
   "cell_type": "code",
   "execution_count": 12,
   "metadata": {
    "scrolled": false
   },
   "outputs": [
    {
     "data": {
      "text/plain": [
       "array([[  0.,   0.,  17.,   1.],\n",
       "       [  1.,   0., 240.,   1.],\n",
       "       [  2.,   0.,   0.,   0.],\n",
       "       [  3.,   0.,   0.,   0.],\n",
       "       [  9.,   0.,   0.,   0.],\n",
       "       [ 15.,   0.,   0.,   0.],\n",
       "       [ 16.,  79.,  79.,   0.],\n",
       "       [ 17.,  79.,  79.,   0.],\n",
       "       [ 18.,  79.,  79.,   0.],\n",
       "       [ 19.,  79.,  79.,   0.],\n",
       "       [ 20.,  79.,  79.,   0.],\n",
       "       [ 21.,  79.,  79.,   0.],\n",
       "       [ 22.,  79.,  79.,   0.],\n",
       "       [ 23.,  79.,  79.,   0.],\n",
       "       [ 24.,   0.,   0.,   0.],\n",
       "       [ 25.,   0.,   0.,   0.],\n",
       "       [ 26.,   0.,   0.,   0.],\n",
       "       [ 27.,   1.,   1.,   0.],\n",
       "       [ 28.,   0.,   0.,   0.],\n",
       "       [ 29.,  16.,  16.,   0.],\n",
       "       [ 30.,   0.,   0.,   0.],\n",
       "       [ 31.,   0.,   0.,   0.],\n",
       "       [ 32.,   0.,   0.,   0.],\n",
       "       [ 33.,   0.,   0.,   0.],\n",
       "       [ 34.,   0.,   0.,   0.],\n",
       "       [ 35.,   1.,   1.,   0.],\n",
       "       [ 36.,   0.,   0.,   0.],\n",
       "       [ 37.,  16.,  16.,   0.],\n",
       "       [ 38.,   0.,   0.,   0.],\n",
       "       [ 39.,   0.,   0.,   0.],\n",
       "       [ 40.,   0.,   0.,   0.],\n",
       "       [ 41.,   0.,   0.,   0.],\n",
       "       [ 42.,   0.,   0.,   0.],\n",
       "       [ 43.,   1.,   1.,   0.],\n",
       "       [ 44.,   0.,   0.,   0.],\n",
       "       [ 45.,  16.,  16.,   0.],\n",
       "       [ 46.,   0.,   0.,   0.],\n",
       "       [ 47.,   0.,   0.,   0.],\n",
       "       [ 48.,   0.,   0.,   0.],\n",
       "       [ 49.,   0.,   0.,   0.],\n",
       "       [ 50.,   0.,   0.,   0.],\n",
       "       [ 51.,   1.,   1.,   0.],\n",
       "       [ 52.,   0.,   0.,   0.],\n",
       "       [ 53.,  16.,  16.,   0.],\n",
       "       [ 54.,   0.,   0.,   0.],\n",
       "       [ 55.,   0.,   0.,   0.],\n",
       "       [ 56.,   0.,   0.,   0.],\n",
       "       [ 57.,   0.,   0.,   0.],\n",
       "       [ 58.,   0.,   0.,   0.],\n",
       "       [ 59.,   1.,   1.,   0.],\n",
       "       [ 60.,   0.,   0.,   0.],\n",
       "       [ 61.,  16.,  16.,   0.],\n",
       "       [ 62.,   0.,   0.,   0.],\n",
       "       [ 63.,   0.,   0.,   0.],\n",
       "       [ 64.,   0.,   0.,   0.],\n",
       "       [ 65.,   0.,   0.,   0.],\n",
       "       [ 66.,   0.,   0.,   0.],\n",
       "       [ 67.,   1.,   1.,   0.],\n",
       "       [ 68.,   0.,   0.,   0.],\n",
       "       [ 69.,  16.,  16.,   0.],\n",
       "       [ 70.,   0.,   0.,   0.],\n",
       "       [ 71.,   0.,   0.,   0.],\n",
       "       [ 72.,   0.,   0.,   0.],\n",
       "       [ 73.,   0.,   0.,   0.],\n",
       "       [ 74.,   0.,   0.,   0.],\n",
       "       [ 75.,   1.,   1.,   0.],\n",
       "       [ 76.,   0.,   0.,   0.],\n",
       "       [ 77.,  16.,  16.,   0.],\n",
       "       [ 78.,   0.,   0.,   0.],\n",
       "       [ 79.,   0.,   0.,   0.],\n",
       "       [ 80.,   0.,   0.,   0.],\n",
       "       [ 81.,   0.,   0.,   0.],\n",
       "       [ 82.,   0.,   0.,   0.],\n",
       "       [ 83.,   1.,   1.,   0.],\n",
       "       [ 84.,   0.,   0.,   0.],\n",
       "       [ 85.,  16.,  16.,   0.],\n",
       "       [ 86.,   0.,   0.,   0.],\n",
       "       [ 87.,   0.,   0.,   0.],\n",
       "       [ 88.,   0.,   0.,   0.],\n",
       "       [ 89.,   0.,   0.,   0.],\n",
       "       [ 90.,  36.,  36.,   0.],\n",
       "       [ 91.,  36.,  36.,   0.],\n",
       "       [ 92.,   0.,   0.,   0.],\n",
       "       [149.,   0.,   0.,   0.],\n",
       "       [150.,   0.,   0.,   0.],\n",
       "       [151.,   0.,   0.,   0.],\n",
       "       [152.,   0.,   0.,   0.],\n",
       "       [153.,   0.,   0.,   0.],\n",
       "       [154.,   0.,   0.,   0.],\n",
       "       [155.,   0.,   0.,   0.],\n",
       "       [156.,   0.,   0.,   0.],\n",
       "       [157.,   0.,   0.,   0.],\n",
       "       [158.,   0.,   0.,   0.],\n",
       "       [159.,   0.,   0.,   0.],\n",
       "       [160.,   0.,   0.,   0.],\n",
       "       [161.,   0.,   0.,   0.],\n",
       "       [162.,   0.,   0.,   0.],\n",
       "       [163.,   0.,   0.,   0.],\n",
       "       [164.,   0.,   0.,   0.],\n",
       "       [165.,   0.,   0.,   0.],\n",
       "       [166.,   0.,   0.,   0.],\n",
       "       [167.,   0.,   0.,   0.],\n",
       "       [168.,   0.,   0.,   0.],\n",
       "       [169.,   0.,   0.,   0.],\n",
       "       [170.,   0.,   0.,   0.],\n",
       "       [177., 160.,   0.,   1.],\n",
       "       [183., 146., 146.,   0.],\n",
       "       [187., 208., 208.,   0.]])"
      ]
     },
     "execution_count": 12,
     "metadata": {},
     "output_type": "execute_result"
    }
   ],
   "source": [
    "si.map.compare_values_sets(initial_values, read_back_values) "
   ]
  },
  {
   "cell_type": "code",
   "execution_count": 13,
   "metadata": {
    "scrolled": false
   },
   "outputs": [
    {
     "data": {
      "text/plain": [
       "[((18, 10, 1), (25000000, 450000000, 45000000, 45000000)),\n",
       " ((36, 10, 2), (25000000, 900000000, 90000000, 45000000)),\n",
       " ((36, 20, 1), (25000000, 900000000, 45000000, 45000000)),\n",
       " ((54, 30, 1), (25000000, 1350000000, 45000000, 45000000)),\n",
       " ((72, 10, 4), (25000000, 1800000000, 180000000, 45000000)),\n",
       " ((72, 20, 2), (25000000, 1800000000, 90000000, 45000000)),\n",
       " ((72, 40, 1), (25000000, 1800000000, 45000000, 45000000)),\n",
       " ((90, 50, 1), (25000000, 2250000000, 45000000, 45000000))]"
      ]
     },
     "execution_count": 13,
     "metadata": {},
     "output_type": "execute_result"
    }
   ],
   "source": [
    "matchs = si.find_integer_dividers(freq_desired = 45e6, even_only = True, torance_hz = 1) \n",
    "matchs"
   ]
  },
  {
   "cell_type": "code",
   "execution_count": 35,
   "metadata": {},
   "outputs": [
    {
     "data": {
      "text/plain": [
       "({36, 72},\n",
       " [{18, 36, 54, 72, 90},\n",
       "  {18, 24, 30, 36, 42, 48, 54, 60, 66, 72, 78, 84, 90},\n",
       "  {36, 72}])"
      ]
     },
     "execution_count": 35,
     "metadata": {},
     "output_type": "execute_result"
    }
   ],
   "source": [
    "desired_clock_freqs = (45e6, 30e5, 90e6)\n",
    "\n",
    "common_pll_dividers, freqs_pll_dividers, freqs_matches = si.find_integer_pll_dividers_for_clocks(desired_clock_freqs)\n",
    "common_pll_dividers, freqs_pll_dividers"
   ]
  },
  {
   "cell_type": "code",
   "execution_count": 15,
   "metadata": {},
   "outputs": [],
   "source": [
    "clk = si.clocks[0]"
   ]
  },
  {
   "cell_type": "code",
   "execution_count": 16,
   "metadata": {},
   "outputs": [
    {
     "data": {
      "text/plain": [
       "True"
      ]
     },
     "execution_count": 16,
     "metadata": {},
     "output_type": "execute_result"
    }
   ],
   "source": [
    "clk.set_frequency(25e6)"
   ]
  },
  {
   "cell_type": "code",
   "execution_count": 17,
   "metadata": {},
   "outputs": [
    {
     "data": {
      "text/plain": [
       "25000000"
      ]
     },
     "execution_count": 17,
     "metadata": {},
     "output_type": "execute_result"
    }
   ],
   "source": [
    "clk.freq"
   ]
  },
  {
   "cell_type": "code",
   "execution_count": 18,
   "metadata": {},
   "outputs": [
    {
     "data": {
      "text/plain": [
       "True"
      ]
     },
     "execution_count": 18,
     "metadata": {},
     "output_type": "execute_result"
    }
   ],
   "source": [
    "si.plls[0].set_frequency(900e6)"
   ]
  },
  {
   "cell_type": "code",
   "execution_count": 19,
   "metadata": {},
   "outputs": [
    {
     "data": {
      "text/plain": [
       "36.0"
      ]
     },
     "execution_count": 19,
     "metadata": {},
     "output_type": "execute_result"
    }
   ],
   "source": [
    "si.plls[0].divider"
   ]
  },
  {
   "cell_type": "code",
   "execution_count": 20,
   "metadata": {},
   "outputs": [],
   "source": [
    "# _i2c.scan()"
   ]
  },
  {
   "cell_type": "code",
   "execution_count": 21,
   "metadata": {},
   "outputs": [],
   "source": [
    "si.enable(True)"
   ]
  },
  {
   "cell_type": "code",
   "execution_count": 22,
   "metadata": {},
   "outputs": [],
   "source": [
    "si.enable(False)"
   ]
  },
  {
   "cell_type": "code",
   "execution_count": 23,
   "metadata": {},
   "outputs": [],
   "source": [
    "si.clocks[0].enable()"
   ]
  },
  {
   "cell_type": "code",
   "execution_count": 24,
   "metadata": {
    "scrolled": false
   },
   "outputs": [
    {
     "data": {
      "text/plain": [
       "[(0, 'Device_Status', 17),\n",
       " (1, 'Interrupt_Status_Sticky', 240),\n",
       " (2, 'Interrupt_Status_Mask', 0),\n",
       " (3, 'Output_Enable_Control', 254),\n",
       " (9, 'OEB_Pin_Enable_Control_Mask', 0),\n",
       " (15, 'PLL_Input_Source', 0),\n",
       " (16, 'CLK0_Control', 79),\n",
       " (17, 'CLK1_Control', 207),\n",
       " (18, 'CLK2_Control', 207),\n",
       " (19, 'CLK3_Control', 207),\n",
       " (20, 'CLK4_Control', 207),\n",
       " (21, 'CLK5_Control', 207),\n",
       " (22, 'CLK6_Control', 207),\n",
       " (23, 'CLK7_Control', 207),\n",
       " (24, 'CLK3_0_Disable_State', 0),\n",
       " (25, 'CLK7_4_Disable_State', 0),\n",
       " (26, 'Multisynth_NA_Parameters_26', 0),\n",
       " (27, 'Multisynth_NA_Parameters_27', 1),\n",
       " (28, 'Multisynth_NA_Parameters_28', 0),\n",
       " (29, 'Multisynth_NA_Parameters_29', 16),\n",
       " (30, 'Multisynth_NA_Parameters_30', 0),\n",
       " (31, 'Multisynth_NA_Parameters_31', 0),\n",
       " (32, 'Multisynth_NA_Parameters_32', 0),\n",
       " (33, 'Multisynth_NA_Parameters_33', 0),\n",
       " (34, 'Multisynth_NB_Parameters_34', 0),\n",
       " (35, 'Multisynth_NB_Parameters_35', 1),\n",
       " (36, 'Multisynth_NB_Parameters_36', 0),\n",
       " (37, 'Multisynth_NB_Parameters_37', 16),\n",
       " (38, 'Multisynth_NB_Parameters_38', 0),\n",
       " (39, 'Multisynth_NB_Parameters_39', 0),\n",
       " (40, 'Multisynth_NB_Parameters_40', 0),\n",
       " (41, 'Multisynth_NB_Parameters_41', 0),\n",
       " (42, 'Multisynth0_Parameters_42', 0),\n",
       " (43, 'Multisynth0_Parameters_43', 1),\n",
       " (44, 'Multisynth0_Parameters_44', 0),\n",
       " (45, 'Multisynth0_Parameters_45', 16),\n",
       " (46, 'Multisynth0_Parameters_46', 0),\n",
       " (47, 'Multisynth0_Parameters_47', 0),\n",
       " (48, 'Multisynth0_Parameters_48', 0),\n",
       " (49, 'Multisynth0_Parameters_49', 0),\n",
       " (50, 'Multisynth1_Parameters_50', 0),\n",
       " (51, 'Multisynth1_Parameters_51', 1),\n",
       " (52, 'Multisynth1_Parameters_52', 0),\n",
       " (53, 'Multisynth1_Parameters_53', 16),\n",
       " (54, 'Multisynth1_Parameters_54', 0),\n",
       " (55, 'Multisynth1_Parameters_55', 0),\n",
       " (56, 'Multisynth1_Parameters_56', 0),\n",
       " (57, 'Multisynth1_Parameters_57', 0),\n",
       " (58, 'Multisynth2_Parameters_58', 0),\n",
       " (59, 'Multisynth2_Parameters_59', 1),\n",
       " (60, 'Multisynth2_Parameters_60', 0),\n",
       " (61, 'Multisynth2_Parameters_61', 16),\n",
       " (62, 'Multisynth2_Parameters_62', 0),\n",
       " (63, 'Multisynth2_Parameters_63', 0),\n",
       " (64, 'Multisynth2_Parameters_64', 0),\n",
       " (65, 'Multisynth2_Parameters_65', 0),\n",
       " (66, 'Multisynth3_Parameters_66', 0),\n",
       " (67, 'Multisynth3_Parameters_67', 1),\n",
       " (68, 'Multisynth3_Parameters_68', 0),\n",
       " (69, 'Multisynth3_Parameters_69', 16),\n",
       " (70, 'Multisynth3_Parameters_70', 0),\n",
       " (71, 'Multisynth3_Parameters_71', 0),\n",
       " (72, 'Multisynth3_Parameters_72', 0),\n",
       " (73, 'Multisynth3_Parameters_73', 0),\n",
       " (74, 'Multisynth4_Parameters_74', 0),\n",
       " (75, 'Multisynth4_Parameters_75', 1),\n",
       " (76, 'Multisynth4_Parameters_76', 0),\n",
       " (77, 'Multisynth4_Parameters_77', 16),\n",
       " (78, 'Multisynth4_Parameters_78', 0),\n",
       " (79, 'Multisynth4_Parameters_79', 0),\n",
       " (80, 'Multisynth4_Parameters_80', 0),\n",
       " (81, 'Multisynth4_Parameters_81', 0),\n",
       " (82, 'Multisynth5_Parameters_82', 0),\n",
       " (83, 'Multisynth5_Parameters_83', 1),\n",
       " (84, 'Multisynth5_Parameters_84', 0),\n",
       " (85, 'Multisynth5_Parameters_85', 16),\n",
       " (86, 'Multisynth5_Parameters_86', 0),\n",
       " (87, 'Multisynth5_Parameters_87', 0),\n",
       " (88, 'Multisynth5_Parameters_88', 0),\n",
       " (89, 'Multisynth5_Parameters_89', 0),\n",
       " (90, 'Multisynth6_Parameters', 36),\n",
       " (91, 'Multisynth7_Parameters', 36),\n",
       " (92, 'Clock_6_and_7_Output_Divider', 0),\n",
       " (149, 'Spread_Spectrum_Parameters_149', 0),\n",
       " (150, 'Spread_Spectrum_Parameters_150', 0),\n",
       " (151, 'Spread_Spectrum_Parameters_151', 0),\n",
       " (152, 'Spread_Spectrum_Parameters_152', 0),\n",
       " (153, 'Spread_Spectrum_Parameters_153', 0),\n",
       " (154, 'Spread_Spectrum_Parameters_154', 0),\n",
       " (155, 'Spread_Spectrum_Parameters_155', 0),\n",
       " (156, 'Spread_Spectrum_Parameters_156', 0),\n",
       " (157, 'Spread_Spectrum_Parameters_157', 0),\n",
       " (158, 'Spread_Spectrum_Parameters_158', 0),\n",
       " (159, 'Spread_Spectrum_Parameters_159', 0),\n",
       " (160, 'Spread_Spectrum_Parameters_160', 0),\n",
       " (161, 'Spread_Spectrum_Parameters_161', 0),\n",
       " (162, 'VCXO_Parameter_162', 0),\n",
       " (163, 'VCXO_Parameter_163', 0),\n",
       " (164, 'VCXO_Parameter_164', 0),\n",
       " (165, 'CLK0_Initial_Phase_Offset', 0),\n",
       " (166, 'CLK1_Initial_Phase_Offset', 0),\n",
       " (167, 'CLK2_Initial_Phase_Offset', 0),\n",
       " (168, 'CLK3_Initial_Phase_Offset', 0),\n",
       " (169, 'CLK4_Initial_Phase_Offset', 0),\n",
       " (170, 'CLK5_Initial_Phase_Offset', 0),\n",
       " (177, 'PLL_Reset', 0),\n",
       " (183, 'Crystal_Internal_Load_Capacitance', 146),\n",
       " (187, 'Fanout_Enable', 208)]"
      ]
     },
     "execution_count": 24,
     "metadata": {},
     "output_type": "execute_result"
    }
   ],
   "source": [
    "si.read_all_registers()"
   ]
  },
  {
   "cell_type": "code",
   "execution_count": 31,
   "metadata": {},
   "outputs": [
    {
     "name": "stdout",
     "output_type": "stream",
     "text": [
      "\n",
      "<< Device_Status >>:  ('0x11', '0b10001')\n",
      "[ SYS_INIT ]   :  0\n",
      "[ LOL_B ]      :  0\n",
      "[ LOL_A ]      :  0\n",
      "[ LOS_CLKIN ]  :  1\n",
      "[ LOS_XTAL ]   :  0\n",
      "[ Reserved_2 ] :  0\n",
      "[ REVID ]      :  1\n"
     ]
    },
    {
     "data": {
      "text/plain": [
       "10"
      ]
     },
     "execution_count": 31,
     "metadata": {},
     "output_type": "execute_result"
    }
   ],
   "source": [
    "si.status.print()"
   ]
  },
  {
   "cell_type": "code",
   "execution_count": 32,
   "metadata": {},
   "outputs": [
    {
     "data": {
      "text/plain": [
       "True"
      ]
     },
     "execution_count": 32,
     "metadata": {},
     "output_type": "execute_result"
    }
   ],
   "source": [
    "si.ready"
   ]
  },
  {
   "cell_type": "code",
   "execution_count": 27,
   "metadata": {},
   "outputs": [
    {
     "name": "stdout",
     "output_type": "stream",
     "text": [
      "\n",
      "<< Interrupt_Status_Sticky >>:  ('0xf0', '0b11110000')\n",
      "[ SYS_INIT_STKY ]  :  1\n",
      "[ LOL_B_STKY ]     :  1\n",
      "[ LOL_A_STKY ]     :  1\n",
      "[ LOS_CLKIN_STKY ] :  1\n",
      "[ LOS_XTAL_STKY ]  :  0\n",
      "[ Reserved_0 ]     :  0\n"
     ]
    },
    {
     "data": {
      "text/plain": [
       "14"
      ]
     },
     "execution_count": 27,
     "metadata": {},
     "output_type": "execute_result"
    }
   ],
   "source": [
    "si.interrupts.stickys.print()"
   ]
  },
  {
   "cell_type": "markdown",
   "metadata": {},
   "source": [
    "## Member functions test"
   ]
  },
  {
   "cell_type": "code",
   "execution_count": 28,
   "metadata": {},
   "outputs": [
    {
     "name": "stdout",
     "output_type": "stream",
     "text": [
      "si.CLKIN_DIVIDERS()\n",
      "si.CLOCK_SOURCEs()\n",
      "si.CRYSTAL_INTERNAL_LOAD_CAPACITANCEs()\n",
      "si.DEBUG_MODE()\n",
      "si.DEBUG_MODE_PRINT_REGISTER()\n",
      "si.DEBUG_MODE_SHOW_BUS_DATA()\n",
      "si.DENOMINATOR_BITS()\n",
      "si.DISABLE_STATEs()\n",
      "si.FREQ_MCLK()\n",
      "si.I2C_ADDRESS()\n",
      "si.INTEGER_ONLY_multisynths()\n",
      "si.N_HIGH_FREQUENCY_multisynths()\n",
      "si.N_OUTPUT_CLOCKS()\n",
      "si.N_PLLS()\n",
      "si.N_USED_OUTPUT_CLOCKS()\n",
      "si.N_multisynths_WITH_OUTPUT_SKEW()\n",
      "si.OUTPUT_STRENGTHs()\n",
      "si.PLLs()\n",
      "si.POW_2_DENOMINATOR_BITS()\n",
      "si.READ_ONLY_REGISTERS()\n",
      "si.R_DIVIDERs()\n",
      "si.close()\n",
      "si.current_frequency()\n",
      "si.current_phase()\n",
      "si.do()\n",
      "si.do_on_devices()\n",
      "si.enable()\n",
      "si.enable_output()\n",
      "si.enable_output_channel()\n",
      "si.find_integer_dividers()\n",
      "si.find_integer_pll_dividers_for_clocks()\n",
      "si.init()\n",
      "si.is_virtual_device()\n",
      "si.load_registers()\n",
      "si.pause()\n",
      "si.print()\n",
      "si.read_all_registers()\n",
      "si.ready()\n",
      "si.reset()\n",
      "si.restore_clocks_freqs()\n",
      "si.resume()\n",
      "si.revision()\n",
      "si.set_frequency()\n",
      "si.set_phase()\n",
      "si.start()\n",
      "si.status()\n",
      "si.stop()\n",
      "si.update()\n",
      "si.write_all_registers()\n"
     ]
    }
   ],
   "source": [
    "for f in dir(cls):\n",
    "    if not f.startswith('_'):\n",
    "        print('si.{}()'.format(f))"
   ]
  },
  {
   "cell_type": "code",
   "execution_count": 29,
   "metadata": {},
   "outputs": [
    {
     "ename": "AttributeError",
     "evalue": "'Si5351' object has no attribute 'apply_signal'",
     "output_type": "error",
     "traceback": [
      "\u001b[1;31m---------------------------------------------------------------------------\u001b[0m",
      "\u001b[1;31mAttributeError\u001b[0m                            Traceback (most recent call last)",
      "\u001b[1;32m<ipython-input-29-467023187913>\u001b[0m in \u001b[0;36m<module>\u001b[1;34m\u001b[0m\n\u001b[1;32m----> 1\u001b[1;33m \u001b[0msi\u001b[0m\u001b[1;33m.\u001b[0m\u001b[0mapply_signal\u001b[0m\u001b[1;33m(\u001b[0m\u001b[1;33m)\u001b[0m\u001b[1;33m\u001b[0m\u001b[1;33m\u001b[0m\u001b[0m\n\u001b[0m\u001b[0;32m      2\u001b[0m \u001b[0msi\u001b[0m\u001b[1;33m.\u001b[0m\u001b[0mcurrent_frequency\u001b[0m\u001b[1;33m(\u001b[0m\u001b[1;33m)\u001b[0m\u001b[1;33m\u001b[0m\u001b[1;33m\u001b[0m\u001b[0m\n\u001b[0;32m      3\u001b[0m \u001b[0msi\u001b[0m\u001b[1;33m.\u001b[0m\u001b[0mcurrent_phase\u001b[0m\u001b[1;33m(\u001b[0m\u001b[1;33m)\u001b[0m\u001b[1;33m\u001b[0m\u001b[1;33m\u001b[0m\u001b[0m\n\u001b[0;32m      4\u001b[0m \u001b[0msi\u001b[0m\u001b[1;33m.\u001b[0m\u001b[0mdo\u001b[0m\u001b[1;33m(\u001b[0m\u001b[1;33m)\u001b[0m\u001b[1;33m\u001b[0m\u001b[1;33m\u001b[0m\u001b[0m\n\u001b[0;32m      5\u001b[0m \u001b[0msi\u001b[0m\u001b[1;33m.\u001b[0m\u001b[0mdo_on_devices\u001b[0m\u001b[1;33m(\u001b[0m\u001b[1;33m)\u001b[0m\u001b[1;33m\u001b[0m\u001b[1;33m\u001b[0m\u001b[0m\n",
      "\u001b[1;31mAttributeError\u001b[0m: 'Si5351' object has no attribute 'apply_signal'"
     ]
    }
   ],
   "source": [
    "si.apply_signal()\n",
    "si.current_frequency()\n",
    "si.current_phase()\n",
    "si.do()\n",
    "si.do_on_devices()\n",
    "si.enable()\n",
    "si.enable_output()\n",
    "si.enable_output_channel()\n",
    "si.enable_output_integer_divider()\n",
    "si.enable_phase_offset()\n",
    "si.enable_pll_integer_divider()\n",
    "si.enable_spread_spectrum()\n",
    "si.enabled()\n",
    "si.freq_resolution()\n",
    "si.frequency()\n",
    "si.get_freq_vco_clkin()\n",
    "si.get_freq_vco_xtal()\n",
    "si.get_multisynth_nb_parameter()\n",
    "si.get_output_multisynth_divider()\n",
    "si.get_pll_multisynth_divider()\n",
    "si.init()\n",
    "si.is_abc_even_integer()\n",
    "si.is_even_integer()\n",
    "\n",
    "si.phase_resolution()\n",
    "si.power_down_all_outputs()\n",
    "si.power_down_clock_output()\n",
    "si.power_down_output()\n",
    "si.print()\n",
    "si.reset()\n",
    "si.reset_pll()\n",
    "si.reset_plls()\n",
    "\n",
    "si.select_freq_source()\n",
    "si.select_phase_source()\n",
    "si.set_center_spread()\n",
    "si.set_clock_disable_state()\n",
    "si.set_clock_invert()\n",
    "si.set_cmos_clock_source()\n",
    "si.set_divide_by_4()\n",
    "si.set_down_spread()\n",
    "si.set_frequency()\n",
    "si.set_interrupt_mask()\n",
    "si.set_interrupts_mask()\n",
    "si.set_output_driver_source()\n",
    "si.set_output_multisynth_source()\n",
    "si.set_phase()\n",
    "si.set_pll_input_source()\n",
    "si.set_r_divider()\n",
    "si.set_ss_parameters()\n",
    "si.set_vcoa()\n",
    "si.set_vcob()\n",
    "si.set_vcxo_paramenters()\n",
    "si.set_xtal_source()\n",
    "si.shape()\n",
    "si.start()\n",
    "si.pause()\n",
    "si.resume()\n",
    "si.stop()\n",
    "si.update()\n",
    "\n",
    "si.close()"
   ]
  },
  {
   "cell_type": "code",
   "execution_count": null,
   "metadata": {},
   "outputs": [],
   "source": [
    "si.phase_resolution()"
   ]
  }
 ],
 "metadata": {
  "kernelspec": {
   "display_name": "Python 3",
   "language": "python",
   "name": "python3"
  },
  "language_info": {
   "codemirror_mode": {
    "name": "ipython",
    "version": 3
   },
   "file_extension": ".py",
   "mimetype": "text/x-python",
   "name": "python",
   "nbconvert_exporter": "python",
   "pygments_lexer": "ipython3",
   "version": "3.6.10"
  }
 },
 "nbformat": 4,
 "nbformat_minor": 2
}
